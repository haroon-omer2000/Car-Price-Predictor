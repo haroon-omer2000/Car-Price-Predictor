{
  "nbformat": 4,
  "nbformat_minor": 0,
  "metadata": {
    "colab": {
      "name": "Car-Price-Predictor-Data-Analysis.ipynb",
      "provenance": [],
      "collapsed_sections": [
        "UcT0PXFMv4lA",
        "1g28iLhz8G5e",
        "87R7S2nV79Pl",
        "OojnCnlcK3tc",
        "qdvD7Af8T-7-",
        "Ll4bJABHbLkj",
        "qR0QYY2m2Gu1",
        "7sKFuB7c2T8e",
        "uZn01ButGgEK",
        "iuqJmQd6-hEz",
        "CLjYJsXdOtgK",
        "srFxjeMnT-Mm",
        "AX9d-b7Gahl5",
        "a-1ScJ7RqTIA",
        "hd0KJlrzwAvO"
      ]
    },
    "kernelspec": {
      "name": "python3",
      "display_name": "Python 3"
    },
    "widgets": {
      "application/vnd.jupyter.widget-state+json": {
        "97841649f08e49c7975327738f0878a7": {
          "model_module": "@jupyter-widgets/controls",
          "model_name": "VBoxModel",
          "state": {
            "_view_name": "VBoxView",
            "_dom_classes": [
              "widget-interact"
            ],
            "_model_name": "VBoxModel",
            "_view_module": "@jupyter-widgets/controls",
            "_model_module_version": "1.5.0",
            "_view_count": null,
            "_view_module_version": "1.5.0",
            "box_style": "",
            "layout": "IPY_MODEL_59836bcc6fb744048d7f36291046ac17",
            "_model_module": "@jupyter-widgets/controls",
            "children": [
              "IPY_MODEL_afb0cfd088c04b779a6fcdf7c0adb20b",
              "IPY_MODEL_8cfed29793aa4f6bb7294bff61f3345b",
              "IPY_MODEL_947028dd8e314ef69dbda8a25ba41cfd"
            ]
          }
        },
        "59836bcc6fb744048d7f36291046ac17": {
          "model_module": "@jupyter-widgets/base",
          "model_name": "LayoutModel",
          "state": {
            "_view_name": "LayoutView",
            "grid_template_rows": null,
            "right": null,
            "justify_content": null,
            "_view_module": "@jupyter-widgets/base",
            "overflow": null,
            "_model_module_version": "1.2.0",
            "_view_count": null,
            "flex_flow": null,
            "width": null,
            "min_width": null,
            "border": null,
            "align_items": null,
            "bottom": null,
            "_model_module": "@jupyter-widgets/base",
            "top": null,
            "grid_column": null,
            "overflow_y": null,
            "overflow_x": null,
            "grid_auto_flow": null,
            "grid_area": null,
            "grid_template_columns": null,
            "flex": null,
            "_model_name": "LayoutModel",
            "justify_items": null,
            "grid_row": null,
            "max_height": null,
            "align_content": null,
            "visibility": null,
            "align_self": null,
            "height": null,
            "min_height": null,
            "padding": null,
            "grid_auto_rows": null,
            "grid_gap": null,
            "max_width": null,
            "order": null,
            "_view_module_version": "1.2.0",
            "grid_template_areas": null,
            "object_position": null,
            "object_fit": null,
            "grid_auto_columns": null,
            "margin": null,
            "display": null,
            "left": null
          }
        },
        "afb0cfd088c04b779a6fcdf7c0adb20b": {
          "model_module": "@jupyter-widgets/controls",
          "model_name": "IntSliderModel",
          "state": {
            "_view_name": "IntSliderView",
            "style": "IPY_MODEL_b5b1443a1fb74a39920368467712e251",
            "_dom_classes": [],
            "description": "order",
            "step": 1,
            "_model_name": "IntSliderModel",
            "orientation": "horizontal",
            "max": 6,
            "_view_module": "@jupyter-widgets/controls",
            "_model_module_version": "1.5.0",
            "value": 3,
            "_view_count": null,
            "disabled": false,
            "_view_module_version": "1.5.0",
            "min": 0,
            "continuous_update": true,
            "readout_format": "d",
            "description_tooltip": null,
            "readout": true,
            "_model_module": "@jupyter-widgets/controls",
            "layout": "IPY_MODEL_7fd4163105fb4fc58fb094615ac53aa1"
          }
        },
        "8cfed29793aa4f6bb7294bff61f3345b": {
          "model_module": "@jupyter-widgets/controls",
          "model_name": "FloatSliderModel",
          "state": {
            "_view_name": "FloatSliderView",
            "style": "IPY_MODEL_eb909315520c42278675577471dc61b4",
            "_dom_classes": [],
            "description": "test_data",
            "step": 0.05,
            "_model_name": "FloatSliderModel",
            "orientation": "horizontal",
            "max": 0.95,
            "_view_module": "@jupyter-widgets/controls",
            "_model_module_version": "1.5.0",
            "value": 0.45,
            "_view_count": null,
            "disabled": false,
            "_view_module_version": "1.5.0",
            "min": 0.05,
            "continuous_update": true,
            "readout_format": ".2f",
            "description_tooltip": null,
            "readout": true,
            "_model_module": "@jupyter-widgets/controls",
            "layout": "IPY_MODEL_a6c2d9bc6be748f98f2f0b4bb4d56370"
          }
        },
        "947028dd8e314ef69dbda8a25ba41cfd": {
          "model_module": "@jupyter-widgets/output",
          "model_name": "OutputModel",
          "state": {
            "_view_name": "OutputView",
            "msg_id": "",
            "_dom_classes": [],
            "_model_name": "OutputModel",
            "outputs": [
              {
                "output_type": "display_data",
                "metadata": {
                  "tags": [],
                  "needs_background": "light"
                },
                "image/png": "iVBORw0KGgoAAAANSUhEUgAAAugAAAJCCAYAAACS3TIYAAAABHNCSVQICAgIfAhkiAAAAAlwSFlzAAALEgAACxIB0t1+/AAAADh0RVh0U29mdHdhcmUAbWF0cGxvdGxpYiB2ZXJzaW9uMy4yLjIsIGh0dHA6Ly9tYXRwbG90bGliLm9yZy+WH4yJAAAgAElEQVR4nOzdeVyVZf7/8fcFIogYrrl2ABXXVFRcMtewtBpbrKaFmWwlp3WaqWZhvi3ffsxjqplvexplozWnqaapRmdqWkzD3TAtTVORTczcBRSR7fr9cQ6ECgoK3Dfwej4ePjjnOvd9n89RyzcX1/25jLVWAAAAANwhwOkCAAAAAPyIgA4AAAC4CAEdAAAAcBECOgAAAOAiBHQAAADARQjoAAAAgIs4GtCNMW2NMe8aY74zxmwyxpxnjGlvjPnUGLPV/7Wd/1hjjHnOGJNmjPnGGDOs0nVm+I/faoyZUWl8uDFmvf+c54wxxonPCQAAANSU0zPoz0r6r7W2n6QhkjZJ+q2khdbaaEkL/c8l6WJJ0f5fCZJmSZIxpr2kRySNkjRS0iPlod5/zO2VzpvaAJ8JAAAAOG2OBXRjTLik8ZLmSJK1tshae1DS5ZLm+Q+bJ+kK/+PLJb1ufVZKamuM6SppiqRPrbX7rbUHJH0qaar/tbOstSutbzem1ytdCwAAAHClFg6+d5SkPZL+aowZImmNpPskdbbW7vQf84Okzv7H3SVtr3R+jn/sZOM5VYyfwBiTIN+svFq3bj28X79+p/+pAAAAgBpYs2bNXmttp+PHnQzoLSQNk3SPtXaVMeZZ/bicRZJkrbXGGFvfhVhrkyUlS1JsbKxNTU2t77cEAABAM2eMyapq3Mk16DmScqy1q/zP35UvsO/yL0+R/+tu/+s7JJ1T6fwe/rGTjfeoYhwAAABwLccCurX2B0nbjTF9/UNxkjZKmi+pvBPLDEn/8j+eL+lGfzeX0ZJy/UthPpZ0kTGmnf/m0Iskfex/Lc8YM9rfveXGStcCAAAAXMnJJS6SdI8krzGmpaR0STfL903DO8aYWyVlSfqp/9gPJV0iKU1Sgf9YWWv3G2Mel/Sl/7j/tdbu9z++U9JcSa0kfeT/BQAAALiW8TU4QTnWoAMAgLpWXFysnJwcFRYWOl0KHBASEqIePXooKCjomHFjzBprbezxxzs9gw4AANDk5eTkqE2bNoqMjBT7JjYv1lrt27dPOTk5ioqKqtE5Tm9UBAAA0OQVFhaqQ4cOhPNmyBijDh061OqnJwR0AACABkA4b75q+2dPQAcAAABchIAOAADQxO3bt08xMTGKiYlRly5d1L1794rnRUVFJz03NTVV99577ynfY8yYMXVS6+LFixUeHq6hQ4eqb9++Gj9+vP7973/X6Lzly5fXSQ1O4yZRAAAAt/F6pcREKTtb8nikpCQpPv60L9ehQwetW7dOkvToo48qLCxMDzzwQMXrJSUlatGi6lgYGxur2NgTGo2coC7D8bhx4ypC+bp163TFFVeoVatWiouLq/acxYsXKywsrM6+UXASM+gAAABu4vVKCQlSVpZkre9rQoJvvA7ddNNNmjlzpkaNGqWHHnpIq1ev1nnnnaehQ4dqzJgx2rx5syRf8P3JT34iyRfub7nlFk2cOFE9e/bUc889V3G9sLCwiuMnTpyoq6++Wv369VN8fLzK23p/+OGH6tevn4YPH65777234ronExMTo4cfflgvvPCCJGnBggUaNWqUhg4dqsmTJ2vXrl3KzMzU7Nmz9fTTTysmJkZLliyp8rjGghl0AAAAN0lMlAoKjh0rKPCNn8EselVycnK0fPlyBQYGKi8vT0uWLFGLFi302Wef6fe//73++c9/nnDOd999p0WLFik/P199+/bVL37xixP6e69du1bffvutunXrpvPPP1/Lli1TbGys7rjjDqWkpCgqKkrXX399jescNmyYnnrqKUnS2LFjtXLlShlj9Oqrr+rJJ5/UX/7yF82cOfOYnwwcOHCgyuMaAwI6AACAm2Rn1278DFxzzTUKDAyUJOXm5mrGjBnaunWrjDEqLi6u8pxLL71UwcHBCg4O1tlnn61du3apR48exxwzcuTIirGYmBhlZmYqLCxMPXv2rOgFfv311ys5OblGdVbeWDMnJ0fXXnutdu7cqaKiomp7i9f0ODdiiQsAAICbeDy1Gz8DrVu3rnj8P//zP5o0aZI2bNigBQsWVNu3Ozg4uOJxYGCgSkpKTuuY2li7dq369+8vSbrnnnt09913a/369Xr55ZerrbOmx7kRAR0AAMBNkpKk0NBjx0JDfeP1KDc3V927d5ckzZ07t86v37dvX6WnpyszM1OS9Pbbb9fovG+++UaPP/647rrrrhPqnDdvXsVxbdq0UX5+fsXz6o5rDAjoAAAAbhIfLyUnSxERkjG+r8nJdb7+/HgPPfSQfve732no0KFnPONdlVatWumll17S1KlTNXz4cLVp00bh4eFVHrtkyZKKNot33XWXnnvuuYoOLo8++qiuueYaDR8+XB07dqw4Z9q0aXr//fcrbhKt7rjGwFRe0wMpNjbWpqamOl0GAABoQjZt2lSxRKM5O3TokMLCwmSt1V133aXo6Gjdf//9TpfVIKr6O2CMWWOtPaGHJTPoAAAAaBCvvPKKYmJiNHDgQOXm5uqOO+5wuiRXoosLAAAAGsT999/fbGbMzwQz6AAAAICLENABAAAAFyGgAwAAAC5CQAcAAABchIAOAADQxO3bt08xMTGKiYlRly5d1L1794rnRUVFpzx/8eLFWr58eZWvzZ07V506ddLQoUMVHR2tKVOmVHtsZR988IE2btxY68/SHBDQAQAAXMa73qvIZyIV8FiAIp+JlHe994yu16FDB61bt07r1q3TzJkzdf/991c8b9my5SnPP1lAl6Rrr71Wa9eu1datW/Xb3/5W06dP16ZNm056TQJ69QjoAAAALuJd71XCggRl5WbJyiorN0sJCxLOOKQfb82aNZowYYKGDx+uKVOmaOfOnZKk5557TgMGDNDgwYN13XXXKTMzU7Nnz9bTTz9dsUvnyUyaNEkJCQlKTk6W5Ot9PmLECA0ZMkRXXXWVCgoKtHz5cs2fP18PPvigYmJitG3btiqPa64I6AAAAC6SuDBRBcXHhtOC4gIlLkyss/ew1uqee+7Ru+++qzVr1uiWW25RYqLv+n/605+0du1affPNN5o9e7YiIyOPmXUfN27cKa8/bNgwfffdd5Kk6dOn68svv9TXX3+t/v37a86cORozZowuu+wyPfXUU1q3bp169epV5XHNFRsVAQAAuEh2bnatxk/H0aNHtWHDBl144YWSpNLSUnXt2lWSNHjwYMXHx+uKK67QFVdccVrXt9ZWPN6wYYP+8Ic/6ODBgzp06JCmTJlS5Tk1Pa45IKADAAC4iCfco6zcrCrH64q1VgMHDtSKFStOeO0///mPUlJStGDBAiUlJWn9+vW1vv7atWvVv39/SdJNN92kDz74QEOGDNHcuXO1ePHiKs+p6XHNAUtcAAAAXCQpLkmhQaHHjIUGhSopLqnO3iM4OFh79uypCOjFxcX69ttvVVZWpu3bt2vSpEl64oknlJubq0OHDqlNmzbKz8+v0bW/+OILJScn6/bbb5ck5efnq2vXriouLpbX++M6+uOvWd1xzREBHQAAwEXiB8UreVqyIsIjZGQUER6h5GnJih8UX2fvERAQoHfffVe/+c1vNGTIEMXExGj58uUqLS3Vz372Mw0aNEhDhw7Vvffeq7Zt22ratGl6//33q71J9O2331ZMTIz69OmjP/7xj/rnP/9ZMYP++OOPa9SoUTr//PPVr1+/inOuu+46PfXUUxo6dKi2bdtW7XHNkam8RghSbGysTU1NdboMAADQhGzatKkisKJ5qurvgDFmjbU29vhjmUEHAAAAXISADgAAALgIAR0AAABwEQI6AAAA4CIEdAAAAMBFCOgAAACAixDQAQAAmoHAwEDFxMTo3HPP1TXXXKOCgoLTvtZNN92kd999V5J02223aePGjdUeu3jxYi1fvrzW7xEZGam9e/dWOT5o0CDFxMRU9G+vK8fXOnv2bL3++ut1dv2aatHg7wgAAIAG16pVK61bt06SFB8fr9mzZ+tXv/pVxeslJSVq0aL20fDVV1896euLFy9WWFiYxowZU+trV2fRokXq2LFjnV2v3PG1zpw5s87foyaYQQcAAGhmxo0bp7S0NC1evFjjxo3TZZddpgEDBqi0tFQPPvigRowYocGDB+vll1+WJFlrdffdd6tv376aPHmydu/eXXGtiRMnqnyTx//+978aNmyYhgwZori4OGVmZmr27Nl6+umnK3Yh3bNnj6666iqNGDFCI0aM0LJlyyRJ+/bt00UXXaSBAwfqtttuU20206xcw969exUZGSlJmjt3rqZPn66pU6cqOjpaDz30UMU5Nan10Ucf1Z///GdJ0rp16zR69GgNHjxYV155pQ4cOFDx3r/5zW80cuRI9enTp8qdVmuLGXQAAIAG9NiCb7Xx+7w6veaAbmfpkWkDa3RsSUmJPvroI02dOlWS9NVXX2nDhg2KiopScnKywsPD9eWXX+ro0aM6//zzddFFF2nt2rXavHmzNm7cqF27dmnAgAG65ZZbjrnunj17dPvttyslJUVRUVHav3+/2rdvr5kzZyosLEwPPPCAJOmGG27Q/fffr7Fjxyo7O1tTpkzRpk2b9Nhjj2ns2LF6+OGH9Z///Edz5syp9jNMmjRJgYGBCg4O1qpVq076edetW6e1a9cqODhYffv21T333KOQkJAa1bpw4cKK69x44416/vnnNWHCBD388MN67LHH9Mwzz1T8nq5evVoffvihHnvsMX322Wc1+rOoDgEdAACgGThy5IhiYmIk+WbQb731Vi1fvlwjR45UVFSUJOmTTz7RN998U7G+PDc3V1u3blVKSoquv/56BQYGqlu3brrgggtOuP7KlSs1fvz4imu1b9++yjo+++yzY9as5+Xl6dChQ0pJSdF7770nSbr00kvVrl27aj9LbZa4xMXFKTw8XJI0YMAAZWVl6cCBAzWqtVxubq4OHjyoCRMmSJJmzJiha665puL16dOnS5KGDx+uzMzMGtV1MgR0AACABlTTme66VnkNemWtW7eueGyt1fPPP68pU6Ycc8yHH35YZ3WUlZVp5cqVCgkJqbNrtmjRQmVlZZKkwsLCY14LDg6ueBwYGKiSkpI6e9/j36Ours8adAAAAEiSpkyZolmzZqm4uFiStGXLFh0+fFjjx4/X22+/rdLSUu3cuVOLFi064dzRo0crJSVFGRkZkqT9+/dLktq0aaP8/PyK4y666CI9//zzFc/Lv2kYP3683nzzTUnSRx99VLHGuyYiIyO1Zs0aSaqY/T+ZmtZaLjw8XO3atatYX/7GG29UzKbXBwI6AAAAJPlaJg4YMEDDhg3TueeeqzvuuEMlJSW68sorFR0drQEDBujGG2/Ueeedd8K5nTp1UnJysqZPn64hQ4bo2muvlSRNmzZN77//fsWNl88995xSU1M1ePBgDRgwQLNnz5YkPfLII0pJSdHAgQP13nvvyePx1LjuBx54QLNmzdLQoUOrbM14urVWNm/ePD344IMaPHiw1q1bp4cffrjG9dWWqc0dss1BbGysLb8LGAAAoC5s2rRJ/fv3d7oMOKiqvwPGmDXW2tjjj2UGHQAAAHARAjoAAADgIgR0AACABsCy4uartn/2BHQAAIB6FhISon379hHSmyFrrfbt21ertpL0QQcAAKhnPXr0UE5Ojvbs2eN0KXBASEiIevToUePjCegAAAD1LCgoqGLXSuBUWOICAAAAuAgBHQAAAHARAjoAAADgIgR0AAAAwEUI6AAAAICLENABAAAAFyGgAwAAAC5CQAcAAABchIAOAAAAuAgBHQAAAHARAjoAAADgIgR0AAAAwEUI6AAAAICLENABAAAAFyGgAwAAAC5CQAcAAABchIAOAAAAuAgBHQAAAHARAjoAAADgIgR0AAAAwEUcDejGmExjzHpjzDpjTKp/rL0x5lNjzFb/13b+cWOMec4Yk2aM+cYYM6zSdWb4j99qjJlRaXy4//pp/nNNw39KAAAAoObcMIM+yVobY62N9T//raSF1tpoSQv9zyXpYknR/l8JkmZJvkAv6RFJoySNlPRIeaj3H3N7pfOm1v/HAQAAAE6fGwL68S6XNM//eJ6kKyqNv259Vkpqa4zpKmmKpE+ttfuttQckfSppqv+1s6y1K621VtLrla4FAAAAuJLTAd1K+sQYs8YYk+Af62yt3el//IOkzv7H3SVtr3Rujn/sZOM5VYyfwBiTYIxJNcak7tmz50w+DwAAAHBGWjj8/mOttTuMMWdL+tQY813lF6211hhj67sIa22ypGRJio2Nrff3AwAAAKrj6Ay6tXaH/+tuSe/Lt4Z8l395ivxfd/sP3yHpnEqn9/CPnWy8RxXjAAAAgGs5FtCNMa2NMW3KH0u6SNIGSfMllXdimSHpX/7H8yXd6O/mMlpSrn8pzMeSLjLGtPPfHHqRpI/9r+UZY0b7u7fcWOlaAAAAgCs5ucSls6T3/Z0PW0h601r7X2PMl5LeMcbcKilL0k/9x38o6RJJaZIKJN0sSdba/caYxyV96T/uf621+/2P75Q0V1IrSR/5fwEAAACuZXwNTlAuNjbWpqamOl0GAAAAmjhjzJpKrcYrON3FBQAAAEAlBHQAAADARQjoAAAAgIsQ0AEAAAAXIaADAAAALkJABwAAAFyEgA4AAAC4CAEdAAAAcBECOgAAAOAiBHQAAADARQjoAAAAgIsQ0AEAAAAXIaADAAAALkJABwAAAFyEgA4AAAC4CAEdAAAAcBECOgAAAOAiBHQAAADARQjoAAAAgIsQ0AEAAAAXIaADAAAALkJABwAAAFyEgA4AAAC4CAEdAAAAcBECOgAAAOAiBHQAAADARQjoAAAAgIsQ0AEAcJh3vVeRz0Qq4LEART4TKe96r9MlAXBQC6cLAACgOfOu9yphQYIKigskSVm5WUpYkCBJih8U72RpABzCDDoAAA5KXJhYEc7LFRQXKHFhokMVAXAaAR0AAAdl52bXahxA00dABwDAQZ5wT63GATR9BHQAAByUFJek0KDQY8ZCg0KVFJfkUEUAnEZABwDAQfGD4pU8LVkR4REyMooIj1DytGRuEAWaMWOtdboGV4mNjbWpqalOlwEAAIAmzhizxlobe/w4M+gAAACAixDQAQAAABchoAMAAAAuQkAHAAAAXISADgAAALgIAR0AAABwEQI6AAAA4CIEdAAAAMBFCOgAAACAixDQAQAAABchoAMAAAAuQkAHAAAAXISADgAAALgIAR0AAABwEQI6AAAA4CIEdAAAAMBFCOgAAACAixDQAQAAABchoAMAAAAuQkAHAAAAXISADgAAALgIAR0AAABwEQI6AAAA4CIEdAAAGpLXK0VGSgEBvq9er9MVAXCZFk4XAABAs+H1SgkJUkGB73lWlu+5JMXHO1cXAFdhBh0AgIaSmPhjOC9XUOAbBwA/AjoAAA0lO7vq8awslr0AqEBABwCgoXg8VY8b4wvp1v647IWQDjRbBHQAABpKUpIUGnrsmDG+YF4Zy16AZo2ADgBAQ4mPl5KTpYgIXzCPiDgxnJerbjkMgCaPgA4AQEOKj5cyM6WyMt/XiIiqj6tuOQyAJo+ADgCAk6pa9hIa6hsH0CwR0AEAcFJVy16Sk+mLDjRjbFQEAIDT4uMJ5AAqOD6DbowJNMasNcb82/88yhizyhiTZox52xjT0j8e7H+e5n89stI1fucf32yMmVJpfKp/LM0Y89uG/mwAAABAbTke0CXdJ2lTpedPSHraWttb0gFJt/rHb5V0wD/+tP84GWMGSLpO0kBJUyW95A/9gZJelHSxpAGSrvcfCwAAALiWowHdGNND0qWSXvU/N5IukPSu/5B5kq7wP77c/1z+1+P8x18u6S1r7VFrbYakNEkj/b/SrLXp1toiSW/5jwUAAABkrVVxaZnTZZzA6Rn0ZyQ9JKn8d6aDpIPW2hL/8xxJ3f2Pu0vaLkn+13P9x1eMH3dOdeMnMMYkGGNSjTGpe/bsOdPPBAAAAJdbsW2frnhxmV5Zku50KSdwLKAbY34iabe1do1TNZSz1iZba2OttbGdOnVyuhwAAADUk43f52nGa6t1/SsrtTv/qHq0Cz31SQ3MyS4u50u6zBhziaQQSWdJelZSW2NMC/8seQ9JO/zH75B0jqQcY0wLSeGS9lUaL1f5nOrGAQAA0Ixs31+gv3yyWf/6+nudFRKk313cTzPGRCokKNDp0k7gWEC31v5O0u8kyRgzUdID1tp4Y8w/JF0t35rxGZL+5T9lvv/5Cv/rn1trrTFmvqQ3jTH/J6mbpGhJqyUZSdHGmCj5gvl1km5ooI8HAAAAF9h76Khe+DxN3lVZCgwwmjmhl2ZO6KXwVkFOl1YtN/ZB/42kt4wx/0/SWklz/ONzJL1hjEmTtF++wC1r7bfGmHckbZRUIukua22pJBlj7pb0saRASa9Za79t0E8CAAAARxw6WqJXUtL16pJ0FZaU6aex5+iXk6PV+awQp0s7JWOtdboGV4mNjbWpqalOlwEAAIDTcLSkVG+uytYLn6dp3+EiXTKoi359UV/16hTmdGknMMassdbGHj/uxhl0AAAAoFbKyqzmf/29/vzJZuUcOKLzenbQby7up5hz2jpdWq0R0AEAANBoWWu1eMsePfnfzdq0M08Dup6lebcM0vjojvJtmdP4ENABAADQKH2VfUBPfPSdVmXsl6d9qJ69LkbTBndTQEDjDOblCOgAAABoVNJ2H9JTH3+nj7/dpY5hLfW/lw/UdSM8atnC6T046wYBHQAAAI3CztwjeubTrfrHmu0KbdlCv7qwj24dG6XWwU0r0jatTwMAAIAm52BBkWYt3qa5yzNlrXTTmCjdNamXOoQFO11avSCgAwAAwJUKi0v112WZmrU4TflHS3RlTHfdf2EfndM+1OnS6hUBHQAAAK5SUlqmf6zJ0TOfbdGuvKO6oN/ZenBKX/XvepbTpTUIAjoAAABcwVqrj7/9QU9+vFnpew5rqKetnrtuqEb17OB0aQ2KgA4AAADHLU/bqyc/3qx12w+q99lhevnnw3XRgM6Ntpf5mSCgAwAAwDFfbz+opz7erKVpe9U1PERPXjVY04d1V4vAptEy8XQQ0AEAANDgtu7K158/2ayPv92l9q1b6n9+MkDxozwKCQp0ujTHEdABAADQYLbvL9DTn23RB2t3KLRlC90/uY9uHRelsCbWy/xM8DsBAACAerc7v1Avfp6mN1dnK8AY3Taup2ZO6KX2rVs6XZrrENABAIAreNd7lbgwUdm52fKEe5QUl6T4QfFOl4UzlHukWC9/sU1/XZapotIy/TT2HN0XF60u4SFOl+ZaBHQAABoQIbRq3vVeJSxIUEFxgSQpKzdLCQsSJInfn0bqSFGp/ro8Q7MXb1NeYYkuG9JN91/YR1EdWztdmusZa63TNbhKbGysTU1NdboMAEATdHwIlaTQoFAlT0tu9iE08plIZeVmnTAeER6hzF9mNnxBOG1FJWV6+8tsPfd5mvbk+zYZeuCivhrQrXlsMlQbxpg11trY48eZQQcAoIEkLkw8JpxLUkFxgRIXJjb7gJ6dm12rcbhPaZnVv9bt0NOfbdH2/Uc0Mqq9ZsUPU2xke6dLa3QI6AAANBBCaPU84Z4qZ9A94R4HqkFtWGv1ycZd+ssnm7Vl1yEN7HaW5t58rib06dQsNxmqC823AzwAAA2surBJCJWS4pIUGhR6zFhoUKiS4pIcqgg1sTxtr658abnueGONSkqtXrxhmBbcPVYT+55NOD8DzKADANBAkuKSqlyDTgj98UZQbqBtHNZtP6g/+3f/7BYeoieuGqSrhvVo1rt/1iVuEj0ON4kCAOoTXVzQmB2/++ddk3qz++cZqO4mUQL6cQjoAAAAxzp+98/bx/Vs9Lt/uuGbZbq4AAAAoFZ25xXqxUVNb/dPt/fdJ6ADAADgGPsPF+nlL7Zp3opMlZRaXdPEdv90e8tTAjoAADXghh+HA/Ut90ix5ixJ15ylGSooLtWVMd113+RoRXRoWrt/ur3lKQEdAIBTcPuPw4EzdfhoieYuz1RySrpyjxTr0kFd9cvJ0Yru3Mbp0uqF2/vu0wsHAIBTONmPw4HGrLC4VHOWZmjCU4v01MebFRvRTv++Z6xejB/WZMO55P6++8ygAwBwCm7/cThQW0UlZXondbte+DxNP+QVamzvjvrVRX00zNPO6dIahNv77hPQAQCnz+uVEhOl7GzJ45GSkqR4d/wDV5fc/uNwoKZKSsv0wbrv9ezCLdq+/4iGR7TT09fG6LxeHZwurcHFD4p3TSA/HgEdAHB6vF4pIUEq8C/9yMryPZeaXEhnB1A0dmVlVv9Zv1NPf7ZF6XsOa1D3cD1+87ma0KeTjDFOl4fjsFHRcdioCABqKDLSF8qPFxEhZWY2dDX1ji4uaIystfps02795ZPN+u6HfPXpHKZfXdhXUwZ2Jpi7ADuJ1hABHQBqKCBAqurfEGOksrKGrwdABWutlqbt1Z8/2aKvtx9UZIdQ3X9hH/1kcDcFBhDM3YKdRAEAdcvjqXoG3cO6bMBJqzP268+fbNbqjP3q3raVnrxqsKYP664WgTTvaywI6ACA05OUdOwadEkKDfWNA2hwX28/qL98ukUpW/aoU5tg/e/lA3XtiHMU3CLQ6dJQSwR0AMDpKb8RtBl0cQHc7Lsf8vSXT7bo04271C40SL+/pJ9+PjpSrVoSzBsrAjoAAEAjlL7nkJ7+bKv+/c33CgtuoV9f2Ec3j41SWDDxrrHjTxAAcHqaUZtFNAw65dRM9r4CPf/5Vv3zqxyFBAXqzom9lDCul8JDg5wuDXWELi7HoYsLANRQM2uziPrlXe+tstd88rRkQrpfzoECvbgoTf9IzVFggNHPRkfoFxN7qWNYsNOl4TTRZrGGCOgAUEO0WUQdinwmssrdWiPCI5T5y8yGL8hFduYe0YuL0vT2l9tlZHTDKI9+MbGXOp8V4nRpOEO0WQQA1Mlwb1YAACAASURBVC3aLKIOZedm12q8OdiVV6iXFqXp76u3y8rq2hHn6K5JvdU1vJXTpaGeEdABAKeHNouoQ55wT5Uz6J7w5vcN3+78Qs1enC7vqiyVllldE9tDd03qrR7tQp0uDQ2EgA4AOD20WUQdSopLqnINelJc8/mGb9+ho3o5JV2vr8hUcanVVcO6654LonVOe4J5c0NABwCcvvh4AjnqRPmNoM2xi8uBw0VKXpKuecszVVhcqitiuuueuGhFdWztdGlwCDeJHoebRAEAQEPILSjWq0vT9drSDBUUl2ra4G66Ny5avc8Oc7o0NBBuEgUAAHCBvMJivbY0Q3OWZCj/aIkuHdxV98VFq0/nNk6XBpcgoAMAADSAQ0dLNHdZhpJT0pVXWKKpA7vovsnR6t/1LKdLg8sQ0AEAAOrR4aMlen1Fll5O2aaDBcWa3L+zfjk5Wud2D3e6NLgUAR0AAKAeHCkq1d9WZmn2F9u073CRJvXtpF9O7qMh57R1ujS4HAEdAAC4gne9t0l0cSksLpV3VbZmLd6mvYeOalx0R91/YR8N87RzujQ0EgR0AADgOO967zF90LNys5SwIEGSGk1IP1pSqrdWb9eLi9K0O/+oxvTqoFk/G6YRke2dLg2NTIDTBQAA0Bh413sV+UykAh4LUOQzkfKu9zpdUpOSuDDxmE2KJKmguECJCxMdqqjmjpaU6o0VmZr41GI9Mv9bRXZorb/fPlpv3j6acI7Twgw6AACn0BRmd90uOze7VuNucLSkVO98uV0vLd6mnbmFGh7RTn++ZojG9OogY4zT5aERI6ADAHAKJ5vdJaDXDU+4R1m5WVWOu01hcaneSd2ulxZt0w95hYqNaKenrh6i83sTzFE3COgAAJxCY5zdbWyS4pKO+SmFJIUGhSopLsnBqo51fDAfEdlOf/kpM+aoewR0AABOoTHN7jZW5T+JcGMXl8LiUr395Xa9tDhNu/KOakRkO/3fT4foPII56gkBHUDT4/VKiYlSdrbk8UhJSVK88//Io/FqDLO7TUH8oHhXBPJyhcWlemt1tmZ9sU278o5qZGR7Pf3TGII56h0BHUDT4vVKCQlSgT9IZWX5nkuEdJw2N8/uou6dEMyj2uvpa2N0Xk+CORqGsdY6XYOrxMbG2tTUVKfLAHC6IiN9ofx4ERFSZmZDVwOgESksLtXfV/s2GNqd7wvm90/uo/N6dXC6NDRRxpg11trY48eZQQfQtGRXc9NedeMAmr3C4lK9uco3Y74n/6hGRbXXs9cNJZjDMQR0AE2Lx1P1DLqHm/kAHOv4YD66Z3s9RzCHCxDQATQtSUnHrkGXpNBQ3zgAyBfMvauyNdsfzM/r2UHPXz9Uo3sSzOEOBHQATUv5jaB0cYFLedd7udnUIUeKSuVdlaXZX6Rr76GjGtOrg164fqhGEczhMtwkehxuEgUA1Bfvem+V7RqTpyUT0utRVcH8vrhogjkcx02iAAA4LHFh4jHhXJIKiguUuDCRgF4Pjg/m5/fuoJfihmlkVHunSwNOioAOAEADyc6tuptQdeM4PYePluiNlVl6dUm69h4q0tjeHXXf5GEaEUkwR+NAQAcAoIF4wj3Kyj2xy5AnnC5DdSGvsFivL8/UnKUZOlBQrHHRHXVvXDTBHI0OAR0AgAaSFJdU5Rr0pDi6DJ2J3IJivbYsQ39dlqG8whLF9Ttbd1/QW0M97ZwuDTgtjgV0Y0yIpBRJwf463rXWPmKMiZL0lqQOktZI+rm1tsgYEyzpdUnDJe2TdK21NtN/rd9JulVSqaR7rbUf+8enSnpWUqCkV621f2rAjwgAwDHK15nTxaVu7D9cpDlL0zVveZYOHS3RlIGddc8F0Tq3e7jTpQFnxLEuLsYYI6m1tfaQMSZI0lJJ90n6laT3rLVvGWNmS/raWjvLGHOnpMHW2pnGmOskXWmtvdYYM0DS3yWNlNRN0meS+vjfZoukCyXlSPpS0vXW2o0nq4suLgAAuNue/KN6ZUm6/rYyS0eKS3XJoK6654Le6tflLKdLA2rFdV1crO87g0P+p0H+X1bSBZJu8I/Pk/SopFmSLvc/lqR3Jb3gD/mXS3rLWntUUoYxJk2+sC5JadbadEkyxrzlP/akAR0AALjTrrxCzf5im95cla3i0jJdNqSb7r6gt3qf3cbp0oA65egadGNMoHzLWHpLelHSNkkHrbUl/kNyJHX3P+4uabskWWtLjDG58i2D6S5pZaXLVj5n+3Hjo6qpI0FSgiR52A4cAABX2XHwiGYv3qa3U7ertMxq+tDuunNSb0V1bO10aUC9cDSgW2tLJcUYY9pKel9SP4fqSJaULPmWuDhRAwAAOFb2vgK9tDhN//wqR5J09fBzdOfEXjqnfajDlQH1yxVdXKy1B40xiySdJ6mtMaaFfxa9h6Qd/sN2SDpHUo4xpoWkcPluFi0fL1f5nOrGAQCAS6XvOaQXF23TB+t2KDDA6PqRHs2c0Evd2rZyujSgQTjZxaWTpGJ/OG8l382cT0haJOlq+Tq5zJD0L/8p8/3PV/hf/9xaa40x8yW9aYz5P/luEo2WtFqSkRTt7wqzQ9J1+nFtOwAAcJmtu/L1wqI0Lfj6e7VsEaCbxkQqYXxPdT4rxOnSgAbl5Ax6V0nz/OvQAyS9Y639tzFmo6S3jDH/T9JaSXP8x8+R9Ib/JtD98gVuWWu/Nca8I9/NnyWS7vIvnZEx5m5JH8vXZvE1a+23DffxAABATWzamacXPk/Thxt2qlVQoG4f31O3j+upjmHBTpcGOMKxNotuRZtFAAAaxvqcXD33+VZ9unGX2gS30IwxkbplbJTat27pdGlAg3Bdm0UAANA8fZV9QM8v3KpFm/forJAW+uXkaN08JkrhoUFOlwa4AgEdAAA0iNUZ+/X851u1ZOtetQsN0oNT+urG8yLUJoRgDlRGQAcAAPXGWqsvtuzRi4vS9GXmAXUMa6nfX9JP8aMi1DqYGAJUhf8yAABAnSsrs/pk4y69uChN63fkqmt4iB6dNkDXjfQoJCjQ6fIAVyOgAwCAOlNSWqZ/f7NTLy1O05ZdhxTZIVRPXDVIVw7toZYtApwuD2gUCOgAmhzvrDuVmJ6s7Nal8hwOVFLPBMX/4iWnywKatKMlpXrvqx2atXibsvcXqG/nNnr2uhhdOqirWgQSzIHaIKADaFK8s+5Uwo5ZKgjzPc8KK1XCjlnSLBHSgXpwpKhUf1+dreSUdP2QV6ghPcL1h0uHa3L/zgoIME6XBzRKBHQATUpienJFOC9XEOQbjxcBHagr+YXFen1Fll5bmqF9h4s0Mqq9nrx6sMZFd5QxBHPgTBDQATQp2a1LazUOoHYOHC7SX5dl6K/LM5VfWKIJfTrp7gt6a0Rke6dLA5oMAjqAJsVzOFBZYSeGcc9hukYAZ2J3XqFeWZIu76psFRSVaurALrprUm8N6hHudGlAk0NAB9CkJPVM8K1Br7TvSWixbxxA7W3fX6CXU7bpndQclZSW6bIh3XTnpN7q07mN06UBTRYBHUCTEv+Ll6RZoosLcIa27TmklxZt07/W7ZAx0tXDe2jmhF6K6NDa6dKAJs9Ya52uwVViY2Ntamqq02UAAOCIb7/P1UuLtunDDTsV3CJA14/0KGF8T3UNb+V0aUCTY4xZY62NPX6cGXQAAKCvsg/oxc/TtPC73QoLbqFfTOilW8ZGqWNYsNOlAc0OAR0AgGbKWqsV2/bphUVpWr5tn9qGBulXF/bRjPMiFR4adOoLAKgXBHQAAJqZsjKrhd/t1kuL07Q2+6A6tQlW4iX9dcMoj1oHEw0Ap/FfIQAAzURJaZkWfPO9Zi3epi27DqlHu1Z6/Ipzdc3wHgoJohUp4BYEdAAAmrjC4lL9I3W7Xk5JV86BI+rTOUxPXztEPxncTUGBAU6XB+A4BHQAAJqovMJi/W1lll5bmqG9h4o01NNWj0wbqLh+ZysgwDhdHoBqENABAGhi9uQf1WvLMvS3FVnKP1qicdEddefE3hrds72MIZgDbkdABwCgidi+v0DJKel6J3W7ikrLdMm5XTVzQi8N6hHudGkAaoGADgBAI7dlV75mLd6m+V9/rwAjTR/aQ3dM6KmencKcLg3AaSCgAwDQSH2VfUAvLdqmzzbtUqugQN00JlK3jYti10+gkSOgAwDQiFhrtWTrXr20OE0r0/erbWiQ7ouL1k1jItWudUunywNQB2oU0I0xfSTNktTZWnuuMWawpMustf+vXqsDAACSpNIyq/9u+EGzvkjThh156nJWiP5waX9dP5LNhYCmpqb/Rb8i6UFJL0uStfYbY8ybkgjoAADUo6KSMr2/Nkcvf5Gu9L2HFdWxtZ64apCuGNpdwS3YXAhoimoa0EOttauPa81UUg/1AMCZ83qlxEQpO1vyeKSkJCk+3umqgFo5fLREf1+drVeXZOiHvEIN7HaWXrxhmKae20WB9DAHmrSaBvS9xphekqwkGWOulrSz3qoCgNPl9UoJCVJBge95VpbvuURIR6NwsKBIc5dnau7yTB0sKNaoqPZ64urBGh/dkR7mQDNhrLWnPsiYnpKSJY2RdEBShqSfWWsz67U6B8TGxtrU1FSnywBwuiIjfaH8eBERUmZmQ1cD1NgPuYV6dUm63lydrYKiUk3uf7Z+MbG3hke0c7o0APXEGLPGWht7/HiNZtCttemSJhtjWksKsNbm13WBAFAnsrNrNw44LG13vl7+Il0frNuhMitdNqSbZk7opb5d2jhdGgCH1LSLyx8lPWmtPeh/3k7Sr621f6jP4gCg1jyeqmfQPZ6GrwU4iTVZBzT7i236dOMuhQQF6IaRHt02rqfOaR/qdGkAHFbTNegXW2t/X/7EWnvAGHOJJAI6AHdJSjp2DbokhYb6xgGHlZVZLdq8W7O/2KYvMw+obWiQ7o2L1ozzItQhLNjp8gC4RE0DeqAxJthae1SSjDGtJPF/EgDuU34jKF1c4CJFJWWa//X3Sk7Zpi27Dql721Z6ZNoAXTviHIW2pIc5gGPV9P8KXkkLjTF/9T+/WdK8+ikJAGqounaK5b8Ah5W3SpyzNEM7cwvVr0sbPXNtjC4d3FVBgQFOlwfApWp6k+gTxphvJMX5hx631n5cf2UBwCnQThEutvfQUc1dlqk3VmYp90ixRvdsrz9OH6SJfTrRKhHAKdWozWJzQptFoJGgnSJcKGvfYSWnpOvdNTkqKi3TlAFddMeEnhrqoVUigBOdVptFY8xSa+1YY0y+/JsUlb8kyVprz6rjOgGgZminCBdZn5Or2Snb9NH6nWoREKCrhnfXbeN6qlenMKdLA9AInTSgW2vH+r/SjBWAu9BOEQ6z1mpp2l7N/mKblqXtU5vgFkoY30u3nB+ps88Kcbo8AI3YKdegG2MCJX1rre3XAPUAQM3QThEOKSkt04cbftDLX2zTt9/n6ew2wfrdxf10wyiP2oQEOV0egCbglAHdWltqjNlsjPFYa/nZMQB3aMLtFL3rvUpcmKjs3Gx5wj1KiktS/KDG/7kau8LiUv0jdbteWZKh7P0F6tmptZ68arAuH9pNwS0CnS4PQBNS0zaL7SR9a4xZLelw+aC19rJ6qQoAaqIJtlP0rvcqYUGCCop9PxnIys1SwgJfdxpCujMOFhTp9RVZmrc8U/sOF2mop60SL+2vC/t3VkAAHVkA1L2aBvT/qdcqAACSpMSFiRXhvFxBcYESFyYS0BvYjoNHNGdJht76MlsFRaW6oN/Zmjmhl0ZEtqNVIoB6daouLiGSZkrqLWm9pDnW2pKGKAwAmqPs3KpXElY3jrq3aWeeXklJ1/yvv5ckXRbTTXeM76W+XeiXAKBhnGoGfZ6kYklLJF0saYCk++q7KABorjzhHmXlntidxhNOd5r6ZK3VsrR9ejllm5Zs3avQloG68bxI3TouSt3btnK6PADNzKkC+gBr7SBJMsbMkbS6/ksCgOYrKS7pmDXokhQaFKqkOLrT1Ifi0jL955udSk5J18adeerUJlgPTe2r+JERCg+lIwsAZ5wqoBeXP7DWlrDmDgDqV/k6c7q41K/8wmK9/eV2vbY0Q9/nFir67DA9efVgXR5DRxYAzjPW2upfNKZUP3ZtMZJaSSpQE95JNDY21qampjpdBgCgHvyQW6i/Ls/Qm6uylV9YotE92ythfE9N7HM2HVkANDhjzBprbezx46faSZRpBABAo/fdD3l6JSVD87/eodIyq0sGdVXC+J4a3KOt06UBwAlq2mYRAM6c19skNxaCO1lrtWLbPr2ckq4vtuxRq6BAxY+K0K1jo3RO+1CnywOAahHQATQMr1dKSJAK/Dc/ZmX5nkuEdNSp4tIyfbh+p15Zkq4NO/LUMSxYD07pq/hRHrUNbel0eQBwSgFOFwDAZbxeKTJSCgjwffV66+a6iYk/hvNyBQW+caAOHDpaojlLMzTxqcW67611OlJUqj9NH6Slv5mkuyb1JpwDaDSYQQfwo/qc5c6uZqOd6saBGtqVV6i5yzPlXZmlvMISjYxqr8cuG6gL+nHjJ4DGiYAO4Ecnm+U+04Du8fgCf1XjwGnYsitfr6Sk64N1vhs/Lz63q24bF6WhnnZOlwYAZ4SADuBH9TnLnZR07Oy8JIWG+sZRa9713mbZK91aqxXp+/RKSroWbd6jkKAA3TDSo1vGRimiQ2unywOAOkFAB/Cj+pzlLp+Bp4vLGfOu9x6z22hWbpYSFviWIjXVkF5SWqaPNvyg5JR0rd+Rqw6tW+pXF/bRz0dHqF1r1pYDaFpOulFRc8RGRWjWjl+DLvlmuZOTCdIuEvlMpLJyT/xGKiI8Qpm/zGz4gurR4aMleid1u+YszVDOgSPq2bG1bhvXU9OHdVdIEFt1AGjcTmujIgDNDLPcjUJ2btVLjqobb4x25h7R3OWZ+vuqbOUVlig2op0e/skATe7fmRs/ATR5BHQAx4qPJ5CfgYZYG+4J91Q5g+4Jb/w33G7YkatXl6Tr39/sVJn13fh567goDePGTwDNCAEdAOpIQ60NT4pLOuZ9JCk0KFRJcY3zhtuyMqtFm3frlSXpWpm+X61bBurG8yJ18/mR7PgJoFliDfpxWIMO4HQ15NrwptDF5UhRqd5bm6M5SzOUvuewuoaH6ObzI3XtCI/CWwU5XR4A1DvWoANoctwWUhtybXj8oPhGF8jL7c4v1N9WZOmNlVk6UFCsQd3D9ex1MbpkUFcFBbLBNQAQ0AE0St71XiW8f4sKbJEk/3KS92+R5Fyrwaa8NrwubP4hX68uSde/1n2v4rIyxfXrrNvHRWlkVHsZw42fAFCOgA6gUUqcf19FOC9XYIuUOP8+xwJ6U1sbXhestVqyda9eWZKuJVv3KiQoQD8d0UO3nB+lnp3CnC4PAFyJgA6gUcou3idVMemaXbyv4YvxK//GwE3LbpxytKRU/1r3veYsydDmXfnq1CZYD1zUR/Gj2FgIAE6FgA6gUfLkSlltqx53UmNeG14X9h8ukndlluatyNLeQ0fVr0sbPXX1YF0W003BLdhYCABqgoAOoFFKWtdBCWP2qaDSZGxokW8cDW/bnkN6bWmG/vlVjgqLyzShTyfdNi5KY3t3ZH05ANQSAR1AoxR/27PS0zcrcVyxssN9M+dJS4IUf/+zTpfWbFhrtTJ9v15dkq6F3+1Wy8AAXTm0u24dF6U+nds4XR4ANFoEdACNU3y84iXFJyZK2dmSxyMlJbELagMoLi3Tf77ZqVeXpmvDjjy1b91S98ZF6+ejI9SpTbDT5QFAo0dAB9B4xccTyBtQbkGx/v5ltuYuy9QPeYXq2am1/njlIE0f1l0hQawvB4C64lhAN8acI+l1SZ0lWUnJ1tpnjTHtJb0tKVJSpqSfWmsPGN8ixmclXSKpQNJN1tqv/NeaIekP/kv/P2vtPP/4cElzJbWS9KGk+yxbpwJArWTuPay5yzP1Tup2FRSV6ryeHfTH6edqYp+zFRDA+nIAqGtOzqCXSPq1tfYrY0wbSWuMMZ9KuknSQmvtn4wxv5X0W0m/kXSxpGj/r1GSZkka5Q/0j0iKlS/orzHGzLfWHvAfc7ukVfIF9KmSPmrAzwgAjZK1VivS9+m1pRla+N1utQgw+sngbrp1bJTO7R7udHkA0KQ5FtCttTsl7fQ/zjfGbJLUXdLlkib6D5snabF8Af1ySa/7Z8BXGmPaGmO6+o/91Fq7X5L8IX+qMWaxpLOstSv9469LukIEdACoVmFxqRZ8/b1eW5apTTt968vvntRbPx8dobPPCnG6PLiN1ytxHwhQ51yxBt0YEylpqHwz3Z394V2SfpBvCYzkC+/bK52W4x872XhOFeNVvX+CpARJ8njYkhtA87Mn/6j+tjJL3lVZ2nuoSH06h+mJqwbp8hjWl6MaXq+UkCAV+HfOzcryPZcI6cAZcjygG2PCJP1T0i+ttXmV++Vaa60xpt7XjFtrkyUlS1JsbCxr1AE0Gxu/z9NryzI0f933Kiot06S+nXTr2J46v3cH+pfj5BITfwzn5QoKfOMEdOCMOBrQjTFB8oVzr7X2Pf/wLmNMV2vtTv8Slt3+8R2Szql0eg//2A79uCSmfHyxf7xHFccDQLNWVma18Lvdem1phlak71OroEBdO+Ic3XR+pHp1CnO6PDQW2dm1GwdQY052cTGS5kjaZK39v0ovzZc0Q9Kf/F//VWn8bmPMW/LdJJrrD/EfS/qjMaad/7iLJP3OWrvfGJNnjBkt39KZGyU9X+8fDABc6vDREv0jdbvmLs9U5r4CdQ0P0W8v7qfrRpyjtqEtT30BoDKPx7espapxAGfEyRn08yX9XNJ6Y8w6/9jv5Qvm7xhjbpWUJemn/tc+lK/FYpp8bRZvliR/EH9c0pf+4/63/IZRSXfqxzaLH4kbRAE0QzkHCjRveabe+nK78gtLNNTTVr++qK+mnttFQYEBzhTFzYWNX1LSsWvQJSk01DcO4IwY2oIfKzY21qampjpdBtBoeNd7lbgwUdm52fKEe5QUl6T4QQQtp1lrtSbrgF5blqH/bvhBxhhdfG4X3TI2SsM87U59gfp0/M2Fki/YJSf7HhPcGw++0QLOiDFmjbU29oRxAvqxCOhAzXnXe5WwIEEFxT8GrdCgUCVPSyakO6S4tEwfrt+p15Zm6OucXJ0V0kLXj/JoxnmR6ta2ldPl+URGVr00okMH6ciRqoM7oQ9AE0RAryECOlBzkc9EKiv3xKAVER6hzF9mNnxBzdiBw0V6c3W2Xl+RqV15R9WzY2vdfH6krhreQ6EtHW/YdayAAKk2//ZEREiZmfVWDgA4pbqA7rL/awNoTLJzq+7WUN046l7a7ny9tixT732Vo8LiMo3t3VF/mj5YE/p0UkCAS9skVndzYXXoCgKgmSGgAzhtnnBPlTPonnC6ONQna61Stu7Va0sz9MWWPWrZIkDTh3bXzedHqW+XNk6Xd2qXXCLNmnXieFiYdOjQieN0BQHQzDh0+z5QPe96ryKfiVTAYwGKfCZS3vVep0tCNZLikhQaFHrMWGhQqJLi6q+LQ3P++3GkqFRvrsrWhU+naMZrq7VxZ55+fWEfrfjtBfrTVYMbRziXpHfeqXq8qKjq8Usuqb9aAMCFmEGHqxx/02FWbpYSFvi2juamQ/cp/zNpqC4uzfXvR86BAr2xIktvLUtTbmmABu7apv/LWKqf3Hq5WsZNdrq82tu3r+rx6gL6hx/WXy0A4ELcJHocbhJ1Fjcd4mSa098Pa61WZezX3GWZ+mTjDzLWaurWlbpp1fuK3bFRRmq8HU5MLdfGGyOVldVPLQDgIG4SRaPATYc+9BavWnP4+1FYXKr5677XX5dnatPOPLUNDdIdE3rpZ7+6Xt03rTv24IICXw/qxhbQAwJqF7hZgw6gmSGgw1W46bD5LuOoiab892Nn7hH9bWWW3lyVrQMFxerXpY3+NH2QrhjaXSFBgdIlX1d9YmPscHKycB4ays6UAJo9bhKFqzhx06HbJC5MPGbjH0kqKC5Q4sJEhyo6Ba/Xt/FMwP9v797jo67u/I+/z0wSSACDhItIMhOseEHxBgKi1mrUApa1tmK1o1K0zS60W2231tr0V7Xd2W4v2+o+dqGbbm2pjgpqVWhRqlSrLRdBBfG6RWUSQAWChEsg1/P7YyYwmXy/yUwyyXwTXs/Ho48kJ5PvfGf4On3Pmc/5HF/sayT9RZupLvzsb9dHbLfP3frqg6/ogh8/p4XPv6tzS4fpoa9M1VO3XKhrJwdi4Vxyn0Xui7PLwaD7eGVl7KsxR37ua58QAEA3MYMOT+ntRYde1KfKOJK3bI9GYz9LKYeqdD4x6C/XR31Ts/6w8QP9dtUWbdoW2+3z5gvG6oapQZUMK3D+o3C47XMt9d3Z5Y4eSyhEIAdw1GORaBIWiSLb+tRCSLct21PY+bG1zt7psUoefbzdtGPvIT2wtkoPro1q1/4GnThysL40rVSfO2dMart9RiKxmvOqqtjMeWug7Yv602MBgC5yWyRKQE9CQEe2Jc8oS7EyjspZld6bKXbbsr2TrhtOj7HdIWTUcmf/6NyxoXqPfvu39/XHTR+oqcXqkpNH6kvnl+qCE4fLpNvRBADQb9DFBegj+lQZh9uW7Z3URTvV2bc7RB9f+NnQ1KKnXv9Av/nbFm2o3qPBA3J0/dSg5pxXqtLhg7J9ellHpyIAcEdAB9B1XayL7qyevi8v/Ny1v14Prq3SA2ui2rGvXmOHD9Ld/3CaPj+xWIMH8JIr0akIADpDFxfAYyKbIpr7xFxFa6OysorWRjX3ibnpb2mfge4qnQqF0uq60dqtxcq9tC5YGPRmOU8nXt9Wq39ZslHTfvRn/fyZ/9Opo4/Rb+aeq5XfvEhzppUSzhP0uU5FANDLqEFPQg06sm34T4ar5mD7rdCL8ou069u7UjtIcncVKeu7TnZWd+7ZOvsONDW3aMUbH+m3q97Xui0fqyDPr6snFuvGcJNiXgAAIABJREFU80p14sjB2T49z/Ld7XN8k9af1h0AQCrcatCZQQc8ximcHx5PdVa8oqJtOJeO7DqZJR3Vnfe1WfOPDzRowfObdeFPntNXH3xFH+49pO9dcapW31GmH1x5OuG8E27rC/r6ugMAyBQCOuA1bh9qWcVmxaPRWOeU1p7jTiHdbXfJnt51soM3EG5150ZGW27d0ifC+evbanXbIxs19Ucr9ZOn39EJIwbpVzdO0vPfulhfvvAEFebnZvsUe0WqG0u5cdxwqskofF+058qxuqM3ysUAIAFFkYDHFNVJNQ5NPorq5D4rnly20sXuKt3SyaZFgZxhija1/3QgkDOs584pA1q7sfxudVQvRz9Wfu6RMpaTjxuS7dPrdZlY4Nm2U1FUgVqj8LNWoU2SlP5mVz0qA5txAUC6qEFPQg06si1y8XDddEGNGhLePuc1Sfc9qXiASeLUc3z+fGnhwva3nTdPWrAgo+d7WCebFkUuHq7yaTWqyzvyq4IGqXJVkULPpVhb34t27D2kyNoqPfhSlXbuq1dpUYFuOK9UV08sPmpmyp1kfCOtbmx21Su8fn4A+jT6oAN9ROjL90q/mKuKCxtVVSgFaqXwi7kKbT9GkkN9utOs+PLlzgd3G8+ETspqQn/ZLdVIFWU68rhWSqHXd/fcOaXJWquXox9r0eqontr0gZqt1adOGqE500r1yXEj5POxqZBbqVJnrTPdD5ilcqxUef38APRLBHTAa0IhhSSFkrdBl1LvOZ6NUNFZWU0goNCmaPtPAYLZXxh4qLFZSzds16LVW/TG9r0aMjBHc6aV6oapQTYVShIoDDjOoHd5gWc2yrHS4fXzA9AvsUgU8KJQKPbxeUtL7GsolF7Pcbfw0JOhIhyOvWFIlPgGYuZM579zG+8F1bvr9KOn3tLUH63Utx97TU3NVv921QSt/W6Z/t9nxhPOHTgu8OzOxlIevC7a6Oy6BoAewAw60Je0BvXOdHGHz26fmxRbtJo48986no2yGwfWWv1tc40Wrd6ilW99JGOMLh8/SnOmlWrK2GEyhjKWjrRd4FmlQGFA4bKwQhNCiiycr4r3KlU1qFmBA36FTyhXaF4nax48cl246uy6BoAewCLRJCwShRdENkUcA1B6B4l4K1T4fLH2kMmcFrn2gP31Tfr9K1u1aNUWvbvzgIYNytN1k0sUmhLU8UPze+Q+M/Lv2EdEFs5X+baFqktYP1vQKFWOmddxSM/ydQEA2eS2SJSAnoSAjmxz2nHTy7tsphxCs9QN492d+3X/6qgefXmr9tc36cziQs2ZVqqZE0ZrYK6/x+63r/07dlfpbTmKDm5uNx7c79eWnzZ18IeldEkBcNQioKeIgI5sy3gbux6UVghN7ictxcpu3Orou6G5xeq5t3do0eotevHvu5Tn9+mKM0ZrzrRSnVUyNKP35aYv/Ttmgu8uI+tQHWSs1HJXB/8/04vXBQB4DW0WgT4i423selDFyoo24VyS6hrrVLGyon1A74Va3j11DVqyvlr3r4mqevdBHXfMQH3r8pP0hXMDGjFkQMbuJxV96d8xEwIH/I4z6IEDnXxKQY03ALRDQAc8JuNt7HqQ03l2NJ7yItc0vbl9r363eoue2LBNhxpbNHnsMN0x41RdNn6Ucv3ZaVbVl/4dMyF8QrljDXr4hPLO/7iHrgsA6KsI6IDHhMvCjmUjXW5j14N8xqcW234hn8/0fChubG7Rijc+1O9WRfXSlt0amOvTVWcX68bzgjp19DE9fv+d6Uv/jpkQmrdAWqj0u7gAANohoAMe01EbO69xCucdjWfCjr2H9OBLVXropSp9tLdegWEF+t4Vp2r2xBIVFuR2foBeko1/x2x3jQnNW6CQCOQA0F0sEk3CIlEgdeZu957h9s7MvbZYa7X2/d26f3VUK974UE0tVhedNEJzpgV10Ukj5ffRu/xo6xoDAP0Bi0QBZFxRfpFqDtY4jmfCvkONevzVbbp/dVR/37Ffhfm5mnt+qUJTguzymSStBbsAAE/LzuopAP3CvTPuVZ4/r81Ynj9P9864t1vHfefDffreE5s09d9W6vtPvqGBuX795OoztPa7Zaq4Yjzh3EGPdI2JRGJ9yn2+2NdIpOvHAgCkjBl0AF2WyTrrhqbYos/710T10vu7lZfj06wzjteN5wV1Zi/1Lu/LAjnDFG1q/2lGIGdY1w6Y3J88Go39LNFxBQB6GDXoSahBB3rXB7UH9dDaKj20rlo799WrZFi+rp8S1OxJJRo2KK/zA0CSFLl4uMqn1agu4SkraJAqVxUp9Nyu9A/IDp8A0OOoQQfgGdZarXq3RvevjuqZtz5Si7W6+OSRumFqUBedNEI+Fn2mLfSX3VKNVFEmVRVKgVopvFIKvb67awescimNcRsHAGQMAR04GkQintipsfZgo37/ylbdvyaq93Ye0LEFufryhWN1/ZSgSoYV9Pr59CuBgEKbogptShoPdnFjpEDAeQY90D83WgIAL2GRKHoeC83SFtkUUek9pfLd7VPpPaWKbOrGc9ZaSxyNStYeqSXuxX+HN7fv1R2/jy36vHvZmzpmYK7+Y/aZWn1Hme6YcSrhPBPCYakg6XksKIiNe+F4AICUUYOehBr0DEteaCbF/k++spKFZi4y1c/68KY1e6JHyh0SZ1d7uJa4vqlZT7/+oe5fHdX66McakOPTlWcdrxumlmpCcWGP3e9RLdOflHjkkxcA6K/catAJ6EkI6BnGQrO0ld5Tqmht++csWBjUllu3pHQMx5DfIFUuSwjpxkgtGd7xMxLRtvDP9OCIM7T47OnaNfAYlRYV6PqpQV09sVhDC1j02ZdEFs5XxXuVqhrUrMABv8InlCs0j51CASBT3AI6JS7oWSw0S1sm+lk7blqTF1tAeFgGa4lbWqxe+OVifeXJv+vCz9ytBVOv1lnVb2nRk2H9efR2ffnCE2LhnHKnPiOycL7Kty1UdHCzrJGig5tVvm2hIgvnZ/vUAKDfY5EoehYLzdIWKAw4zqAHClN/zlxDfmtlSYZqiWvrGnXHH57U8o17peZR0thxuujdx/Svzzytkr07Yjf63nbp+hB9tfuYivcqVTe47Vhdbmw8JGbRAaAnMYOOnsVCs7SFy8IqMG1LQQpMnsJlqT9nbmE+UKtYeVE31wBs2lqr2x99TZPCK7T8lXwdsru1K/dniuZ/SY+e/Du9ENxx5Matn5ZUVLRdiyDFfq6o6PJ5oOdUDWpOaxwAkDkEdPSsUCgWBoPBWM1zBsJhfxd6TapcahXcIxkrBffEfg69lvoxwmVhFeS2fWNUkFug8E0PxGr/u/D8H2xo1pJ11bryv/6qWf/1Vz25cZsa81Zp+4Cv66MBt+lAzvOSaXIvpaHcqedlsIQocMCf1jgAIHNYJJqERaLIugwtrJ3/x/mqfLlSzbZZfuNX+cRyLbgi/dKEzTv2KbK2So+9vFV7DzXpxJGDdf2UgK46p1jH/mSArNq/hhgrtdytth17WDDcszLcMam1Br0uN+FwjVLlmHksFAWADGGRKNBXZGCmObIpokUbF6nZxsoRmm2zFm1clHI/9YamFi3buF3XVq7WpT9/QQ+sieqik0dqcflUPfONT+pL549VYX5ueqU0M2c635nbONKT4RKi0LwFqhwzT8H9/tgnOfv9hHMA6CXMoCdhBh1Zl4GZ5q62aqzeXaeHXqrSkvXV2rW/QcXH5uuLUwK6ZlKJhg8e0O72afVsZwa9Zxnj/jte5wHAk9xm0OniAnhNOOxcqpDGwtp0WjU2t1g9/84OPbAmquf/b6eMpEtOGaXQ1IAuGjdCPp978GsN4RUrK1RVW6VAYUDhsrDzhkrUoPcsY5yDeEfBHQDgSQR0wGtaS0IcdnA8vDtoJ2E4lVaNO/Yd0pJ11XropWpt23NQI4YM0D9ffKK+MDmgMUPzUz/dCaHUdjil5WbPcpslZ/YcAPocSlySUOKCrkg1OHf3PlItJ3G77f98plInFHxakbVVWvHGh2pqsTr/xCJdPyWoS8ePUq6/B5elZHgRI5JQ4gIAfY5biQsBPQkBHelKqw67G9KtK2/zpmHIKZpZ/AO9XTVc7+06oML8XM2eWKwvTgnohBGD2/1tOtJ6cxKJOH4ygAwYPlyqqWk/XlQk7drV++cDAOgUAT1FBHSkq6sLMtPlu9vn3NJQRi13trQbt9ZqQ/UePbCmSn94bbvqm1p0dmCorp8S1BVnjNbA3O73s+6tNydIQSQi3XST1NBwZCwvT7rvPt4EAYBHsUgU6CHpLMjsjlTqyiXpQH2TntywXZGnXtUbh3JU0HBQn69ar9D0s3Tal6/I6DlVrKxoE84lqa6xThUrKwjova2DtQsAgL6FgA50U6rBubvCA2aqvLH9xjHhAbE+4u98uE8PrInq8Ve3aX99k07ZtU0/fPkP+uybz2tIw0HpqQIpvzmjga3K4XFLUrQ2qtJ7SnukFh8dCIUI5ADQD7BREdBN4bKwCnIL2owV5BYoXBZWZFNEpfeUyne3T6X3lKa8UZCT0I+Xq3KpFNwT26kzuEda8IccDXp4p65euEqfvucFLV5frcvHj9Jjz/xMT/36q7phw1OxcC51a9MaN4H97mUy0dqoypeVp/aYM7hFPQAAfR016EmoQUdXOC2UlJTZ+myf73A3jujQ4/TgWTP0yIRLtbugUKVFBQpNCerzE4s1bFBem9u2YYzU0r5evasiZxiVz5Lq8txv02ktPt1dAABHKRaJpoiAjkzJ9OLRxrEn6Nm80XrwrOl6cew58rc067K/r9H121/WtNVPt91QqLd27SwtVeSYqCrKpGihJIdOf26LWBOPwQ6jAICjkVtAp8QFcNHd8pQOF4+mUdJRvbtOP3n6bZ0Xulfzrvqu3i0q1jdefECrFs7VL/90ry74+o3td/sMh2Oz0InS3I00JeGwQu8WaMs9UrDW+Sad1uKzwygAAG2wSBRwkNw+sLWeWlLK5Smui0dzhrUt6YhGYz9Lh0s6GptbtPKtjxRZW6W/bt4lI+mSU47TF+ve00U/+YH80Wi8S8d/OpeB9FZHj4T7mflOVAsnq90s+sxxMzs+xrBhzv27hw3LyCkCANDXENABB5loHzhz3EwtXL+w/fhrh9rWW0uHF3BWz7hKi9dVa/H6au3cV6/RhQN1S9k4feHcEo0uzJd0rjTvC119WD0j3jlk+T2lksMbkuV/X9775wQAQB9GQEeX9MbW9tmUid7mbsF0+fEH2vzc6PNr5Scm66GzpuuFnz4nI+nik0fquskBferkEcrxd6ESLXnhpcMsfaZ1+TnbvTu9cQAA+jkCOtKWifKPVO8nW28CMtHb3DWwFsa+bj1mhBaf+WktnnCZdgwp0nEHduvrl4zTNeeWaMzQ/C6d92EVFa6z9D0V0Lv8nAUCzotEA5ntIw8AQF/BIlGkraPyj0xpfRMQrY3KyqbXUzsDwmVhFZi2vQMLTN7h9ompcAym1qfA/vP0pavv0oX/9Gv913nX6PSP3tWvHvuB/vrwv+gbl53U/XAuZWXhZUf94Dv+w15a0AoAQB9BQEfaemNr+954E9CR0GtS5VLbZlOgyqVWoddSP0ZiYPW3jFBhY0jF9b+Vcir01six+udVi/XXhTfrvsd+oMs2v6Scml2ZewBus889OCsdmhBS5axKBQuDMjIKFgZT6/keCsV6ngeDsT7twSA90AEARzX6oCehD3rnMt3f24nvbp+s2l+bnfbUzhS33txFRdLgwSl1RmlqbtFdf3pED6x5X7Z+vIyMTjq+Wd9afJ8uWf1H5dikx5GJvt+RSKyMJRqNhd3E/77Z/AcAAE9x64NODTrSFi4LO+6QmU75R2cyUQPeLVVVikyQKspiNeOBWim8UgptqjnSEtBl4eX2PQdjnVjWVevDvYM1csgkfeH8El0zqUQlwwqkogPShpXtds6M3D5TFfeUdr3mPnlhqLVHQnow2DNtFgEAQMZldQbdGHOfpM9I2mGtPT0+NkzSYkmlkrZIusZa+7Exxki6V9JMSXWSvmStfSX+N3MkfS9+2H+11i6Kj0+U9FtJ+ZKWS7rFdvKAmUFPTU8v4ExeiCrF3gSkVDKRifu/eLjKp9W02cK+oEGqXCaFNiXdOBhU83vv6/l3dujBtVV67p0dspI+OW6ErpscUNmpI5Wb3ImldaY7PhMfuX2myj9e1L3Hy46cAAD0KV7dSfS3kqYnjX1H0kpr7ThJK+M/S9IMSePi/yuXtFA6HOjvlDRF0mRJdxpjjo3/zUJJX0n4u+T7QheFJoS05dYtarmzRVtu3ZLx0NzleuYMqbhUbcK5FPu5oqzt2AdDinRP8TRd8OM/6+ZF6/XatlrN+9Qn9MJtF2vRTZM1feNK5X7ihE53DK3YvaT7NffxWf/SWyXfnbGvkQlyXhiaxk6mvWL+fCknJzbjn5MT+xkAgKNUVktcrLUvGGNKk4avlPSp+PeLJD0v6fb4+O/iM+BrjDFDjTGj47d9xlq7W5KMMc9Imm6MeV7SMdbaNfHx30n6rKSneu4RIZNCE0JZ661e1eTcg7uqUGo2Pv1l7Dl68Kzp+vMnzlWLz68LRw7WnbPGq+zUUUdmy916kf/tb9KiRW3Go41qtwOnJMcyHzeRi4a1mfWPDpXKZ0kqGqY2z2IWeqR3aP58aWHChk7NzUd+XrCg988HAIAsy/YMupNR1toP4t9/KGlU/PsxkqoTbrc1PtbR+FaH8XaMMeXGmPXGmPU7d+7s/iNAn+dU6+63RQrsv1af/Mf/1U2z79KG0Sfrn15ZqhdO3qv7b56i6aePblvK4taLvLKy3bjfZd2r3/hTPmfXWf9Lk2/YQY/0bKisTG8cAIB+zosB/bD4bHmPF8lbayuttZOstZNGjBjR03d31Ilsiqj0nlL57vap9J7SXutl3h2HWyRan/Kbp2hE/fc15tBvpJzrdcLBGi184kda/cfv69tzL1Zg7nXOB3HrOd7c3H7I5b/EZtv2th09l66z/snjvdEjPZ0SGofno8NxAAD6OS92cfnIGDPaWvtBvIRlR3x8m6SShNsVx8e26UhJTOv48/HxYofboxf11q6jmXbh8Vfp6pKB+stbh6SWoZJvjy46rUE/nDlDgaIrJH2r84O47ZDp97cLn8HaWElKsmBh8PD3nT2XKXe+6emdO71WQgMAQB/jxRn0pZLmxL+fI+nJhPEbTcxUSbXxUpgVki43xhwbXxx6uaQV8d/tNcZMjXeAuTHhWOglHW445JWFivHzqM/N07ILP6fQD5/QJ3/6nF58c6DKTjpJv7pxkjb/8DotuuHzChQVdH68Vm47ZJaXtxsPv5jbfufSpNaVnW3elPJOnuGwlJdUC5OXl7mdO71WQgMAQB+T1Rl0Y8xDis1+DzfGbFWsG8u/S1pijLlZUlTSNfGbL1esxeJmxdoszpUka+1uY8wPJa2L3+4HrQtGJc3XkTaLT4kFor3OfdfRqFThgVnWSESbb79bD590qX7/D5dod0GhxnywQ988cYhm33yFRhfmd/3YrY8joZ3i4V7k55/fZjz0jbB0hjpsXdnZDq6tt02p/WVyt9FMtlt1mp3vaHzQIOnAAedxAACOQuwkmoQ+6Jnluuvofr+2/MyhxriXenYfbGjW8k0f6OEFj2ndiBOV09ykyzav1bUbV+iCLRvkD5Q4nkdP93/vSMZ2cO3pfuk5Oc71436/1NTkPN7isErW56MOHQDQr7GTKLLCddfRFXXOf5DJhYoO3theq4dfqtYTG7Zp36EmjfXn647n7tPnX1+p4XW1bc4jOYzPHDdTi17+tepsg6R4DfjjN8Vu/9e/qeK9SlUNalbggF/hE8oVmtdBi8CkjYpS2eUzXBbW3CfmqrGl8fBYri83/R1ce3qRaLqLPp3CeUfjAAD0cwR0dKwLQTKRa9lFZYViFUxJMrVQMcH++iYt3bBdD6+r0mtba5WX49PM04/TtZMDmnLJRBmH2eTIRcPaLcj85fqF7VoK1dkG3fLozTrYXK+6wbGx6OBmlW9bKC2Uc0jvxiLK2HIK959T0tOLRINB9xl6Jw6LZg+PAwBwFKLEJQklLgmSg6QUW9xYWdn9OvGePLYka61erd6jxS9Va9lr21XX0KyTRw3RtZNLdNXZYzS0IK/D8yj9br6iTTUp3pkcNxkK7vdry08dSjq6WGKSsRKXHn7u0z5+8kZFrebNY6MiAEC/5lbiQkBPQkBP0NO1yt2cnXeyp65Bj7+6TQ+/VK13Ptqngjy/Zp1xvK6dXKKzSoY6zzg7nIdv8w2yqbbgdwnoxkotdzkcw+dzXpRpTIdlHb67fY7nZGTUcmfH5SDtaucHzFTox8sz+ty3vcM0/23nz48F+Obm2Mx5eTnhHADQ71GDjvT1xoY2GWCt1Zr3dmvxuiotf/1DNTS16IziQv3bVRM068zRGjIwt+MDhELtwmMgfEtKM+gFDVJ+o1Tj0HAksM+li2kXS0xS7nOexLF/eu4iaVllzy1wdXhOOzzHeeer4qTl8TcQxQqXnS86pgMAjlZe7IMOr3ALjN2pVW7tfW6MIj++XqVXReX7vlXpVVFFfjE3rV7oO/fV65d/eVeX/MdfdN2v1mjl2zv0hUkl+uPXL9DSr12gL04JdB7OXYSfjYXvjvibpcoVubr3z3ntblvQIIVXubRodOuP3kkf8pT7nCfprH96trW+gYjWRmVlD2/A1Bd2nAUAoCdQ4pKEEpcEma5VTjheZIJUPkuqS9gvp6BBqlxVpNBzu1wP0dJi9eLmXXr4pSo98+ZHamqxOrf0WF17bkAzJ4xWfl6GFhb6fIqcblVRJkUL5V7CMu4B6YYbNH+6VeUkqdkn+Vuk8vXSgqc7KFnpYnlPV9o8dqc0pjdkrLYeAIA+hhr0FHk9oPd6H+5M1okn1LSX3uqytf0eacsv2l+TH9Qe1CPrt2rxumpt23NQxxbk6vPnFOvaySU6ceSQrp1PnONzOqvi8LkOv825hKUov0i7vr1LkYuHq3xaTdpvNnqL1wOw199AAADQU6hB7wcca4mXxdrzOYX0TIT5yBlSxa1SVa0UKJTCZ6jrtcEJddfRQpebJIw3NLXoz29/pMXrqvWX/9upFiudf2KRvjPjFF1+2igNyOn+bLnrc3r7HIW+tUiqq1O9y38l9bW7pUhEFZdKdUnNWurypIpLu/FcZdDMlhO10EbbfgpgY+Ne0NXaegAA+itm0JN4eQY9nZnQyKaIyh+/6fCmOpJUYPJUedV9KYf05PAqxWqeK2d1cXFhTo4i45s7LBvxy6e35+3R4nXV+v0r21RzoEGjjhmgqycW65pJJQoWZXb79w6f0xFhqaJC5ktRx3OVlexPC+T7dp1jvxevzACX3paj6OD2fcZd20D2soxfZwAA9BFuM+gsEu1DqhyCpNt4xdJb2oRzKbapTsXSW1K+v4wtLpw//3A4L58VL21JCrzGDtSgpss0vP7fdenPX9Bv/rZFo4btl4Yu0LqG6frvt6brr9ufSO9+U+AUzg+Ph0KxdpId7QVUV6fAfueZfK/MAFcNct7B0228t4UmhFQ5q1LBwqCMjIKFQcI5AOCoRolLHxLY73ecCXUKiFWNNY7Bsqoxxc13JFXVOrdTdBt3lLAJTUVZ20WhslJeyyka3HyZBjVfKJ8KJLtVd8w8Rcpfq28++5XYGwTTeTlPV/mNX822/XPqN0ee06L8ItUcbP+8FcXfu4RXNKv82oJ2M8CddVfpLYFa53r/QG3vn4ub0IQQgRwAgDhm0PuQ8Ipm53Z+KxxCu0v4SieUuc0ApzUzXFmpyIT4otB4fbnPFmpI41UaXb9Aoxt+pkHNF6nO/zd97LtN//rUP+kfL/qEfrTqu6nN3sdn52VM7Ov8+amfm+QYzpPH751xr3J9bds15jZJ9z4d+z60N+jpGeDwyvYtIwsaYuMAAMB7mEHvQ0J7g9KyqCrKpKrCWNgOr4yPJwlvKHLsLBLeUJTy/YXLwo61wenMDLeWtdTl+jSw5WwNbrpcBS1TZJSjevO2anL/Uwd8L8pnD6p8vXR9/LGkNHufvEV8c/ORn1PchTLo8qlEMOFTidagXbH0FlU11hx53jfpcP9yL88Ap3PdAACA7GORaBIvLxJNqS95a1vEaFSRCWobyl7MVegbv0lvh8dudoIp/cZx2jPoMg1uLlOOHaFm1eqA/zntz/mTGn1tQ3hBo1Q5Zp5C8xaktiA2YdFpm+D5pl9qSm3xY+QMo5uulBoS3qrmNUn3PSmFXnP4byOTbSd7S6b72QMAgIxgkWh/EArFQlUwGCvpCAbbh/Py8sPtDEObpC33GrXcLW15PJh2OO+qQ43NenLDNn3xV2ukAb9WYdM1ajRR7cz7kbYOnKOP8/63XTiXpLpcqaJ+uSQpPGCmChrb/r6gMTbeKnHRqTWxr+WzYuMpKypq14HFxscdtS4cbWmJfU187ktLJZ8v9jWNHVF7XGfXDQAA8BRm0JN4ega9MwkbAbURDMbCZJrSbX/3+rZaLVlfrSde3aa9h5pUfGy+tjYu0dbGx9TsS33DHnunlUpLFTnGpSwj/lhKv2HcNzua9EBKM92l4eGKNrVfABrMKdKWihTPmRlqAADQBewkmqI+HdB9Psnp39N0sOV8B1IpM6mta9STG7dp8bpqvbF9r/JyfJp+2nH6wrklOu+EIj30P1/VjR8uVEuKn9X4jV9N329K6bGYu0yH/clTCcwZ2cUyw2+MAADA0YGdRI8GgYBzUAx0rR+360LNPdVa9e4uLVlXrade/1D1TS06dfQxuvsfTtOVZx2voQVHVqb+Zl2lWtK4+8PdU1J4LH6fS4tEq7bhXPGfKyraBfSM7GJZ5dJ20m0cAACgA9Sg9yfhcGymOFG8y0gbKdZLJ4dUvy3SMY3XKND4a33xV2u18u0dmj2pWMu+doGWf/0CzZlW2iacS9LKQHPHG/0kKcokTr9WAAAOY0lEQVQvSvmxuLZIdLs/h8AcLgurILft/aTdw9ztDVAX3xgBAICjGzPo/Unr7HBHtdfJ9dLRaOznxL+PCw+YqfL6X8nmnKvBTZcrv+UcGfk1dkCNvn71mZp+2mjl5znvotkbj8W1RaJbr3eHwHy4hWI3OtUoHHauQU9+YwQAAJACatCT9Oka9FSkWC+9ecc+LfnSdxQ5eZoODBiqJtUop+lZffOvz+rrmxukXaktoHStE++AvTO1azJyhon1WE/q9V65TAq9m1oNesb0xfaLAAAgq6hBR0wH9dJ7DzXqDxs/0CMvV+vVqj3KOe1yXfLuOl27cYU++f4ryrHpLzQdv0N6c6TahvTW/O0Q3P0m9Rn5DjfgqQz3bmAOhQjkAAAgIwjoR5ukxZctMloTOF2PnHeVngo/q0ONLRo3crC+O/MUXTVjkkbU7enW3R0YoPZB3EgOjVMkudeVOwqHFSovV2hT8kx5mMAMAAD6LAL60SZeL701Z5AenXCpHj29TFuHHqchPqvPnVOs2ROLdVbJUBljpHy/VOdwDLdNfBxUFaZ3esHCNLafT6XmHgAAoI8hoB9FDjU26+nxn9Ij34lo1X6/rPHp/A/f1reKh+jT5Z9vv+Dz3nuluXOlxoQtPXNzY+MpCtTKcTOhojrp4NCCdpsgpdU9RWKmHAAA9DsE9H7OWquNW2M7fC7buF37DjWp+NhjdMtlxfr8OcUqGXaF+x9nYIY6/GKeyj/d0GYhp7FSTYFUlJOv/Jx87T64u2vdUwAAAPohAno/tXNfvR5/daseWb9Vf9+xXwNzfZpx+mjNnlisqScUyedzWKHp1omkGzPUoaEXSstWqqJMihbGy8/jd11zsEYFuQW6/3P3E8wBAADiaLOYpC+3WWxsbtFzb+/QkvVb9dw7O9TcYnV2YKhmTyzRZ84crWMG5rr/cXJ/dEkqKFDkZ3NUUb+86z3C/X6pJdb9pfRW53KXYGFQW27dkvoxAQAA+gHaLHpVBvpn/99H+/TI+mo9/uo27drfoOGDB+jLF4zV7EnFOnHkkNQOUlHRNpxLinyiTuXbf6m6nNibuGhtVOXLYpsapRzSW460ZnRbMFpV69L6EQAA4ChEQM+mNHb1TFZ7sFHLNm7XI+urtXFrrXJ8RmWnjtTsiSW66OQRyvX70jsXh/7oFWU6HM5b1TXWqWJlRZdKUobVSTWDHMbzh6V9LAAAgP6KgJ5NDrPWqquLjTsE9JYWq1Xv1mjJ+mqteOND1Te16JTjhuh7V5yqz549RsMHD+j6uST1R5cyNONtjEQZFQAAQMoI6NnUwa6eiap31+mRl7fqsZe3atuegzpmYI6umVSi2ZOKNWFMYaxneXfF+6MnvmEI7DWKFrYP14HCQOrHTQjnuwucb7L74O7UjwcAANDPEdCzyWHWunX8YEOznnr9Ay1ZX6017+2WMdIFJw7X7TNO0eXjR2lgrr/933WHQ0vF8LiZKv94Ufd6lQeDhx+jW0/0tAI/AABAP0cXlyS92sUlqQbdSnrlhDP1aPn3taxukPbXNykwrECzJxbrcxOLNWZofu+cV+IpboqoYmVF17u4JDzGyASpfJba9EQvyC1Q5axK2iwCAICjjlsXFwJ6kl5vsxiJaMcPf6zfDz1Jj5w9Q+8WHqf8XL9mThit2ZOKNbl0mHPP8r4koVNN5KJhqrhUqmpicyIAAHB0I6CnKBt90B9ZX63bHn1Nk4LHavakYl1xxvEaPIDqIwAAgP6MPugedsUZo3VO8Fh9YsTgbJ8KAAAAsizNZtnoCQV5OYRzAAAASCKgAwAAAJ5CQAcAAAA8hIAOAAAAeAgBHQAAAPAQAjoAAADgIQR0AAAAwEMI6AAAAICHENABAAAADyGgAwAAAB5CQAcAAAA8hIAOAAAAeAgBHQAAAPAQAjoAAADgIQR0AAAAwEMI6AAAAICHENABAAAADyGgAwAAAB5CQAcAAAA8hIAOAAAAeAgBHQAAAPAQAjoAAADgIQR0AAAAwEMI6AAAAICHENABAAAADyGgAwAAAB5CQAcAAAA8hIAOAAAAeAgBHQAAAPAQAjoAAADgIQR0AAAAwEP6fUA3xkw3xrxjjNlsjPlOts8HAAAA6Ei/DujGGL+k/5Y0Q9J4SdcZY8Zn96wAAAAAd/06oEuaLGmztfY9a22DpIclXZnlcwIAAABc9feAPkZSdcLPW+NjbRhjyo0x640x63fu3NlrJwcAAAAk6+8BPSXW2kpr7SRr7aQRI0Zk+3QAAABwFOvvAX2bpJKEn4vjYwAAAIAn9feAvk7SOGPMWGNMnqRrJS3N8jkBAAAArnKyfQI9yVrbZIz5mqQVkvyS7rPWvpHl0wIAAABc9euALknW2uWSlmf7PAAAAIBU9PcSFwAAAKBPIaADAAAAHkJABwAAADyEgA4AAAB4CAEdAAAA8BACOgAAAOAhBHQAAADAQwjoAAAAgIcQ0AEAAAAPIaADAAAAHkJABwAAADyEgA4AAAB4CAEdAAAA8BACOgAAAOAhBHQAAADAQwjoAAAAgIcQ0AEAAAAPIaADAAAAHkJABwAAADyEgA4AAAB4CAEdAAAA8BACOgAAAOAhBHQAAADAQwjoAAAAgIcQ0AEAAAAPIaADAAAAHkJABwAAADyEgA4AAAB4CAEdAAAA8BACOgAAAOAhBHQAAADAQwjoAAAAgIcQ0AEAAAAPIaADAAAAHkJABwAAADyEgA4AAAB4CAEdAAAA8BACOgAAAOAhBHQAAADAQwjoAAAAgIcQ0AEAAAAPIaADAAAAHkJABwAAADyEgA4AAAB4CAEdAAAA8BACOgAAAOAhBHQAAADAQwjoAAAAgIcQ0AEAAAAPIaADAAAAHkJABwAAADyEgA4AAAB4CAEdAAAA8BACOgAAAOAhBHQAAADAQwjoAAAAgIcQ0AEAAAAPIaADAAAAHkJABwAAADyEgA4AAAB4CAEdAAAA8BACOgAAAOAhBHQAAADAQwjoAAAAgIcQ0AEAAAAPIaADAAAAHkJABwAAADyEgA4AAAB4CAEdAAAA8JCsBHRjzGxjzBvGmBZjzKSk391hjNlsjHnHGPPphPHp8bHNxpjvJIyPNcasjY8vNsbkxccHxH/eHP99aW89PgAAAKCrsjWD/rqkz0l6IXHQGDNe0rWSTpM0XdICY4zfGOOX9N+SZkgaL+m6+G0l6ceSfmGtPVHSx5Jujo/fLOnj+Pgv4rcDAAAAPC0rAd1a+5a19h2HX10p6WFrbb219n1JmyVNjv9vs7X2PWttg6SHJV1pjDGSLpH0aPzvF0n6bMKxFsW/f1RSWfz2AAAAgGflZPsEkoyRtCbh563xMUmqThqfIqlI0h5rbZPD7ce0/o21tskYUxu//a7kOzXGlEsqj/+43xjj9OYhW4bL4ZyBTnDdoKu4dtAVXDfoCq4bKeg02GMB3RjzrKTjHH5VYa19sqfutyustZWSKrN9Hk6MMeuttZM6vyVwBNcNuoprB13BdYOu4Lpx12MB3Vp7aRf+bJukkoSfi+NjchmvkTTUGJMTn0VPvH3rsbYaY3IkFcZvDwAAAHiW19osLpV0bbwDy1hJ4yS9JGmdpHHxji15ii0kXWqttZKek3R1/O/nSHoy4Vhz4t9fLenP8dsDAAAAnpWtNotXGWO2SjpP0h+NMSskyVr7hqQlkt6U9LSkr1prm+Oz41+TtELSW5KWxG8rSbdL+qYxZrNiNea/jo//WlJRfPybkg63ZuxjPFl6A8/jukFXce2gK7hu0BVcNy4Mk8oAAACAd3itxAUAAAA4qhHQAQAAAA8hoHuMMWaLMWaTMWaDMWZ9fGyYMeYZY8zf41+PzfZ5IruMMfcZY3YYY15PGHO8TkzMfxpjNhtjXjPGnJO9M0c2uVw3dxljtsVfczYYY2Ym/O6O+HXzjjHm09k5a2SbMabEGPOcMeZNY8wbxphb4uO85sBVB9cNrzkpIKB708XW2rMSeoN+R9JKa+04SSvVdxe8InN+K2l60pjbdTJDsY5I4xTbkGthL50jvOe3an/dSNIv4q85Z1lrl0uSMWa8Yh2zTov/zQJjjL/XzhRe0iTpX6y14yVNlfTV+PXBaw464nbdSLzmdIqA3jdcKWlR/PtFkj6bxXOBB1hrX5C0O2nY7Tq5UtLvbMwaxfYOGN07Zwovcblu3Fwp6WFrbb219n1JmyVN7rGTg2dZaz+w1r4S/36fYt3UxojXHHSgg+vGDa85CQjo3mMl/ckY87Ixpjw+Nspa+0H8+w8ljcrOqcHj3K6TMZKqE263VR2/SOLo87V4KcJ9CSV0XDdoxxhTKulsSWvFaw5SlHTdSLzmdIqA7j0XWGvPUewjwq8aYz6Z+Mv4Zkv0xkSHuE6QhoWSPiHpLEkfSPqP7J4OvMoYM1jSY5JutdbuTfwdrzlw43Dd8JqTAgK6x1hrt8W/7pD0uGIf73zU+vFg/OuO7J0hPMztOtkmqSThdsXxMUDW2o/iG8K1SPqVjnykzHWDw4wxuYqFrIi19vfxYV5z0CGn64bXnNQQ0D3EGDPIGDOk9XtJl0t6XdJSSXPiN5sj6cnsnCE8zu06WSrpxnhnhamSahM+lsZRLqk2+CrFXnOk2HVzrTFmgDFmrGIL/l7q7fND9hljjGK7c79lrf15wq94zYErt+uG15zU5GT7BNDGKEmPx65p5Uh60Fr7tDFmnaQlxpibJUUlXZPFc4QHGGMekvQpScONMVsl3Snp3+V8nSyXNFOxBTd1kub2+gnDE1yum08ZY85SrDxhi6R/lCRr7RvGmCWS3lSsG8NXrbXN2ThvZN35km6QtMkYsyE+9l3xmoOOuV031/Ga0zkTKxsDAAAA4AWUuAAAAAAeQkAHAAAAPISADgAAAHgIAR0AAADwEAI6AAAA4CEEdAAAAMBDCOgAAACAh/x/4HtkkT04Br8AAAAASUVORK5CYII=\n",
                "text/plain": "<Figure size 864x720 with 1 Axes>"
              }
            ],
            "_view_module": "@jupyter-widgets/output",
            "_model_module_version": "1.0.0",
            "_view_count": null,
            "_view_module_version": "1.0.0",
            "layout": "IPY_MODEL_1ff58a922e194db091251aa9347da7c3",
            "_model_module": "@jupyter-widgets/output"
          }
        },
        "b5b1443a1fb74a39920368467712e251": {
          "model_module": "@jupyter-widgets/controls",
          "model_name": "SliderStyleModel",
          "state": {
            "_view_name": "StyleView",
            "handle_color": null,
            "_model_name": "SliderStyleModel",
            "description_width": "",
            "_view_module": "@jupyter-widgets/base",
            "_model_module_version": "1.5.0",
            "_view_count": null,
            "_view_module_version": "1.2.0",
            "_model_module": "@jupyter-widgets/controls"
          }
        },
        "7fd4163105fb4fc58fb094615ac53aa1": {
          "model_module": "@jupyter-widgets/base",
          "model_name": "LayoutModel",
          "state": {
            "_view_name": "LayoutView",
            "grid_template_rows": null,
            "right": null,
            "justify_content": null,
            "_view_module": "@jupyter-widgets/base",
            "overflow": null,
            "_model_module_version": "1.2.0",
            "_view_count": null,
            "flex_flow": null,
            "width": null,
            "min_width": null,
            "border": null,
            "align_items": null,
            "bottom": null,
            "_model_module": "@jupyter-widgets/base",
            "top": null,
            "grid_column": null,
            "overflow_y": null,
            "overflow_x": null,
            "grid_auto_flow": null,
            "grid_area": null,
            "grid_template_columns": null,
            "flex": null,
            "_model_name": "LayoutModel",
            "justify_items": null,
            "grid_row": null,
            "max_height": null,
            "align_content": null,
            "visibility": null,
            "align_self": null,
            "height": null,
            "min_height": null,
            "padding": null,
            "grid_auto_rows": null,
            "grid_gap": null,
            "max_width": null,
            "order": null,
            "_view_module_version": "1.2.0",
            "grid_template_areas": null,
            "object_position": null,
            "object_fit": null,
            "grid_auto_columns": null,
            "margin": null,
            "display": null,
            "left": null
          }
        },
        "eb909315520c42278675577471dc61b4": {
          "model_module": "@jupyter-widgets/controls",
          "model_name": "SliderStyleModel",
          "state": {
            "_view_name": "StyleView",
            "handle_color": null,
            "_model_name": "SliderStyleModel",
            "description_width": "",
            "_view_module": "@jupyter-widgets/base",
            "_model_module_version": "1.5.0",
            "_view_count": null,
            "_view_module_version": "1.2.0",
            "_model_module": "@jupyter-widgets/controls"
          }
        },
        "a6c2d9bc6be748f98f2f0b4bb4d56370": {
          "model_module": "@jupyter-widgets/base",
          "model_name": "LayoutModel",
          "state": {
            "_view_name": "LayoutView",
            "grid_template_rows": null,
            "right": null,
            "justify_content": null,
            "_view_module": "@jupyter-widgets/base",
            "overflow": null,
            "_model_module_version": "1.2.0",
            "_view_count": null,
            "flex_flow": null,
            "width": null,
            "min_width": null,
            "border": null,
            "align_items": null,
            "bottom": null,
            "_model_module": "@jupyter-widgets/base",
            "top": null,
            "grid_column": null,
            "overflow_y": null,
            "overflow_x": null,
            "grid_auto_flow": null,
            "grid_area": null,
            "grid_template_columns": null,
            "flex": null,
            "_model_name": "LayoutModel",
            "justify_items": null,
            "grid_row": null,
            "max_height": null,
            "align_content": null,
            "visibility": null,
            "align_self": null,
            "height": null,
            "min_height": null,
            "padding": null,
            "grid_auto_rows": null,
            "grid_gap": null,
            "max_width": null,
            "order": null,
            "_view_module_version": "1.2.0",
            "grid_template_areas": null,
            "object_position": null,
            "object_fit": null,
            "grid_auto_columns": null,
            "margin": null,
            "display": null,
            "left": null
          }
        },
        "1ff58a922e194db091251aa9347da7c3": {
          "model_module": "@jupyter-widgets/base",
          "model_name": "LayoutModel",
          "state": {
            "_view_name": "LayoutView",
            "grid_template_rows": null,
            "right": null,
            "justify_content": null,
            "_view_module": "@jupyter-widgets/base",
            "overflow": null,
            "_model_module_version": "1.2.0",
            "_view_count": null,
            "flex_flow": null,
            "width": null,
            "min_width": null,
            "border": null,
            "align_items": null,
            "bottom": null,
            "_model_module": "@jupyter-widgets/base",
            "top": null,
            "grid_column": null,
            "overflow_y": null,
            "overflow_x": null,
            "grid_auto_flow": null,
            "grid_area": null,
            "grid_template_columns": null,
            "flex": null,
            "_model_name": "LayoutModel",
            "justify_items": null,
            "grid_row": null,
            "max_height": null,
            "align_content": null,
            "visibility": null,
            "align_self": null,
            "height": null,
            "min_height": null,
            "padding": null,
            "grid_auto_rows": null,
            "grid_gap": null,
            "max_width": null,
            "order": null,
            "_view_module_version": "1.2.0",
            "grid_template_areas": null,
            "object_position": null,
            "object_fit": null,
            "grid_auto_columns": null,
            "margin": null,
            "display": null,
            "left": null
          }
        }
      }
    }
  },
  "cells": [
    {
      "cell_type": "code",
      "metadata": {
        "id": "YH4IKjS7vYG-"
      },
      "source": [
        "import pandas as pd \n",
        "import numpy as np"
      ],
      "execution_count": 2,
      "outputs": []
    },
    {
      "cell_type": "markdown",
      "metadata": {
        "id": "UcT0PXFMv4lA"
      },
      "source": [
        "# **Importing DataSet**"
      ]
    },
    {
      "cell_type": "code",
      "metadata": {
        "id": "985lbHkVvfmb",
        "colab": {
          "base_uri": "https://localhost:8080/",
          "height": 0
        },
        "outputId": "8487966d-9dc5-41dd-f08d-f8635aa3fcf7"
      },
      "source": [
        "# importing an online dataset into a pandas dataframe\n",
        "df=pd.read_csv(\"https://archive.ics.uci.edu/ml/machine-learning-databases/autos/imports-85.data\",header=None)\n",
        "\n",
        "# giving its columns proper header names\n",
        "headers = [\"symboling\",\"normalized-losses\",\"make\",\"fuel-type\",\"aspiration\", \"num-of-doors\",\"body-style\",\n",
        "         \"drive-wheels\",\"engine-location\",\"wheel-base\", \"length\",\"width\",\"height\",\"curb-weight\",\"engine-type\",\n",
        "         \"num-of-cylinders\", \"engine-size\",\"fuel-system\",\"bore\",\"stroke\",\"compression-ratio\",\"horsepower\",\n",
        "         \"peak-rpm\",\"city-mpg\",\"highway-mpg\",\"price\"]\n",
        "df.columns=headers\n",
        "df"
      ],
      "execution_count": 17,
      "outputs": [
        {
          "output_type": "execute_result",
          "data": {
            "text/html": [
              "<div>\n",
              "<style scoped>\n",
              "    .dataframe tbody tr th:only-of-type {\n",
              "        vertical-align: middle;\n",
              "    }\n",
              "\n",
              "    .dataframe tbody tr th {\n",
              "        vertical-align: top;\n",
              "    }\n",
              "\n",
              "    .dataframe thead th {\n",
              "        text-align: right;\n",
              "    }\n",
              "</style>\n",
              "<table border=\"1\" class=\"dataframe\">\n",
              "  <thead>\n",
              "    <tr style=\"text-align: right;\">\n",
              "      <th></th>\n",
              "      <th>symboling</th>\n",
              "      <th>normalized-losses</th>\n",
              "      <th>make</th>\n",
              "      <th>fuel-type</th>\n",
              "      <th>aspiration</th>\n",
              "      <th>num-of-doors</th>\n",
              "      <th>body-style</th>\n",
              "      <th>drive-wheels</th>\n",
              "      <th>engine-location</th>\n",
              "      <th>wheel-base</th>\n",
              "      <th>length</th>\n",
              "      <th>width</th>\n",
              "      <th>height</th>\n",
              "      <th>curb-weight</th>\n",
              "      <th>engine-type</th>\n",
              "      <th>num-of-cylinders</th>\n",
              "      <th>engine-size</th>\n",
              "      <th>fuel-system</th>\n",
              "      <th>bore</th>\n",
              "      <th>stroke</th>\n",
              "      <th>compression-ratio</th>\n",
              "      <th>horsepower</th>\n",
              "      <th>peak-rpm</th>\n",
              "      <th>city-mpg</th>\n",
              "      <th>highway-mpg</th>\n",
              "      <th>price</th>\n",
              "    </tr>\n",
              "  </thead>\n",
              "  <tbody>\n",
              "    <tr>\n",
              "      <th>0</th>\n",
              "      <td>3</td>\n",
              "      <td>?</td>\n",
              "      <td>alfa-romero</td>\n",
              "      <td>gas</td>\n",
              "      <td>std</td>\n",
              "      <td>two</td>\n",
              "      <td>convertible</td>\n",
              "      <td>rwd</td>\n",
              "      <td>front</td>\n",
              "      <td>88.6</td>\n",
              "      <td>168.8</td>\n",
              "      <td>64.1</td>\n",
              "      <td>48.8</td>\n",
              "      <td>2548</td>\n",
              "      <td>dohc</td>\n",
              "      <td>four</td>\n",
              "      <td>130</td>\n",
              "      <td>mpfi</td>\n",
              "      <td>3.47</td>\n",
              "      <td>2.68</td>\n",
              "      <td>9.0</td>\n",
              "      <td>111</td>\n",
              "      <td>5000</td>\n",
              "      <td>21</td>\n",
              "      <td>27</td>\n",
              "      <td>13495</td>\n",
              "    </tr>\n",
              "    <tr>\n",
              "      <th>1</th>\n",
              "      <td>3</td>\n",
              "      <td>?</td>\n",
              "      <td>alfa-romero</td>\n",
              "      <td>gas</td>\n",
              "      <td>std</td>\n",
              "      <td>two</td>\n",
              "      <td>convertible</td>\n",
              "      <td>rwd</td>\n",
              "      <td>front</td>\n",
              "      <td>88.6</td>\n",
              "      <td>168.8</td>\n",
              "      <td>64.1</td>\n",
              "      <td>48.8</td>\n",
              "      <td>2548</td>\n",
              "      <td>dohc</td>\n",
              "      <td>four</td>\n",
              "      <td>130</td>\n",
              "      <td>mpfi</td>\n",
              "      <td>3.47</td>\n",
              "      <td>2.68</td>\n",
              "      <td>9.0</td>\n",
              "      <td>111</td>\n",
              "      <td>5000</td>\n",
              "      <td>21</td>\n",
              "      <td>27</td>\n",
              "      <td>16500</td>\n",
              "    </tr>\n",
              "    <tr>\n",
              "      <th>2</th>\n",
              "      <td>1</td>\n",
              "      <td>?</td>\n",
              "      <td>alfa-romero</td>\n",
              "      <td>gas</td>\n",
              "      <td>std</td>\n",
              "      <td>two</td>\n",
              "      <td>hatchback</td>\n",
              "      <td>rwd</td>\n",
              "      <td>front</td>\n",
              "      <td>94.5</td>\n",
              "      <td>171.2</td>\n",
              "      <td>65.5</td>\n",
              "      <td>52.4</td>\n",
              "      <td>2823</td>\n",
              "      <td>ohcv</td>\n",
              "      <td>six</td>\n",
              "      <td>152</td>\n",
              "      <td>mpfi</td>\n",
              "      <td>2.68</td>\n",
              "      <td>3.47</td>\n",
              "      <td>9.0</td>\n",
              "      <td>154</td>\n",
              "      <td>5000</td>\n",
              "      <td>19</td>\n",
              "      <td>26</td>\n",
              "      <td>16500</td>\n",
              "    </tr>\n",
              "    <tr>\n",
              "      <th>3</th>\n",
              "      <td>2</td>\n",
              "      <td>164</td>\n",
              "      <td>audi</td>\n",
              "      <td>gas</td>\n",
              "      <td>std</td>\n",
              "      <td>four</td>\n",
              "      <td>sedan</td>\n",
              "      <td>fwd</td>\n",
              "      <td>front</td>\n",
              "      <td>99.8</td>\n",
              "      <td>176.6</td>\n",
              "      <td>66.2</td>\n",
              "      <td>54.3</td>\n",
              "      <td>2337</td>\n",
              "      <td>ohc</td>\n",
              "      <td>four</td>\n",
              "      <td>109</td>\n",
              "      <td>mpfi</td>\n",
              "      <td>3.19</td>\n",
              "      <td>3.40</td>\n",
              "      <td>10.0</td>\n",
              "      <td>102</td>\n",
              "      <td>5500</td>\n",
              "      <td>24</td>\n",
              "      <td>30</td>\n",
              "      <td>13950</td>\n",
              "    </tr>\n",
              "    <tr>\n",
              "      <th>4</th>\n",
              "      <td>2</td>\n",
              "      <td>164</td>\n",
              "      <td>audi</td>\n",
              "      <td>gas</td>\n",
              "      <td>std</td>\n",
              "      <td>four</td>\n",
              "      <td>sedan</td>\n",
              "      <td>4wd</td>\n",
              "      <td>front</td>\n",
              "      <td>99.4</td>\n",
              "      <td>176.6</td>\n",
              "      <td>66.4</td>\n",
              "      <td>54.3</td>\n",
              "      <td>2824</td>\n",
              "      <td>ohc</td>\n",
              "      <td>five</td>\n",
              "      <td>136</td>\n",
              "      <td>mpfi</td>\n",
              "      <td>3.19</td>\n",
              "      <td>3.40</td>\n",
              "      <td>8.0</td>\n",
              "      <td>115</td>\n",
              "      <td>5500</td>\n",
              "      <td>18</td>\n",
              "      <td>22</td>\n",
              "      <td>17450</td>\n",
              "    </tr>\n",
              "    <tr>\n",
              "      <th>...</th>\n",
              "      <td>...</td>\n",
              "      <td>...</td>\n",
              "      <td>...</td>\n",
              "      <td>...</td>\n",
              "      <td>...</td>\n",
              "      <td>...</td>\n",
              "      <td>...</td>\n",
              "      <td>...</td>\n",
              "      <td>...</td>\n",
              "      <td>...</td>\n",
              "      <td>...</td>\n",
              "      <td>...</td>\n",
              "      <td>...</td>\n",
              "      <td>...</td>\n",
              "      <td>...</td>\n",
              "      <td>...</td>\n",
              "      <td>...</td>\n",
              "      <td>...</td>\n",
              "      <td>...</td>\n",
              "      <td>...</td>\n",
              "      <td>...</td>\n",
              "      <td>...</td>\n",
              "      <td>...</td>\n",
              "      <td>...</td>\n",
              "      <td>...</td>\n",
              "      <td>...</td>\n",
              "    </tr>\n",
              "    <tr>\n",
              "      <th>200</th>\n",
              "      <td>-1</td>\n",
              "      <td>95</td>\n",
              "      <td>volvo</td>\n",
              "      <td>gas</td>\n",
              "      <td>std</td>\n",
              "      <td>four</td>\n",
              "      <td>sedan</td>\n",
              "      <td>rwd</td>\n",
              "      <td>front</td>\n",
              "      <td>109.1</td>\n",
              "      <td>188.8</td>\n",
              "      <td>68.9</td>\n",
              "      <td>55.5</td>\n",
              "      <td>2952</td>\n",
              "      <td>ohc</td>\n",
              "      <td>four</td>\n",
              "      <td>141</td>\n",
              "      <td>mpfi</td>\n",
              "      <td>3.78</td>\n",
              "      <td>3.15</td>\n",
              "      <td>9.5</td>\n",
              "      <td>114</td>\n",
              "      <td>5400</td>\n",
              "      <td>23</td>\n",
              "      <td>28</td>\n",
              "      <td>16845</td>\n",
              "    </tr>\n",
              "    <tr>\n",
              "      <th>201</th>\n",
              "      <td>-1</td>\n",
              "      <td>95</td>\n",
              "      <td>volvo</td>\n",
              "      <td>gas</td>\n",
              "      <td>turbo</td>\n",
              "      <td>four</td>\n",
              "      <td>sedan</td>\n",
              "      <td>rwd</td>\n",
              "      <td>front</td>\n",
              "      <td>109.1</td>\n",
              "      <td>188.8</td>\n",
              "      <td>68.8</td>\n",
              "      <td>55.5</td>\n",
              "      <td>3049</td>\n",
              "      <td>ohc</td>\n",
              "      <td>four</td>\n",
              "      <td>141</td>\n",
              "      <td>mpfi</td>\n",
              "      <td>3.78</td>\n",
              "      <td>3.15</td>\n",
              "      <td>8.7</td>\n",
              "      <td>160</td>\n",
              "      <td>5300</td>\n",
              "      <td>19</td>\n",
              "      <td>25</td>\n",
              "      <td>19045</td>\n",
              "    </tr>\n",
              "    <tr>\n",
              "      <th>202</th>\n",
              "      <td>-1</td>\n",
              "      <td>95</td>\n",
              "      <td>volvo</td>\n",
              "      <td>gas</td>\n",
              "      <td>std</td>\n",
              "      <td>four</td>\n",
              "      <td>sedan</td>\n",
              "      <td>rwd</td>\n",
              "      <td>front</td>\n",
              "      <td>109.1</td>\n",
              "      <td>188.8</td>\n",
              "      <td>68.9</td>\n",
              "      <td>55.5</td>\n",
              "      <td>3012</td>\n",
              "      <td>ohcv</td>\n",
              "      <td>six</td>\n",
              "      <td>173</td>\n",
              "      <td>mpfi</td>\n",
              "      <td>3.58</td>\n",
              "      <td>2.87</td>\n",
              "      <td>8.8</td>\n",
              "      <td>134</td>\n",
              "      <td>5500</td>\n",
              "      <td>18</td>\n",
              "      <td>23</td>\n",
              "      <td>21485</td>\n",
              "    </tr>\n",
              "    <tr>\n",
              "      <th>203</th>\n",
              "      <td>-1</td>\n",
              "      <td>95</td>\n",
              "      <td>volvo</td>\n",
              "      <td>diesel</td>\n",
              "      <td>turbo</td>\n",
              "      <td>four</td>\n",
              "      <td>sedan</td>\n",
              "      <td>rwd</td>\n",
              "      <td>front</td>\n",
              "      <td>109.1</td>\n",
              "      <td>188.8</td>\n",
              "      <td>68.9</td>\n",
              "      <td>55.5</td>\n",
              "      <td>3217</td>\n",
              "      <td>ohc</td>\n",
              "      <td>six</td>\n",
              "      <td>145</td>\n",
              "      <td>idi</td>\n",
              "      <td>3.01</td>\n",
              "      <td>3.40</td>\n",
              "      <td>23.0</td>\n",
              "      <td>106</td>\n",
              "      <td>4800</td>\n",
              "      <td>26</td>\n",
              "      <td>27</td>\n",
              "      <td>22470</td>\n",
              "    </tr>\n",
              "    <tr>\n",
              "      <th>204</th>\n",
              "      <td>-1</td>\n",
              "      <td>95</td>\n",
              "      <td>volvo</td>\n",
              "      <td>gas</td>\n",
              "      <td>turbo</td>\n",
              "      <td>four</td>\n",
              "      <td>sedan</td>\n",
              "      <td>rwd</td>\n",
              "      <td>front</td>\n",
              "      <td>109.1</td>\n",
              "      <td>188.8</td>\n",
              "      <td>68.9</td>\n",
              "      <td>55.5</td>\n",
              "      <td>3062</td>\n",
              "      <td>ohc</td>\n",
              "      <td>four</td>\n",
              "      <td>141</td>\n",
              "      <td>mpfi</td>\n",
              "      <td>3.78</td>\n",
              "      <td>3.15</td>\n",
              "      <td>9.5</td>\n",
              "      <td>114</td>\n",
              "      <td>5400</td>\n",
              "      <td>19</td>\n",
              "      <td>25</td>\n",
              "      <td>22625</td>\n",
              "    </tr>\n",
              "  </tbody>\n",
              "</table>\n",
              "<p>205 rows × 26 columns</p>\n",
              "</div>"
            ],
            "text/plain": [
              "     symboling normalized-losses         make  ... city-mpg highway-mpg  price\n",
              "0            3                 ?  alfa-romero  ...       21          27  13495\n",
              "1            3                 ?  alfa-romero  ...       21          27  16500\n",
              "2            1                 ?  alfa-romero  ...       19          26  16500\n",
              "3            2               164         audi  ...       24          30  13950\n",
              "4            2               164         audi  ...       18          22  17450\n",
              "..         ...               ...          ...  ...      ...         ...    ...\n",
              "200         -1                95        volvo  ...       23          28  16845\n",
              "201         -1                95        volvo  ...       19          25  19045\n",
              "202         -1                95        volvo  ...       18          23  21485\n",
              "203         -1                95        volvo  ...       26          27  22470\n",
              "204         -1                95        volvo  ...       19          25  22625\n",
              "\n",
              "[205 rows x 26 columns]"
            ]
          },
          "metadata": {
            "tags": []
          },
          "execution_count": 17
        }
      ]
    },
    {
      "cell_type": "markdown",
      "metadata": {
        "id": "1g28iLhz8G5e"
      },
      "source": [
        "# **Data Cleaning**\n",
        "\n",
        "\n",
        "\n"
      ]
    },
    {
      "cell_type": "markdown",
      "metadata": {
        "id": "Y9fimoFywErW"
      },
      "source": [
        "**First Step: Dropping all missing values**"
      ]
    },
    {
      "cell_type": "code",
      "metadata": {
        "id": "fTUANoxxvrL0"
      },
      "source": [
        "df.replace('?',np.nan,inplace=True)\n",
        "\n",
        "# now drpping all the rows where price column has NaN value\n",
        "df.dropna(subset=['price'],axis=0,inplace=True)"
      ],
      "execution_count": 18,
      "outputs": []
    },
    {
      "cell_type": "markdown",
      "metadata": {
        "id": "MDAmIIGlx8m6"
      },
      "source": [
        "**Second Step: Filling missing values by following methods**\n",
        "\n",
        "*   Mean of the column ( incase column has a variety of different values )\n",
        "*   Highest frequency ( if frequency of one value of the column dominates then that value is assigned to the missing values )\n",
        "\n"
      ]
    },
    {
      "cell_type": "markdown",
      "metadata": {
        "id": "nwPTYbEZy5pL"
      },
      "source": [
        "\n",
        "\n",
        "1.   **Mean of column**\n",
        "\n",
        "\n"
      ]
    },
    {
      "cell_type": "code",
      "metadata": {
        "id": "YxKhcDj8waVb"
      },
      "source": [
        "# converting columns from type object/string to float so that their mean can be taken\n",
        "\n",
        "# FOR COLUMN 'NORMALIZED-LOSSES'\n",
        "\n",
        "df['normalized-losses']=df['normalized-losses'].astype('float')\n",
        "\n",
        "df[\"normalized-losses\"].replace(np.nan, df['normalized-losses'].mean(), inplace=True)\n",
        "\n",
        "\n",
        "# FOR COLUMN 'BORE'\n",
        "\n",
        "\n",
        "df[\"bore\"].replace(np.nan, df['bore'].mean(), inplace=True)\n",
        "\n",
        "\n",
        "# FOR COLUMN 'STROKE' \n",
        "\n",
        "df['stroke'].replace(np.nan,df['stroke'].mean(),inplace=True)\n",
        "\n",
        "\n",
        "# FOR COLUMN 'HORSEPOWER'\n",
        "\n",
        "df['horsepower'].replace(np.nan,df['horsepower'].mean(),inplace=True)\n",
        "\n",
        "\n",
        "# FOR COLUMN 'PEAK-RPM'\n",
        "df['peak-rpm'].replace(np.nan,df['peak-rpm'].mean(),inplace=True)"
      ],
      "execution_count": 20,
      "outputs": []
    },
    {
      "cell_type": "markdown",
      "metadata": {
        "id": "QiQ7cRjbzNYl"
      },
      "source": [
        "\n",
        "\n",
        "2.   **Highest Frequency**\n",
        "\n"
      ]
    },
    {
      "cell_type": "code",
      "metadata": {
        "id": "5MgfqBIrx1-u"
      },
      "source": [
        "df['num-of-doors'].value_counts() # will give the value counts for each value\n",
        "df['num-of-doors'].value_counts().idxmax() # will directly give the maximum occcuring value\n",
        "\n",
        "df['num-of-doors'].replace(np.nan,df['num-of-doors'].value_counts().idxmax(),inplace=True)"
      ],
      "execution_count": 22,
      "outputs": []
    },
    {
      "cell_type": "markdown",
      "metadata": {
        "id": "jtlT9gj31BUo"
      },
      "source": [
        "**Third Step: Converting Data Types to Proper Format**"
      ]
    },
    {
      "cell_type": "code",
      "metadata": {
        "id": "Bsyubw8M0aZR"
      },
      "source": [
        "df['normalized-losses']=df['normalized-losses'].astype('float')\n",
        "\n",
        "df['bore']=df['bore'].astype('float')\n",
        "\n",
        "df['stroke']=df['stroke'].astype('float')\n",
        "\n",
        "df['horsepower']=df['horsepower'].astype(\"float\")\n",
        "\n",
        "df['peak-rpm']=df['peak-rpm'].astype(\"float\")\n",
        "\n",
        "df[[\"bore\", \"stroke\"]] = df[[\"bore\", \"stroke\"]].astype(\"float\")\n",
        "df[[\"normalized-losses\"]] = df[[\"normalized-losses\"]].astype(\"int\")\n",
        "df[[\"price\"]] = df[[\"price\"]].astype(\"float\")\n",
        "df[[\"peak-rpm\"]] = df[[\"peak-rpm\"]].astype(\"float\")"
      ],
      "execution_count": 21,
      "outputs": []
    },
    {
      "cell_type": "markdown",
      "metadata": {
        "id": "AwAhkeJm1GjQ"
      },
      "source": [
        "**Fourth Step: Normalizing The Data**"
      ]
    },
    {
      "cell_type": "code",
      "metadata": {
        "id": "fdHv_5Co1Fd3"
      },
      "source": [
        "df['length'] = df['length']/df['length'].max()\n",
        "df['width'] = df['width']/df['width'].max()\n",
        "df['height'] = df['height']/df['height'].max()"
      ],
      "execution_count": 23,
      "outputs": []
    },
    {
      "cell_type": "markdown",
      "metadata": {
        "id": "R4iAgQ_h1nbe"
      },
      "source": [
        "**Fifth Step: Data Binning**"
      ]
    },
    {
      "cell_type": "code",
      "metadata": {
        "id": "bUTpXHHu1rYl",
        "colab": {
          "base_uri": "https://localhost:8080/",
          "height": 932
        },
        "outputId": "0b5214a6-79ef-472b-fd9b-8078c9d25cd4"
      },
      "source": [
        "# In binning we divide all the data into categories so they are easier to differentiate\n",
        "\n",
        "categories=['Low','Medium','High']\n",
        "\n",
        "bins=np.linspace(min(df['price']),max(df['price']),4) # will section the price values into equally spaced intervals to categorize them\n",
        "df['price-binned']=pd.cut(df['price'],bins,labels=categories,include_lowest=True)\n",
        "\n",
        "print(df['price-binned'])\n",
        "\n",
        "bins=np.linspace(min(df['horsepower']),max(df['horsepower']),4)\n",
        "df['horsepower-binned']=pd.cut(df['horsepower'],bins,labels=categories,include_lowest=True)\n",
        "\n",
        "print(df['horsepower-binned'])\n",
        "\n",
        "df.reset_index(drop=True,inplace=True) # re-initialize all the indexes from 0 to N\n",
        "\n",
        "df"
      ],
      "execution_count": 24,
      "outputs": [
        {
          "output_type": "stream",
          "text": [
            "0         Low\n",
            "1         Low\n",
            "2         Low\n",
            "3         Low\n",
            "4         Low\n",
            "        ...  \n",
            "200       Low\n",
            "201    Medium\n",
            "202    Medium\n",
            "203    Medium\n",
            "204    Medium\n",
            "Name: price-binned, Length: 201, dtype: category\n",
            "Categories (3, object): ['Low' < 'Medium' < 'High']\n",
            "0         Low\n",
            "1         Low\n",
            "2      Medium\n",
            "3         Low\n",
            "4         Low\n",
            "        ...  \n",
            "200       Low\n",
            "201    Medium\n",
            "202    Medium\n",
            "203       Low\n",
            "204       Low\n",
            "Name: horsepower-binned, Length: 201, dtype: category\n",
            "Categories (3, object): ['Low' < 'Medium' < 'High']\n"
          ],
          "name": "stdout"
        },
        {
          "output_type": "execute_result",
          "data": {
            "text/html": [
              "<div>\n",
              "<style scoped>\n",
              "    .dataframe tbody tr th:only-of-type {\n",
              "        vertical-align: middle;\n",
              "    }\n",
              "\n",
              "    .dataframe tbody tr th {\n",
              "        vertical-align: top;\n",
              "    }\n",
              "\n",
              "    .dataframe thead th {\n",
              "        text-align: right;\n",
              "    }\n",
              "</style>\n",
              "<table border=\"1\" class=\"dataframe\">\n",
              "  <thead>\n",
              "    <tr style=\"text-align: right;\">\n",
              "      <th></th>\n",
              "      <th>symboling</th>\n",
              "      <th>normalized-losses</th>\n",
              "      <th>make</th>\n",
              "      <th>fuel-type</th>\n",
              "      <th>aspiration</th>\n",
              "      <th>num-of-doors</th>\n",
              "      <th>body-style</th>\n",
              "      <th>drive-wheels</th>\n",
              "      <th>engine-location</th>\n",
              "      <th>wheel-base</th>\n",
              "      <th>length</th>\n",
              "      <th>width</th>\n",
              "      <th>height</th>\n",
              "      <th>curb-weight</th>\n",
              "      <th>engine-type</th>\n",
              "      <th>num-of-cylinders</th>\n",
              "      <th>engine-size</th>\n",
              "      <th>fuel-system</th>\n",
              "      <th>bore</th>\n",
              "      <th>stroke</th>\n",
              "      <th>compression-ratio</th>\n",
              "      <th>horsepower</th>\n",
              "      <th>peak-rpm</th>\n",
              "      <th>city-mpg</th>\n",
              "      <th>highway-mpg</th>\n",
              "      <th>price</th>\n",
              "      <th>price-binned</th>\n",
              "      <th>horsepower-binned</th>\n",
              "    </tr>\n",
              "  </thead>\n",
              "  <tbody>\n",
              "    <tr>\n",
              "      <th>0</th>\n",
              "      <td>3</td>\n",
              "      <td>122</td>\n",
              "      <td>alfa-romero</td>\n",
              "      <td>gas</td>\n",
              "      <td>std</td>\n",
              "      <td>two</td>\n",
              "      <td>convertible</td>\n",
              "      <td>rwd</td>\n",
              "      <td>front</td>\n",
              "      <td>88.6</td>\n",
              "      <td>0.811148</td>\n",
              "      <td>0.890278</td>\n",
              "      <td>0.816054</td>\n",
              "      <td>2548</td>\n",
              "      <td>dohc</td>\n",
              "      <td>four</td>\n",
              "      <td>130</td>\n",
              "      <td>mpfi</td>\n",
              "      <td>3.47</td>\n",
              "      <td>2.68</td>\n",
              "      <td>9.0</td>\n",
              "      <td>111.0</td>\n",
              "      <td>5000.0</td>\n",
              "      <td>21</td>\n",
              "      <td>27</td>\n",
              "      <td>13495.0</td>\n",
              "      <td>Low</td>\n",
              "      <td>Low</td>\n",
              "    </tr>\n",
              "    <tr>\n",
              "      <th>1</th>\n",
              "      <td>3</td>\n",
              "      <td>122</td>\n",
              "      <td>alfa-romero</td>\n",
              "      <td>gas</td>\n",
              "      <td>std</td>\n",
              "      <td>two</td>\n",
              "      <td>convertible</td>\n",
              "      <td>rwd</td>\n",
              "      <td>front</td>\n",
              "      <td>88.6</td>\n",
              "      <td>0.811148</td>\n",
              "      <td>0.890278</td>\n",
              "      <td>0.816054</td>\n",
              "      <td>2548</td>\n",
              "      <td>dohc</td>\n",
              "      <td>four</td>\n",
              "      <td>130</td>\n",
              "      <td>mpfi</td>\n",
              "      <td>3.47</td>\n",
              "      <td>2.68</td>\n",
              "      <td>9.0</td>\n",
              "      <td>111.0</td>\n",
              "      <td>5000.0</td>\n",
              "      <td>21</td>\n",
              "      <td>27</td>\n",
              "      <td>16500.0</td>\n",
              "      <td>Low</td>\n",
              "      <td>Low</td>\n",
              "    </tr>\n",
              "    <tr>\n",
              "      <th>2</th>\n",
              "      <td>1</td>\n",
              "      <td>122</td>\n",
              "      <td>alfa-romero</td>\n",
              "      <td>gas</td>\n",
              "      <td>std</td>\n",
              "      <td>two</td>\n",
              "      <td>hatchback</td>\n",
              "      <td>rwd</td>\n",
              "      <td>front</td>\n",
              "      <td>94.5</td>\n",
              "      <td>0.822681</td>\n",
              "      <td>0.909722</td>\n",
              "      <td>0.876254</td>\n",
              "      <td>2823</td>\n",
              "      <td>ohcv</td>\n",
              "      <td>six</td>\n",
              "      <td>152</td>\n",
              "      <td>mpfi</td>\n",
              "      <td>2.68</td>\n",
              "      <td>3.47</td>\n",
              "      <td>9.0</td>\n",
              "      <td>154.0</td>\n",
              "      <td>5000.0</td>\n",
              "      <td>19</td>\n",
              "      <td>26</td>\n",
              "      <td>16500.0</td>\n",
              "      <td>Low</td>\n",
              "      <td>Medium</td>\n",
              "    </tr>\n",
              "    <tr>\n",
              "      <th>3</th>\n",
              "      <td>2</td>\n",
              "      <td>164</td>\n",
              "      <td>audi</td>\n",
              "      <td>gas</td>\n",
              "      <td>std</td>\n",
              "      <td>four</td>\n",
              "      <td>sedan</td>\n",
              "      <td>fwd</td>\n",
              "      <td>front</td>\n",
              "      <td>99.8</td>\n",
              "      <td>0.848630</td>\n",
              "      <td>0.919444</td>\n",
              "      <td>0.908027</td>\n",
              "      <td>2337</td>\n",
              "      <td>ohc</td>\n",
              "      <td>four</td>\n",
              "      <td>109</td>\n",
              "      <td>mpfi</td>\n",
              "      <td>3.19</td>\n",
              "      <td>3.40</td>\n",
              "      <td>10.0</td>\n",
              "      <td>102.0</td>\n",
              "      <td>5500.0</td>\n",
              "      <td>24</td>\n",
              "      <td>30</td>\n",
              "      <td>13950.0</td>\n",
              "      <td>Low</td>\n",
              "      <td>Low</td>\n",
              "    </tr>\n",
              "    <tr>\n",
              "      <th>4</th>\n",
              "      <td>2</td>\n",
              "      <td>164</td>\n",
              "      <td>audi</td>\n",
              "      <td>gas</td>\n",
              "      <td>std</td>\n",
              "      <td>four</td>\n",
              "      <td>sedan</td>\n",
              "      <td>4wd</td>\n",
              "      <td>front</td>\n",
              "      <td>99.4</td>\n",
              "      <td>0.848630</td>\n",
              "      <td>0.922222</td>\n",
              "      <td>0.908027</td>\n",
              "      <td>2824</td>\n",
              "      <td>ohc</td>\n",
              "      <td>five</td>\n",
              "      <td>136</td>\n",
              "      <td>mpfi</td>\n",
              "      <td>3.19</td>\n",
              "      <td>3.40</td>\n",
              "      <td>8.0</td>\n",
              "      <td>115.0</td>\n",
              "      <td>5500.0</td>\n",
              "      <td>18</td>\n",
              "      <td>22</td>\n",
              "      <td>17450.0</td>\n",
              "      <td>Low</td>\n",
              "      <td>Low</td>\n",
              "    </tr>\n",
              "    <tr>\n",
              "      <th>...</th>\n",
              "      <td>...</td>\n",
              "      <td>...</td>\n",
              "      <td>...</td>\n",
              "      <td>...</td>\n",
              "      <td>...</td>\n",
              "      <td>...</td>\n",
              "      <td>...</td>\n",
              "      <td>...</td>\n",
              "      <td>...</td>\n",
              "      <td>...</td>\n",
              "      <td>...</td>\n",
              "      <td>...</td>\n",
              "      <td>...</td>\n",
              "      <td>...</td>\n",
              "      <td>...</td>\n",
              "      <td>...</td>\n",
              "      <td>...</td>\n",
              "      <td>...</td>\n",
              "      <td>...</td>\n",
              "      <td>...</td>\n",
              "      <td>...</td>\n",
              "      <td>...</td>\n",
              "      <td>...</td>\n",
              "      <td>...</td>\n",
              "      <td>...</td>\n",
              "      <td>...</td>\n",
              "      <td>...</td>\n",
              "      <td>...</td>\n",
              "    </tr>\n",
              "    <tr>\n",
              "      <th>196</th>\n",
              "      <td>-1</td>\n",
              "      <td>95</td>\n",
              "      <td>volvo</td>\n",
              "      <td>gas</td>\n",
              "      <td>std</td>\n",
              "      <td>four</td>\n",
              "      <td>sedan</td>\n",
              "      <td>rwd</td>\n",
              "      <td>front</td>\n",
              "      <td>109.1</td>\n",
              "      <td>0.907256</td>\n",
              "      <td>0.956944</td>\n",
              "      <td>0.928094</td>\n",
              "      <td>2952</td>\n",
              "      <td>ohc</td>\n",
              "      <td>four</td>\n",
              "      <td>141</td>\n",
              "      <td>mpfi</td>\n",
              "      <td>3.78</td>\n",
              "      <td>3.15</td>\n",
              "      <td>9.5</td>\n",
              "      <td>114.0</td>\n",
              "      <td>5400.0</td>\n",
              "      <td>23</td>\n",
              "      <td>28</td>\n",
              "      <td>16845.0</td>\n",
              "      <td>Low</td>\n",
              "      <td>Low</td>\n",
              "    </tr>\n",
              "    <tr>\n",
              "      <th>197</th>\n",
              "      <td>-1</td>\n",
              "      <td>95</td>\n",
              "      <td>volvo</td>\n",
              "      <td>gas</td>\n",
              "      <td>turbo</td>\n",
              "      <td>four</td>\n",
              "      <td>sedan</td>\n",
              "      <td>rwd</td>\n",
              "      <td>front</td>\n",
              "      <td>109.1</td>\n",
              "      <td>0.907256</td>\n",
              "      <td>0.955556</td>\n",
              "      <td>0.928094</td>\n",
              "      <td>3049</td>\n",
              "      <td>ohc</td>\n",
              "      <td>four</td>\n",
              "      <td>141</td>\n",
              "      <td>mpfi</td>\n",
              "      <td>3.78</td>\n",
              "      <td>3.15</td>\n",
              "      <td>8.7</td>\n",
              "      <td>160.0</td>\n",
              "      <td>5300.0</td>\n",
              "      <td>19</td>\n",
              "      <td>25</td>\n",
              "      <td>19045.0</td>\n",
              "      <td>Medium</td>\n",
              "      <td>Medium</td>\n",
              "    </tr>\n",
              "    <tr>\n",
              "      <th>198</th>\n",
              "      <td>-1</td>\n",
              "      <td>95</td>\n",
              "      <td>volvo</td>\n",
              "      <td>gas</td>\n",
              "      <td>std</td>\n",
              "      <td>four</td>\n",
              "      <td>sedan</td>\n",
              "      <td>rwd</td>\n",
              "      <td>front</td>\n",
              "      <td>109.1</td>\n",
              "      <td>0.907256</td>\n",
              "      <td>0.956944</td>\n",
              "      <td>0.928094</td>\n",
              "      <td>3012</td>\n",
              "      <td>ohcv</td>\n",
              "      <td>six</td>\n",
              "      <td>173</td>\n",
              "      <td>mpfi</td>\n",
              "      <td>3.58</td>\n",
              "      <td>2.87</td>\n",
              "      <td>8.8</td>\n",
              "      <td>134.0</td>\n",
              "      <td>5500.0</td>\n",
              "      <td>18</td>\n",
              "      <td>23</td>\n",
              "      <td>21485.0</td>\n",
              "      <td>Medium</td>\n",
              "      <td>Medium</td>\n",
              "    </tr>\n",
              "    <tr>\n",
              "      <th>199</th>\n",
              "      <td>-1</td>\n",
              "      <td>95</td>\n",
              "      <td>volvo</td>\n",
              "      <td>diesel</td>\n",
              "      <td>turbo</td>\n",
              "      <td>four</td>\n",
              "      <td>sedan</td>\n",
              "      <td>rwd</td>\n",
              "      <td>front</td>\n",
              "      <td>109.1</td>\n",
              "      <td>0.907256</td>\n",
              "      <td>0.956944</td>\n",
              "      <td>0.928094</td>\n",
              "      <td>3217</td>\n",
              "      <td>ohc</td>\n",
              "      <td>six</td>\n",
              "      <td>145</td>\n",
              "      <td>idi</td>\n",
              "      <td>3.01</td>\n",
              "      <td>3.40</td>\n",
              "      <td>23.0</td>\n",
              "      <td>106.0</td>\n",
              "      <td>4800.0</td>\n",
              "      <td>26</td>\n",
              "      <td>27</td>\n",
              "      <td>22470.0</td>\n",
              "      <td>Medium</td>\n",
              "      <td>Low</td>\n",
              "    </tr>\n",
              "    <tr>\n",
              "      <th>200</th>\n",
              "      <td>-1</td>\n",
              "      <td>95</td>\n",
              "      <td>volvo</td>\n",
              "      <td>gas</td>\n",
              "      <td>turbo</td>\n",
              "      <td>four</td>\n",
              "      <td>sedan</td>\n",
              "      <td>rwd</td>\n",
              "      <td>front</td>\n",
              "      <td>109.1</td>\n",
              "      <td>0.907256</td>\n",
              "      <td>0.956944</td>\n",
              "      <td>0.928094</td>\n",
              "      <td>3062</td>\n",
              "      <td>ohc</td>\n",
              "      <td>four</td>\n",
              "      <td>141</td>\n",
              "      <td>mpfi</td>\n",
              "      <td>3.78</td>\n",
              "      <td>3.15</td>\n",
              "      <td>9.5</td>\n",
              "      <td>114.0</td>\n",
              "      <td>5400.0</td>\n",
              "      <td>19</td>\n",
              "      <td>25</td>\n",
              "      <td>22625.0</td>\n",
              "      <td>Medium</td>\n",
              "      <td>Low</td>\n",
              "    </tr>\n",
              "  </tbody>\n",
              "</table>\n",
              "<p>201 rows × 28 columns</p>\n",
              "</div>"
            ],
            "text/plain": [
              "     symboling  normalized-losses  ... price-binned horsepower-binned\n",
              "0            3                122  ...          Low               Low\n",
              "1            3                122  ...          Low               Low\n",
              "2            1                122  ...          Low            Medium\n",
              "3            2                164  ...          Low               Low\n",
              "4            2                164  ...          Low               Low\n",
              "..         ...                ...  ...          ...               ...\n",
              "196         -1                 95  ...          Low               Low\n",
              "197         -1                 95  ...       Medium            Medium\n",
              "198         -1                 95  ...       Medium            Medium\n",
              "199         -1                 95  ...       Medium               Low\n",
              "200         -1                 95  ...       Medium               Low\n",
              "\n",
              "[201 rows x 28 columns]"
            ]
          },
          "metadata": {
            "tags": []
          },
          "execution_count": 24
        }
      ]
    },
    {
      "cell_type": "markdown",
      "metadata": {
        "id": "s9uHyqD24PTz"
      },
      "source": [
        "**Sixth Step: One Hot Encoding (Dummy Variables)**"
      ]
    },
    {
      "cell_type": "code",
      "metadata": {
        "id": "V6tqFD6I1scY"
      },
      "source": [
        "# we can see that fuel type and aspiration column only has 2 values so we can create dummy columns for the by converting them into integers\n",
        "\n",
        "dummy_fuel_type=pd.get_dummies(df['fuel-type'])\n",
        "df['fuel-diesel']=dummy_fuel_type['diesel']\n",
        "df['fuel-gas']=dummy_fuel_type['gas']\n",
        "\n",
        "df.drop(\"fuel-type\", axis = 1, inplace=True)\n",
        "\n",
        "aspiration_dummy=pd.get_dummies(df['aspiration'])\n",
        "df['aspiration-std']=aspiration_dummy['std']\n",
        "df['aspiration-turbo']=aspiration_dummy['turbo']\n",
        "\n",
        "df.drop(\"aspiration\", axis = 1, inplace=True)"
      ],
      "execution_count": 25,
      "outputs": []
    },
    {
      "cell_type": "markdown",
      "metadata": {
        "id": "87R7S2nV79Pl"
      },
      "source": [
        "# **Exploratory Data Analysis**"
      ]
    },
    {
      "cell_type": "markdown",
      "metadata": {
        "id": "EjmXyesx8zN-"
      },
      "source": [
        "**In This Segment We Will Find Out What Attributes Affect The Price Of The Car By Visualizing**"
      ]
    },
    {
      "cell_type": "code",
      "metadata": {
        "id": "AHw2OXNQ4Sy4"
      },
      "source": [
        "import matplotlib.pyplot as plt\n",
        "import seaborn as sns"
      ],
      "execution_count": 26,
      "outputs": []
    },
    {
      "cell_type": "markdown",
      "metadata": {
        "id": "zxsYBlCQ9ni4"
      },
      "source": [
        "Finding Correlation of columns with one another"
      ]
    },
    {
      "cell_type": "code",
      "metadata": {
        "id": "17sN-YNn9f23",
        "colab": {
          "base_uri": "https://localhost:8080/",
          "height": 108
        },
        "outputId": "b7cac745-647e-4e29-c6b4-a787c36f3ecd"
      },
      "source": [
        "df.corr()\n",
        "df[['horsepower','price']].corr()"
      ],
      "execution_count": 27,
      "outputs": [
        {
          "output_type": "execute_result",
          "data": {
            "text/html": [
              "<div>\n",
              "<style scoped>\n",
              "    .dataframe tbody tr th:only-of-type {\n",
              "        vertical-align: middle;\n",
              "    }\n",
              "\n",
              "    .dataframe tbody tr th {\n",
              "        vertical-align: top;\n",
              "    }\n",
              "\n",
              "    .dataframe thead th {\n",
              "        text-align: right;\n",
              "    }\n",
              "</style>\n",
              "<table border=\"1\" class=\"dataframe\">\n",
              "  <thead>\n",
              "    <tr style=\"text-align: right;\">\n",
              "      <th></th>\n",
              "      <th>horsepower</th>\n",
              "      <th>price</th>\n",
              "    </tr>\n",
              "  </thead>\n",
              "  <tbody>\n",
              "    <tr>\n",
              "      <th>horsepower</th>\n",
              "      <td>1.000000</td>\n",
              "      <td>0.809681</td>\n",
              "    </tr>\n",
              "    <tr>\n",
              "      <th>price</th>\n",
              "      <td>0.809681</td>\n",
              "      <td>1.000000</td>\n",
              "    </tr>\n",
              "  </tbody>\n",
              "</table>\n",
              "</div>"
            ],
            "text/plain": [
              "            horsepower     price\n",
              "horsepower    1.000000  0.809681\n",
              "price         0.809681  1.000000"
            ]
          },
          "metadata": {
            "tags": []
          },
          "execution_count": 27
        }
      ]
    },
    {
      "cell_type": "markdown",
      "metadata": {
        "id": "3Yqi9TzsBkBI"
      },
      "source": [
        "**Finding Linear Relationship Between Other Atrributes With Price Through Regression**"
      ]
    },
    {
      "cell_type": "markdown",
      "metadata": {
        "id": "YMR32Ry9CMb5"
      },
      "source": [
        "\n",
        "\n",
        "**1.**   **Engine Size and Price**\n",
        "\n"
      ]
    },
    {
      "cell_type": "code",
      "metadata": {
        "id": "t-pBYbGY9yTe",
        "colab": {
          "base_uri": "https://localhost:8080/",
          "height": 371
        },
        "outputId": "61be080e-fb46-4274-ff36-f2395eb52009"
      },
      "source": [
        "# Engine size as potential predictor variable of price, Engine size seems like a pretty good predictor of price since \n",
        "# the regression line is almost a perfect diagonal line.\n",
        "sns.regplot(x=\"engine-size\", y=\"price\", data=df)\n",
        "plt.ylim(0,)\n",
        "\n",
        "# we can also find out the correlation value\n",
        "df[['engine-size','price']].corr()"
      ],
      "execution_count": 28,
      "outputs": [
        {
          "output_type": "execute_result",
          "data": {
            "text/html": [
              "<div>\n",
              "<style scoped>\n",
              "    .dataframe tbody tr th:only-of-type {\n",
              "        vertical-align: middle;\n",
              "    }\n",
              "\n",
              "    .dataframe tbody tr th {\n",
              "        vertical-align: top;\n",
              "    }\n",
              "\n",
              "    .dataframe thead th {\n",
              "        text-align: right;\n",
              "    }\n",
              "</style>\n",
              "<table border=\"1\" class=\"dataframe\">\n",
              "  <thead>\n",
              "    <tr style=\"text-align: right;\">\n",
              "      <th></th>\n",
              "      <th>engine-size</th>\n",
              "      <th>price</th>\n",
              "    </tr>\n",
              "  </thead>\n",
              "  <tbody>\n",
              "    <tr>\n",
              "      <th>engine-size</th>\n",
              "      <td>1.000000</td>\n",
              "      <td>0.872335</td>\n",
              "    </tr>\n",
              "    <tr>\n",
              "      <th>price</th>\n",
              "      <td>0.872335</td>\n",
              "      <td>1.000000</td>\n",
              "    </tr>\n",
              "  </tbody>\n",
              "</table>\n",
              "</div>"
            ],
            "text/plain": [
              "             engine-size     price\n",
              "engine-size     1.000000  0.872335\n",
              "price           0.872335  1.000000"
            ]
          },
          "metadata": {
            "tags": []
          },
          "execution_count": 28
        },
        {
          "output_type": "display_data",
          "data": {
            "image/png": "[encoded data removed]",
            "text/plain": [
              "<Figure size 432x288 with 1 Axes>"
            ]
          },
          "metadata": {
            "tags": [],
            "needs_background": "light"
          }
        }
      ]
    },
    {
      "cell_type": "markdown",
      "metadata": {
        "id": "hyLTL-DYCZsg"
      },
      "source": [
        "\n",
        "**2.**   **Highway-L/100km vs Price**\n",
        "\n"
      ]
    },
    {
      "cell_type": "code",
      "metadata": {
        "id": "LMHwG50YB69S",
        "colab": {
          "base_uri": "https://localhost:8080/",
          "height": 371
        },
        "outputId": "1eb74d13-2505-4395-9ce5-35ec48e831e9"
      },
      "source": [
        "sns.regplot(x=\"highway-mpg\", y=\"price\", data=df)\n",
        "plt.ylim(0,)\n",
        "\n",
        "# we can also find out the correlation value\n",
        "df[['highway-mpg','price']].corr()"
      ],
      "execution_count": 29,
      "outputs": [
        {
          "output_type": "execute_result",
          "data": {
            "text/html": [
              "<div>\n",
              "<style scoped>\n",
              "    .dataframe tbody tr th:only-of-type {\n",
              "        vertical-align: middle;\n",
              "    }\n",
              "\n",
              "    .dataframe tbody tr th {\n",
              "        vertical-align: top;\n",
              "    }\n",
              "\n",
              "    .dataframe thead th {\n",
              "        text-align: right;\n",
              "    }\n",
              "</style>\n",
              "<table border=\"1\" class=\"dataframe\">\n",
              "  <thead>\n",
              "    <tr style=\"text-align: right;\">\n",
              "      <th></th>\n",
              "      <th>highway-mpg</th>\n",
              "      <th>price</th>\n",
              "    </tr>\n",
              "  </thead>\n",
              "  <tbody>\n",
              "    <tr>\n",
              "      <th>highway-mpg</th>\n",
              "      <td>1.000000</td>\n",
              "      <td>-0.704692</td>\n",
              "    </tr>\n",
              "    <tr>\n",
              "      <th>price</th>\n",
              "      <td>-0.704692</td>\n",
              "      <td>1.000000</td>\n",
              "    </tr>\n",
              "  </tbody>\n",
              "</table>\n",
              "</div>"
            ],
            "text/plain": [
              "             highway-mpg     price\n",
              "highway-mpg     1.000000 -0.704692\n",
              "price          -0.704692  1.000000"
            ]
          },
          "metadata": {
            "tags": []
          },
          "execution_count": 29
        },
        {
          "output_type": "display_data",
          "data": {
            "image/png": "[encoded data removed]",
            "text/plain": [
              "<Figure size 432x288 with 1 Axes>"
            ]
          },
          "metadata": {
            "tags": [],
            "needs_background": "light"
          }
        }
      ]
    },
    {
      "cell_type": "markdown",
      "metadata": {
        "id": "N-YtYhQ_HsMG"
      },
      "source": [
        "\n",
        "**3.** **Peak-rpm vs Price** \n",
        "\n"
      ]
    },
    {
      "cell_type": "code",
      "metadata": {
        "id": "Dl5cdOInGcBD",
        "colab": {
          "base_uri": "https://localhost:8080/",
          "height": 371
        },
        "outputId": "4731d80f-7537-40d8-cf92-b3d04677cad8"
      },
      "source": [
        "sns.regplot(x='peak-rpm',y='price',data=df)\n",
        "plt.ylim(0,)\n",
        "\n",
        "# we can also find out the correlation value\n",
        "df[['peak-rpm','price']].corr()"
      ],
      "execution_count": 30,
      "outputs": [
        {
          "output_type": "execute_result",
          "data": {
            "text/html": [
              "<div>\n",
              "<style scoped>\n",
              "    .dataframe tbody tr th:only-of-type {\n",
              "        vertical-align: middle;\n",
              "    }\n",
              "\n",
              "    .dataframe tbody tr th {\n",
              "        vertical-align: top;\n",
              "    }\n",
              "\n",
              "    .dataframe thead th {\n",
              "        text-align: right;\n",
              "    }\n",
              "</style>\n",
              "<table border=\"1\" class=\"dataframe\">\n",
              "  <thead>\n",
              "    <tr style=\"text-align: right;\">\n",
              "      <th></th>\n",
              "      <th>peak-rpm</th>\n",
              "      <th>price</th>\n",
              "    </tr>\n",
              "  </thead>\n",
              "  <tbody>\n",
              "    <tr>\n",
              "      <th>peak-rpm</th>\n",
              "      <td>1.000000</td>\n",
              "      <td>-0.101542</td>\n",
              "    </tr>\n",
              "    <tr>\n",
              "      <th>price</th>\n",
              "      <td>-0.101542</td>\n",
              "      <td>1.000000</td>\n",
              "    </tr>\n",
              "  </tbody>\n",
              "</table>\n",
              "</div>"
            ],
            "text/plain": [
              "          peak-rpm     price\n",
              "peak-rpm  1.000000 -0.101542\n",
              "price    -0.101542  1.000000"
            ]
          },
          "metadata": {
            "tags": []
          },
          "execution_count": 30
        },
        {
          "output_type": "display_data",
          "data": {
            "image/png": "[encoded data removed]",
            "text/plain": [
              "<Figure size 432x288 with 1 Axes>"
            ]
          },
          "metadata": {
            "tags": [],
            "needs_background": "light"
          }
        }
      ]
    },
    {
      "cell_type": "markdown",
      "metadata": {
        "id": "jSYkQwRiILmC"
      },
      "source": [
        "**Finding Relationship Between Categorical Variables With Price Using Boxplots**"
      ]
    },
    {
      "cell_type": "markdown",
      "metadata": {
        "id": "XL8T9RjpJPYg"
      },
      "source": [
        "\n",
        "\n",
        "**1.**   **Body-Style vs Price**\n",
        "\n"
      ]
    },
    {
      "cell_type": "code",
      "metadata": {
        "id": "x5Ku07hBIBPa",
        "colab": {
          "base_uri": "https://localhost:8080/",
          "height": 295
        },
        "outputId": "257fc54b-305b-4c32-a9fe-c93a4c202876"
      },
      "source": [
        "# We see that the distributions of price between the different body-style categories have a significant overlap, \n",
        "# and so body-style would not be a good predictor of price. \n",
        "sns.boxplot(x=\"body-style\", y=\"price\", data=df)"
      ],
      "execution_count": 31,
      "outputs": [
        {
          "output_type": "execute_result",
          "data": {
            "text/plain": [
              "<matplotlib.axes._subplots.AxesSubplot at 0x7f27f5701f50>"
            ]
          },
          "metadata": {
            "tags": []
          },
          "execution_count": 31
        },
        {
          "output_type": "display_data",
          "data": {
            "image/png": "[encoded data removed]",
            "text/plain": [
              "<Figure size 432x288 with 1 Axes>"
            ]
          },
          "metadata": {
            "tags": [],
            "needs_background": "light"
          }
        }
      ]
    },
    {
      "cell_type": "markdown",
      "metadata": {
        "id": "b6k05wY5Jkv3"
      },
      "source": [
        "\n",
        "**2.**   **Engine-Location vs Price**\n",
        "\n"
      ]
    },
    {
      "cell_type": "code",
      "metadata": {
        "id": "KKjqtmnmJbmf",
        "colab": {
          "base_uri": "https://localhost:8080/",
          "height": 295
        },
        "outputId": "b994aa70-28d6-4551-9d74-d698262fbc89"
      },
      "source": [
        "# Here we see that the distribution of price between these two engine-location categories, front and rear,\n",
        "# are distinct enough to take engine-location as a potential good predictor of price.\n",
        "sns.boxplot(x=\"engine-location\", y=\"price\", data=df)"
      ],
      "execution_count": 32,
      "outputs": [
        {
          "output_type": "execute_result",
          "data": {
            "text/plain": [
              "<matplotlib.axes._subplots.AxesSubplot at 0x7f27f570d2d0>"
            ]
          },
          "metadata": {
            "tags": []
          },
          "execution_count": 32
        },
        {
          "output_type": "display_data",
          "data": {
            "image/png": "[encoded data removed]",
            "text/plain": [
              "<Figure size 432x288 with 1 Axes>"
            ]
          },
          "metadata": {
            "tags": [],
            "needs_background": "light"
          }
        }
      ]
    },
    {
      "cell_type": "markdown",
      "metadata": {
        "id": "wnOphdIQJ386"
      },
      "source": [
        "\n",
        "\n",
        "**3.** **Drive-wheels vs Price** \n",
        "\n"
      ]
    },
    {
      "cell_type": "code",
      "metadata": {
        "id": "cIG1hQXOJwEZ",
        "colab": {
          "base_uri": "https://localhost:8080/",
          "height": 295
        },
        "outputId": "cb16034a-512e-436c-f431-c68f90dff2f2"
      },
      "source": [
        "# Here we see that the distribution of price between the different drive-wheels categories differs;\n",
        "# as such drive-wheels could potentially be a predictor of price.\n",
        "sns.boxplot(x='drive-wheels',y='price',data=df)"
      ],
      "execution_count": 33,
      "outputs": [
        {
          "output_type": "execute_result",
          "data": {
            "text/plain": [
              "<matplotlib.axes._subplots.AxesSubplot at 0x7f27f57cbb10>"
            ]
          },
          "metadata": {
            "tags": []
          },
          "execution_count": 33
        },
        {
          "output_type": "display_data",
          "data": {
            "image/png": "[encoded data removed]",
            "text/plain": [
              "<Figure size 432x288 with 1 Axes>"
            ]
          },
          "metadata": {
            "tags": [],
            "needs_background": "light"
          }
        }
      ]
    },
    {
      "cell_type": "markdown",
      "metadata": {
        "id": "OojnCnlcK3tc"
      },
      "source": [
        "# **Descriptive Statistical Analysis**"
      ]
    },
    {
      "cell_type": "markdown",
      "metadata": {
        "id": "gl1iXZBDvDgB"
      },
      "source": [
        "It is used to see the spread of data and to check whether the data is normally distributed or not and whether the given data is skewed or not."
      ]
    },
    {
      "cell_type": "code",
      "metadata": {
        "id": "eVhMdM2FRQUo",
        "colab": {
          "base_uri": "https://localhost:8080/",
          "height": 290
        },
        "outputId": "d8d2d5b3-6402-490a-970a-9c5d77497059"
      },
      "source": [
        "df.describe()\n",
        "\n",
        "df.describe(include=['object']).transpose() # will give description about string columns"
      ],
      "execution_count": 34,
      "outputs": [
        {
          "output_type": "execute_result",
          "data": {
            "text/html": [
              "<div>\n",
              "<style scoped>\n",
              "    .dataframe tbody tr th:only-of-type {\n",
              "        vertical-align: middle;\n",
              "    }\n",
              "\n",
              "    .dataframe tbody tr th {\n",
              "        vertical-align: top;\n",
              "    }\n",
              "\n",
              "    .dataframe thead th {\n",
              "        text-align: right;\n",
              "    }\n",
              "</style>\n",
              "<table border=\"1\" class=\"dataframe\">\n",
              "  <thead>\n",
              "    <tr style=\"text-align: right;\">\n",
              "      <th></th>\n",
              "      <th>count</th>\n",
              "      <th>unique</th>\n",
              "      <th>top</th>\n",
              "      <th>freq</th>\n",
              "    </tr>\n",
              "  </thead>\n",
              "  <tbody>\n",
              "    <tr>\n",
              "      <th>make</th>\n",
              "      <td>201</td>\n",
              "      <td>22</td>\n",
              "      <td>toyota</td>\n",
              "      <td>32</td>\n",
              "    </tr>\n",
              "    <tr>\n",
              "      <th>num-of-doors</th>\n",
              "      <td>201</td>\n",
              "      <td>2</td>\n",
              "      <td>four</td>\n",
              "      <td>115</td>\n",
              "    </tr>\n",
              "    <tr>\n",
              "      <th>body-style</th>\n",
              "      <td>201</td>\n",
              "      <td>5</td>\n",
              "      <td>sedan</td>\n",
              "      <td>94</td>\n",
              "    </tr>\n",
              "    <tr>\n",
              "      <th>drive-wheels</th>\n",
              "      <td>201</td>\n",
              "      <td>3</td>\n",
              "      <td>fwd</td>\n",
              "      <td>118</td>\n",
              "    </tr>\n",
              "    <tr>\n",
              "      <th>engine-location</th>\n",
              "      <td>201</td>\n",
              "      <td>2</td>\n",
              "      <td>front</td>\n",
              "      <td>198</td>\n",
              "    </tr>\n",
              "    <tr>\n",
              "      <th>engine-type</th>\n",
              "      <td>201</td>\n",
              "      <td>6</td>\n",
              "      <td>ohc</td>\n",
              "      <td>145</td>\n",
              "    </tr>\n",
              "    <tr>\n",
              "      <th>num-of-cylinders</th>\n",
              "      <td>201</td>\n",
              "      <td>7</td>\n",
              "      <td>four</td>\n",
              "      <td>157</td>\n",
              "    </tr>\n",
              "    <tr>\n",
              "      <th>fuel-system</th>\n",
              "      <td>201</td>\n",
              "      <td>8</td>\n",
              "      <td>mpfi</td>\n",
              "      <td>92</td>\n",
              "    </tr>\n",
              "  </tbody>\n",
              "</table>\n",
              "</div>"
            ],
            "text/plain": [
              "                 count unique     top freq\n",
              "make               201     22  toyota   32\n",
              "num-of-doors       201      2    four  115\n",
              "body-style         201      5   sedan   94\n",
              "drive-wheels       201      3     fwd  118\n",
              "engine-location    201      2   front  198\n",
              "engine-type        201      6     ohc  145\n",
              "num-of-cylinders   201      7    four  157\n",
              "fuel-system        201      8    mpfi   92"
            ]
          },
          "metadata": {
            "tags": []
          },
          "execution_count": 34
        }
      ]
    },
    {
      "cell_type": "markdown",
      "metadata": {
        "id": "mgTJabitQtU4"
      },
      "source": [
        "From Above We Deduced That Engine Location And Drive Wheels Could Be Potential Predictors Of Price So Using Descriptive Statistics To Find Out If They Will Be Used As Predictors Or Not"
      ]
    },
    {
      "cell_type": "markdown",
      "metadata": {
        "id": "IO6GAMtcR_Er"
      },
      "source": [
        "**Using Value Counts For:**"
      ]
    },
    {
      "cell_type": "markdown",
      "metadata": {
        "id": "oB3ekypBSKTj"
      },
      "source": [
        "\n",
        "\n",
        "**1.** **Drive Wheels**\n",
        "\n"
      ]
    },
    {
      "cell_type": "code",
      "metadata": {
        "colab": {
          "base_uri": "https://localhost:8080/",
          "height": 170
        },
        "id": "22yS75ZnK_rT",
        "outputId": "060f0535-19b0-44df-80d1-dcab478c1ca9"
      },
      "source": [
        "# we can see that it can be used as a potential predictor for price \n",
        "drive_wheel_counts=df['drive-wheels'].value_counts().to_frame()\n",
        "drive_wheel_counts.rename(columns={'drive-wheels':'value_counts'},inplace=True)\n",
        "drive_wheel_counts.index.name='drive-wheels'\n",
        "drive_wheel_counts"
      ],
      "execution_count": 35,
      "outputs": [
        {
          "output_type": "execute_result",
          "data": {
            "text/html": [
              "<div>\n",
              "<style scoped>\n",
              "    .dataframe tbody tr th:only-of-type {\n",
              "        vertical-align: middle;\n",
              "    }\n",
              "\n",
              "    .dataframe tbody tr th {\n",
              "        vertical-align: top;\n",
              "    }\n",
              "\n",
              "    .dataframe thead th {\n",
              "        text-align: right;\n",
              "    }\n",
              "</style>\n",
              "<table border=\"1\" class=\"dataframe\">\n",
              "  <thead>\n",
              "    <tr style=\"text-align: right;\">\n",
              "      <th></th>\n",
              "      <th>value_counts</th>\n",
              "    </tr>\n",
              "    <tr>\n",
              "      <th>drive-wheels</th>\n",
              "      <th></th>\n",
              "    </tr>\n",
              "  </thead>\n",
              "  <tbody>\n",
              "    <tr>\n",
              "      <th>fwd</th>\n",
              "      <td>118</td>\n",
              "    </tr>\n",
              "    <tr>\n",
              "      <th>rwd</th>\n",
              "      <td>75</td>\n",
              "    </tr>\n",
              "    <tr>\n",
              "      <th>4wd</th>\n",
              "      <td>8</td>\n",
              "    </tr>\n",
              "  </tbody>\n",
              "</table>\n",
              "</div>"
            ],
            "text/plain": [
              "              value_counts\n",
              "drive-wheels              \n",
              "fwd                    118\n",
              "rwd                     75\n",
              "4wd                      8"
            ]
          },
          "metadata": {
            "tags": []
          },
          "execution_count": 35
        }
      ]
    },
    {
      "cell_type": "markdown",
      "metadata": {
        "id": "2kg7VrZBTNZx"
      },
      "source": [
        "\n",
        "\n",
        "**2.   Engine Location**\n",
        "\n"
      ]
    },
    {
      "cell_type": "code",
      "metadata": {
        "colab": {
          "base_uri": "https://localhost:8080/",
          "height": 138
        },
        "id": "xBhvUfKHScTy",
        "outputId": "9ede7719-4342-4fa5-d15e-e581e6da6f51"
      },
      "source": [
        "# we can see that the data is skewed and there aren't many values of rear to make a judgement on price so we cannot consier this as a predictor of price\n",
        "engine_location_counts=df['engine-location'].value_counts().to_frame()\n",
        "engine_location_counts.rename(columns={'engine-location':'value_counts'},inplace=True)\n",
        "engine_location_counts.index.name='engine-location'\n",
        "engine_location_counts"
      ],
      "execution_count": 36,
      "outputs": [
        {
          "output_type": "execute_result",
          "data": {
            "text/html": [
              "<div>\n",
              "<style scoped>\n",
              "    .dataframe tbody tr th:only-of-type {\n",
              "        vertical-align: middle;\n",
              "    }\n",
              "\n",
              "    .dataframe tbody tr th {\n",
              "        vertical-align: top;\n",
              "    }\n",
              "\n",
              "    .dataframe thead th {\n",
              "        text-align: right;\n",
              "    }\n",
              "</style>\n",
              "<table border=\"1\" class=\"dataframe\">\n",
              "  <thead>\n",
              "    <tr style=\"text-align: right;\">\n",
              "      <th></th>\n",
              "      <th>value_counts</th>\n",
              "    </tr>\n",
              "    <tr>\n",
              "      <th>engine-location</th>\n",
              "      <th></th>\n",
              "    </tr>\n",
              "  </thead>\n",
              "  <tbody>\n",
              "    <tr>\n",
              "      <th>front</th>\n",
              "      <td>198</td>\n",
              "    </tr>\n",
              "    <tr>\n",
              "      <th>rear</th>\n",
              "      <td>3</td>\n",
              "    </tr>\n",
              "  </tbody>\n",
              "</table>\n",
              "</div>"
            ],
            "text/plain": [
              "                 value_counts\n",
              "engine-location              \n",
              "front                     198\n",
              "rear                        3"
            ]
          },
          "metadata": {
            "tags": []
          },
          "execution_count": 36
        }
      ]
    },
    {
      "cell_type": "markdown",
      "metadata": {
        "id": "qdvD7Af8T-7-"
      },
      "source": [
        "# **Grouping**"
      ]
    },
    {
      "cell_type": "markdown",
      "metadata": {
        "id": "FW6gAp-AV2Pj"
      },
      "source": [
        "**Now That We Are Left With Drive-wheels, We Can Find The Average Price Of Each Drive Wheel**"
      ]
    },
    {
      "cell_type": "code",
      "metadata": {
        "colab": {
          "base_uri": "https://localhost:8080/",
          "height": 138
        },
        "id": "bd7AFL00Tm7l",
        "outputId": "10f9f802-c45f-4a47-d732-6d2485cc9e65"
      },
      "source": [
        "# we can see that on average, rear wheel drives are the most expensive\n",
        "grouped_drive_wheels=df[['drive-wheels','price']]\n",
        "grouped_drive_wheels=grouped_drive_wheels.groupby(['drive-wheels'],as_index=False).mean()\n",
        "grouped_drive_wheels"
      ],
      "execution_count": 37,
      "outputs": [
        {
          "output_type": "execute_result",
          "data": {
            "text/html": [
              "<div>\n",
              "<style scoped>\n",
              "    .dataframe tbody tr th:only-of-type {\n",
              "        vertical-align: middle;\n",
              "    }\n",
              "\n",
              "    .dataframe tbody tr th {\n",
              "        vertical-align: top;\n",
              "    }\n",
              "\n",
              "    .dataframe thead th {\n",
              "        text-align: right;\n",
              "    }\n",
              "</style>\n",
              "<table border=\"1\" class=\"dataframe\">\n",
              "  <thead>\n",
              "    <tr style=\"text-align: right;\">\n",
              "      <th></th>\n",
              "      <th>drive-wheels</th>\n",
              "      <th>price</th>\n",
              "    </tr>\n",
              "  </thead>\n",
              "  <tbody>\n",
              "    <tr>\n",
              "      <th>0</th>\n",
              "      <td>4wd</td>\n",
              "      <td>10241.000000</td>\n",
              "    </tr>\n",
              "    <tr>\n",
              "      <th>1</th>\n",
              "      <td>fwd</td>\n",
              "      <td>9244.779661</td>\n",
              "    </tr>\n",
              "    <tr>\n",
              "      <th>2</th>\n",
              "      <td>rwd</td>\n",
              "      <td>19757.613333</td>\n",
              "    </tr>\n",
              "  </tbody>\n",
              "</table>\n",
              "</div>"
            ],
            "text/plain": [
              "  drive-wheels         price\n",
              "0          4wd  10241.000000\n",
              "1          fwd   9244.779661\n",
              "2          rwd  19757.613333"
            ]
          },
          "metadata": {
            "tags": []
          },
          "execution_count": 37
        }
      ]
    },
    {
      "cell_type": "code",
      "metadata": {
        "colab": {
          "base_uri": "https://localhost:8080/",
          "height": 297
        },
        "id": "gLnU7-AGWo_W",
        "outputId": "a29b7d73-5a9c-47e9-9df4-1d1f433fd716"
      },
      "source": [
        "# we can also group with multiple variables such as\n",
        "multiple_group_drive_wheels=df[['drive-wheels','body-style','price']]\n",
        "multiple_group_drive_wheels=multiple_group_drive_wheels.groupby(['drive-wheels','body-style'],as_index=False).mean()\n",
        "print(multiple_group_drive_wheels.transpose())\n",
        "\n",
        "# using pivot to convert this into a more readable format\n",
        "pivot_multiple_group_drive_wheels=multiple_group_drive_wheels.pivot(index='drive-wheels',columns='body-style')\n",
        "pivot_multiple_group_drive_wheels.fillna(0,inplace=True)\n",
        "pivot_multiple_group_drive_wheels"
      ],
      "execution_count": 38,
      "outputs": [
        {
          "output_type": "stream",
          "text": [
            "                     0        1        2   ...         10       11       12\n",
            "drive-wheels        4wd      4wd      4wd  ...        rwd      rwd      rwd\n",
            "body-style    hatchback    sedan    wagon  ...  hatchback    sedan    wagon\n",
            "price              7603  12647.3  9095.75  ...    14337.8  21711.8  16994.2\n",
            "\n",
            "[3 rows x 13 columns]\n"
          ],
          "name": "stdout"
        },
        {
          "output_type": "execute_result",
          "data": {
            "text/html": [
              "<div>\n",
              "<style scoped>\n",
              "    .dataframe tbody tr th:only-of-type {\n",
              "        vertical-align: middle;\n",
              "    }\n",
              "\n",
              "    .dataframe tbody tr th {\n",
              "        vertical-align: top;\n",
              "    }\n",
              "\n",
              "    .dataframe thead tr th {\n",
              "        text-align: left;\n",
              "    }\n",
              "\n",
              "    .dataframe thead tr:last-of-type th {\n",
              "        text-align: right;\n",
              "    }\n",
              "</style>\n",
              "<table border=\"1\" class=\"dataframe\">\n",
              "  <thead>\n",
              "    <tr>\n",
              "      <th></th>\n",
              "      <th colspan=\"5\" halign=\"left\">price</th>\n",
              "    </tr>\n",
              "    <tr>\n",
              "      <th>body-style</th>\n",
              "      <th>convertible</th>\n",
              "      <th>hardtop</th>\n",
              "      <th>hatchback</th>\n",
              "      <th>sedan</th>\n",
              "      <th>wagon</th>\n",
              "    </tr>\n",
              "    <tr>\n",
              "      <th>drive-wheels</th>\n",
              "      <th></th>\n",
              "      <th></th>\n",
              "      <th></th>\n",
              "      <th></th>\n",
              "      <th></th>\n",
              "    </tr>\n",
              "  </thead>\n",
              "  <tbody>\n",
              "    <tr>\n",
              "      <th>4wd</th>\n",
              "      <td>0.0</td>\n",
              "      <td>0.000000</td>\n",
              "      <td>7603.000000</td>\n",
              "      <td>12647.333333</td>\n",
              "      <td>9095.750000</td>\n",
              "    </tr>\n",
              "    <tr>\n",
              "      <th>fwd</th>\n",
              "      <td>11595.0</td>\n",
              "      <td>8249.000000</td>\n",
              "      <td>8396.387755</td>\n",
              "      <td>9811.800000</td>\n",
              "      <td>9997.333333</td>\n",
              "    </tr>\n",
              "    <tr>\n",
              "      <th>rwd</th>\n",
              "      <td>23949.6</td>\n",
              "      <td>24202.714286</td>\n",
              "      <td>14337.777778</td>\n",
              "      <td>21711.833333</td>\n",
              "      <td>16994.222222</td>\n",
              "    </tr>\n",
              "  </tbody>\n",
              "</table>\n",
              "</div>"
            ],
            "text/plain": [
              "                   price                ...                            \n",
              "body-style   convertible       hardtop  ...         sedan         wagon\n",
              "drive-wheels                            ...                            \n",
              "4wd                  0.0      0.000000  ...  12647.333333   9095.750000\n",
              "fwd              11595.0   8249.000000  ...   9811.800000   9997.333333\n",
              "rwd              23949.6  24202.714286  ...  21711.833333  16994.222222\n",
              "\n",
              "[3 rows x 5 columns]"
            ]
          },
          "metadata": {
            "tags": []
          },
          "execution_count": 38
        }
      ]
    },
    {
      "cell_type": "markdown",
      "metadata": {
        "id": "Ll4bJABHbLkj"
      },
      "source": [
        "# **Correlation And Causation**"
      ]
    },
    {
      "cell_type": "markdown",
      "metadata": {
        "id": "zLzEy6jHc9iu"
      },
      "source": [
        "We have to understand that correlation doesn't imply causation. To check the significance of the correlation we use the p-value which the Pearson method provides"
      ]
    },
    {
      "cell_type": "markdown",
      "metadata": {
        "id": "Z3YtHXQZdyol"
      },
      "source": [
        "**1. Pearson Method ( for numeric variables )**\n",
        "\n",
        "If p_value:\n",
        "* <0.001, strong certainty in the result\n",
        "* <0.05, moderate certainty in the result\n",
        "* <0.1, weak certianty\n",
        "* greater than 0.1, no certainty\n",
        "\n",
        "\n",
        "\n",
        "\n",
        "If correlation coeffecient:\n",
        "* close to +1 then strong +ve relationship\n",
        "* close to -1 then strong -ve relationship\n",
        "* close to 0, no relationship"
      ]
    },
    {
      "cell_type": "code",
      "metadata": {
        "id": "Eq9cwQ0vbV5X"
      },
      "source": [
        "from scipy import stats"
      ],
      "execution_count": 39,
      "outputs": []
    },
    {
      "cell_type": "markdown",
      "metadata": {
        "id": "kg7QZOkAeDio"
      },
      "source": [
        "\n",
        "\n",
        "*  **Wheel-Base vs Price**\n",
        "\n"
      ]
    },
    {
      "cell_type": "code",
      "metadata": {
        "colab": {
          "base_uri": "https://localhost:8080/"
        },
        "id": "qLy-xasBd-7N",
        "outputId": "84424ff1-8604-4bce-af09-de18876a8cbb"
      },
      "source": [
        "# Since the p-value is  <  0.001, the correlation between wheel-base and price is statistically significant,\n",
        "# although the linear relationship isn't extremely strong (~0.585)\n",
        "coeff, p_value=stats.pearsonr(df['wheel-base'],df['price'])\n",
        "coeff,p_value"
      ],
      "execution_count": 40,
      "outputs": [
        {
          "output_type": "execute_result",
          "data": {
            "text/plain": [
              "(0.584641822265508, 8.076488270733218e-20)"
            ]
          },
          "metadata": {
            "tags": []
          },
          "execution_count": 40
        }
      ]
    },
    {
      "cell_type": "markdown",
      "metadata": {
        "id": "yZ6aRHfVe3jz"
      },
      "source": [
        "\n",
        "* **Horsepower vs Price**\n",
        "\n"
      ]
    },
    {
      "cell_type": "code",
      "metadata": {
        "colab": {
          "base_uri": "https://localhost:8080/"
        },
        "id": "t467gU_NegIs",
        "outputId": "b04b778f-f15d-4d1d-8a31-508a70f94261"
      },
      "source": [
        "# Since the p-value is  <  0.001, the correlation between horsepower and price is statistically significant,\n",
        "# and the linear relationship is quite strong (~0.809, close to 1)\n",
        "coeff, p_value=stats.pearsonr(df['horsepower'],df['price'])\n",
        "coeff,p_value"
      ],
      "execution_count": 41,
      "outputs": [
        {
          "output_type": "execute_result",
          "data": {
            "text/plain": [
              "(0.8096811975632288, 6.058444649710002e-48)"
            ]
          },
          "metadata": {
            "tags": []
          },
          "execution_count": 41
        }
      ]
    },
    {
      "cell_type": "markdown",
      "metadata": {
        "id": "agAIHWtNfwWp"
      },
      "source": [
        "\n",
        "\n",
        "*   **Length vs Price**\n",
        "\n"
      ]
    },
    {
      "cell_type": "code",
      "metadata": {
        "colab": {
          "base_uri": "https://localhost:8080/"
        },
        "id": "mC8OJjBMf01F",
        "outputId": "2cefe5c8-be7c-483f-9e78-13e0f5cadbce"
      },
      "source": [
        "# Since the p-value is  <  0.001, the correlation between length and price is statistically significant,\n",
        "# and the linear relationship is moderately strong (~0.691).\n",
        "coeff, p_value=stats.pearsonr(df['length'],df['price'])\n",
        "coeff,p_value"
      ],
      "execution_count": 42,
      "outputs": [
        {
          "output_type": "execute_result",
          "data": {
            "text/plain": [
              "(0.6906283804483639, 8.016477466159328e-30)"
            ]
          },
          "metadata": {
            "tags": []
          },
          "execution_count": 42
        }
      ]
    },
    {
      "cell_type": "markdown",
      "metadata": {
        "id": "YcpL9izUgEgn"
      },
      "source": [
        "We do the same thing with the rest of the attributes (width, curb-weight, engine-size, bore, city-L/100km, Highway-L/100km ) and find out that they are all statistically significant"
      ]
    },
    {
      "cell_type": "markdown",
      "metadata": {
        "id": "7s4ZOLPXgnm-"
      },
      "source": [
        "**2. ANOVA Method ( for groups or categorical variables )**"
      ]
    },
    {
      "cell_type": "markdown",
      "metadata": {
        "id": "CpeMCZkNhVpQ"
      },
      "source": [
        "The Analysis of Variance (ANOVA) is a statistical method used to test whether there are significant differences between the means of two or more groups. ANOVA returns two parameters:\n",
        "\n",
        "F-test score: ANOVA assumes the means of all groups are the same, calculates how much the actual means deviate from the assumption, and reports it as the F-test score. A larger score means there is a larger difference between the means.\n",
        "\n",
        "P-value: P-value tells how statistically significant is our calculated score value.\n",
        "\n",
        "If our price variable is strongly correlated with the variable we are analyzing, expect ANOVA to return a sizeable F-test score and a small p-value."
      ]
    },
    {
      "cell_type": "markdown",
      "metadata": {
        "id": "PE7hKGkYh8kc"
      },
      "source": [
        "\n",
        "\n",
        "*   **Drive-Wheels vs Price**\n",
        "\n"
      ]
    },
    {
      "cell_type": "code",
      "metadata": {
        "colab": {
          "base_uri": "https://localhost:8080/"
        },
        "id": "eRzHHD67f7lS",
        "outputId": "6cc6702d-5507-4b63-d180-12b5956abe40"
      },
      "source": [
        "test_drive_wheels=df[['drive-wheels','price']]\n",
        "test_drive_wheels=test_drive_wheels.groupby(['drive-wheels'])\n",
        "\n",
        "# using ANOVA method to get each group\n",
        "f_val,p_val= stats.f_oneway(test_drive_wheels.get_group('fwd')['price'],test_drive_wheels.get_group('4wd')['price'],test_drive_wheels.get_group('rwd')['price'])\n",
        "f_val,p_val"
      ],
      "execution_count": 43,
      "outputs": [
        {
          "output_type": "execute_result",
          "data": {
            "text/plain": [
              "(67.95406500780398, 3.3945443577151245e-23)"
            ]
          },
          "metadata": {
            "tags": []
          },
          "execution_count": 43
        }
      ]
    },
    {
      "cell_type": "markdown",
      "metadata": {
        "id": "VxZ1x-YtkIlK"
      },
      "source": [
        "This is a great result, with a large F test score showing a strong correlation and a P value of almost 0 implying almost certain statistical significance. But does this mean all three tested groups are all this highly correlated?"
      ]
    },
    {
      "cell_type": "markdown",
      "metadata": {
        "id": "MYDGnuWDkbuH"
      },
      "source": [
        "**FWD vs RWD**"
      ]
    },
    {
      "cell_type": "code",
      "metadata": {
        "colab": {
          "base_uri": "https://localhost:8080/"
        },
        "id": "0zZIgFsfiGvh",
        "outputId": "f3c040b3-c83b-4055-eb0c-9db258435213"
      },
      "source": [
        "# checking separately for fwd and rwd\n",
        "f_val, p_val = stats.f_oneway(test_drive_wheels.get_group('fwd')['price'], test_drive_wheels.get_group('rwd')['price'])  \n",
        "f_val,p_val"
      ],
      "execution_count": 44,
      "outputs": [
        {
          "output_type": "execute_result",
          "data": {
            "text/plain": [
              "(130.5533160959111, 2.2355306355677845e-23)"
            ]
          },
          "metadata": {
            "tags": []
          },
          "execution_count": 44
        }
      ]
    },
    {
      "cell_type": "markdown",
      "metadata": {
        "id": "DUYBJgvake_W"
      },
      "source": [
        "**RWD vs 4WD**"
      ]
    },
    {
      "cell_type": "code",
      "metadata": {
        "colab": {
          "base_uri": "https://localhost:8080/"
        },
        "id": "WS3T67rRkT8d",
        "outputId": "618b01ef-d42d-4f08-fda8-6ced792f3676"
      },
      "source": [
        "# checking separately for 4wd and rwd\n",
        "f_val, p_val = stats.f_oneway(test_drive_wheels.get_group('4wd')['price'], test_drive_wheels.get_group('rwd')['price'])  \n",
        "f_val,p_val"
      ],
      "execution_count": 45,
      "outputs": [
        {
          "output_type": "execute_result",
          "data": {
            "text/plain": [
              "(8.580681368924756, 0.004411492211225333)"
            ]
          },
          "metadata": {
            "tags": []
          },
          "execution_count": 45
        }
      ]
    },
    {
      "cell_type": "markdown",
      "metadata": {
        "id": "Th_dlNcukqtK"
      },
      "source": [
        "**4WD and FWD**"
      ]
    },
    {
      "cell_type": "code",
      "metadata": {
        "colab": {
          "base_uri": "https://localhost:8080/"
        },
        "id": "EjcBf_5Skm9k",
        "outputId": "73c61cc1-2b73-4c4d-ab2c-f5b6b42ee638"
      },
      "source": [
        "# checking separately for fwd and 4wd\n",
        "f_val, p_val = stats.f_oneway(test_drive_wheels.get_group('fwd')['price'], test_drive_wheels.get_group('4wd')['price'])  \n",
        "f_val,p_val"
      ],
      "execution_count": 46,
      "outputs": [
        {
          "output_type": "execute_result",
          "data": {
            "text/plain": [
              "(0.6654657502523033, 0.41620116697845666)"
            ]
          },
          "metadata": {
            "tags": []
          },
          "execution_count": 46
        }
      ]
    },
    {
      "cell_type": "markdown",
      "metadata": {
        "id": "fvK-Ykv7k5yZ"
      },
      "source": [
        "We now have a better idea of what our data looks like and which variables are important to take into account when predicting the car price. We have narrowed it down to the following variables:\n",
        "\n",
        "Continuous numerical variables:\n",
        "\n",
        "1. Length\n",
        "2. Width\n",
        "3. Curb-weight\n",
        "4. Engine-size\n",
        "5. Horsepower\n",
        "6. City-mpg\n",
        "7. Highway-mpg\n",
        "8. Wheel-base\n",
        "9. Bore\n",
        "\n",
        "Categorical variables:\n",
        "1. Drive-wheels"
      ]
    },
    {
      "cell_type": "markdown",
      "metadata": {
        "id": "qR0QYY2m2Gu1"
      },
      "source": [
        "# **Model Development**\n",
        "\n"
      ]
    },
    {
      "cell_type": "markdown",
      "metadata": {
        "id": "4TJ_y4ByafQc"
      },
      "source": [
        "Process of using independent variables (columns/attributes) to predict dependant variables (output)\n"
      ]
    },
    {
      "cell_type": "markdown",
      "metadata": {
        "id": "7sKFuB7c2T8e"
      },
      "source": [
        "# **Linear Regression**"
      ]
    },
    {
      "cell_type": "markdown",
      "metadata": {
        "id": "9WsgoOyH2ifP"
      },
      "source": [
        "**1. Single Linear Regression**\n",
        "\n",
        "Relies on 1 independent(predictor) variable to make a prediction\n",
        "\n"
      ]
    },
    {
      "cell_type": "code",
      "metadata": {
        "colab": {
          "base_uri": "https://localhost:8080/"
        },
        "id": "38Kt9HJi2Ngb",
        "outputId": "8e825a8b-7b99-4939-fc5c-59ec0771a6b3"
      },
      "source": [
        "#Suppose we only want highway-mpg to predict the price of the car then we can define and fit the model as follows\n",
        "\n",
        "from sklearn.linear_model import LinearRegression \n",
        "\n",
        "lm=LinearRegression()\n",
        "X = df[['highway-mpg']]\n",
        "Y = df['price']\n",
        "\t\t\t\t\n",
        "lm.fit(X,Y)\n",
        "\n",
        "Output_single_LR=lm.predict(X)\n",
        "\n",
        "# we can also find the slope as well as intercept (basic equation ==> y(output)= coeff*highway-mpg + intercept) or y=mx+c\n",
        "\n",
        "print(lm.intercept_,lm.coef_)"
      ],
      "execution_count": 47,
      "outputs": [
        {
          "output_type": "stream",
          "text": [
            "38423.3058581574 [-821.73337832]\n"
          ],
          "name": "stdout"
        }
      ]
    },
    {
      "cell_type": "markdown",
      "metadata": {
        "id": "pjojy6QC5ZKi"
      },
      "source": [
        "**2. Multiple Linear Regression**\n",
        "\n",
        "Relies on multiple independent(predictors) variables to make a prediction"
      ]
    },
    {
      "cell_type": "code",
      "metadata": {
        "id": "wJm95Qj124EJ",
        "colab": {
          "base_uri": "https://localhost:8080/"
        },
        "outputId": "033030ab-7e7e-4e16-c99b-a3e1800ce0cc"
      },
      "source": [
        "#Suppose we want mutiple attributes to predict the price of the car then we can define and fit the model as follows\n",
        "\n",
        "X=df[['horsepower','curb-weight','highway-mpg','engine-size']]\n",
        "Y=df['price']\n",
        "\n",
        "lm.fit(X,Y)\n",
        "\n",
        "Output=lm.predict(X)\n",
        "\n",
        "# we can also find the slope as well as intercept \n",
        "\n",
        "#(basic equation ==> y(output)= coeff1*horsepower + coeff2*curb-weight + coeff3*highway-mpg + coeff4*engine-size + intercept)\n",
        "\n",
        "print(lm.intercept_,lm.coef_)"
      ],
      "execution_count": 48,
      "outputs": [
        {
          "output_type": "stream",
          "text": [
            "-15824.038208234473 [53.61042729  4.70886444 36.39637823 81.47225667]\n"
          ],
          "name": "stdout"
        }
      ]
    },
    {
      "cell_type": "markdown",
      "metadata": {
        "id": "uZn01ButGgEK"
      },
      "source": [
        "# **Model Evaluation and Visualization**"
      ]
    },
    {
      "cell_type": "markdown",
      "metadata": {
        "id": "vfgF9gieYHfo"
      },
      "source": [
        "**1. Regression Plot** (Single Linear Regression)\n",
        "\n",
        "\n",
        "\n",
        "When it comes to simple linear regression, an excellent way to visualize the fit of our model is by using regression plots.\n",
        "\n",
        "This plot will show a combination of a scattered data points (a scatter plot), as well as the fitted linear regression line going through the data. This will give us a reasonable estimate of the relationship between the two variables, the strength of the correlation, as well as the direction (positive or negative correlation)."
      ]
    },
    {
      "cell_type": "markdown",
      "metadata": {
        "id": "rDeR12p5Yewr"
      },
      "source": [
        "Let's visualize highway-mpg as potential predictor variable of price:"
      ]
    },
    {
      "cell_type": "code",
      "metadata": {
        "id": "5spWAkRGYiBM",
        "colab": {
          "base_uri": "https://localhost:8080/",
          "height": 347
        },
        "outputId": "e92ccc92-90e7-41fd-c526-ad8329a50e82"
      },
      "source": [
        "sns.regplot('highway-mpg','price',data=df)"
      ],
      "execution_count": 49,
      "outputs": [
        {
          "output_type": "stream",
          "text": [
            "/usr/local/lib/python3.7/dist-packages/seaborn/_decorators.py:43: FutureWarning: Pass the following variables as keyword args: x, y. From version 0.12, the only valid positional argument will be `data`, and passing other arguments without an explicit keyword will result in an error or misinterpretation.\n",
            "  FutureWarning\n"
          ],
          "name": "stderr"
        },
        {
          "output_type": "execute_result",
          "data": {
            "text/plain": [
              "<matplotlib.axes._subplots.AxesSubplot at 0x7f27f2c44450>"
            ]
          },
          "metadata": {
            "tags": []
          },
          "execution_count": 49
        },
        {
          "output_type": "display_data",
          "data": {
            "image/png": "[encoded data removed]",
            "text/plain": [
              "<Figure size 432x288 with 1 Axes>"
            ]
          },
          "metadata": {
            "tags": [],
            "needs_background": "light"
          }
        }
      ]
    },
    {
      "cell_type": "markdown",
      "metadata": {
        "id": "PkQ25wEgZqYD"
      },
      "source": [
        "We can see from this plot that price is negatively correlated to highway-mpg, since the regression slope is negative. One thing to keep in mind when looking at a regression plot is to pay attention to how scattered the data points are around the regression line. This will give you a good indication of the variance of the data, and whether a linear model would be the best fit or not. If the data is too far off from the line, this linear model might not be the best model for this data. Let's compare this plot to the regression plot of \"peak-rpm\"."
      ]
    },
    {
      "cell_type": "code",
      "metadata": {
        "id": "BUw9sW64Zs63",
        "colab": {
          "base_uri": "https://localhost:8080/",
          "height": 347
        },
        "outputId": "3ece66a3-11c8-4061-d010-16791a73f779"
      },
      "source": [
        "sns.regplot('peak-rpm','price',data=df)"
      ],
      "execution_count": 50,
      "outputs": [
        {
          "output_type": "stream",
          "text": [
            "/usr/local/lib/python3.7/dist-packages/seaborn/_decorators.py:43: FutureWarning: Pass the following variables as keyword args: x, y. From version 0.12, the only valid positional argument will be `data`, and passing other arguments without an explicit keyword will result in an error or misinterpretation.\n",
            "  FutureWarning\n"
          ],
          "name": "stderr"
        },
        {
          "output_type": "execute_result",
          "data": {
            "text/plain": [
              "<matplotlib.axes._subplots.AxesSubplot at 0x7f27f58151d0>"
            ]
          },
          "metadata": {
            "tags": []
          },
          "execution_count": 50
        },
        {
          "output_type": "display_data",
          "data": {
            "image/png": "[encoded data removed]",
            "text/plain": [
              "<Figure size 432x288 with 1 Axes>"
            ]
          },
          "metadata": {
            "tags": [],
            "needs_background": "light"
          }
        }
      ]
    },
    {
      "cell_type": "markdown",
      "metadata": {
        "id": "5SLwM99zZ6sT"
      },
      "source": [
        "\n",
        "Comparing the regression plot of \"peak-rpm\" and \"highway-mpg\" we see that the points for \"highway-mpg\" are much closer to the generated line and on the average decrease. The points for \"peak-rpm\" have more spread around the predicted line, and it is much harder to determine if the points are decreasing or increasing as the \"highway-mpg\" increases."
      ]
    },
    {
      "cell_type": "markdown",
      "metadata": {
        "id": "HweQkfHrTuHt"
      },
      "source": [
        "**2. Residual Plot** (Single Linear Regression)"
      ]
    },
    {
      "cell_type": "markdown",
      "metadata": {
        "id": "1P-o7t5QacOc"
      },
      "source": [
        "A good way to visualize the variance of the data is to use a residual plot.\n",
        "\n",
        "What is a residual?\n",
        "\n",
        "The difference between the observed value (y) and the predicted value (Yhat) is called the residual (e). When we look at a regression plot, the residual is the distance from the data point to the fitted regression line.\n",
        "\n",
        "So what is a residual plot?\n",
        "\n",
        "A residual plot is a graph that shows the residuals on the vertical y-axis and the independent variable on the horizontal x-axis.\n",
        "\n",
        "What do we pay attention to when looking at a residual plot?\n",
        "\n",
        "We look at the spread of the residuals:\n",
        "\n",
        "If the points in a residual plot are randomly spread out around the x-axis, then a linear model is appropriate for the data. Why is that? Randomly spread out residuals means that the variance is constant, and thus the linear model is a good fit for this data."
      ]
    },
    {
      "cell_type": "code",
      "metadata": {
        "id": "PHNwr-gkGpMU",
        "colab": {
          "base_uri": "https://localhost:8080/",
          "height": 295
        },
        "outputId": "c5d0dbc8-fd36-486f-bc1c-87b4601fa5c0"
      },
      "source": [
        "# we expect the data points to be evenly spread across x-axis from both sides, a curve suggests that linear assumption is incorrect\n",
        "sns.residplot(x=df['highway-mpg'],y=df['price'])"
      ],
      "execution_count": 51,
      "outputs": [
        {
          "output_type": "execute_result",
          "data": {
            "text/plain": [
              "<matplotlib.axes._subplots.AxesSubplot at 0x7f27f04744d0>"
            ]
          },
          "metadata": {
            "tags": []
          },
          "execution_count": 51
        },
        {
          "output_type": "display_data",
          "data": {
            "image/png": "[encoded data removed]",
            "text/plain": [
              "<Figure size 432x288 with 1 Axes>"
            ]
          },
          "metadata": {
            "tags": [],
            "needs_background": "light"
          }
        }
      ]
    },
    {
      "cell_type": "markdown",
      "metadata": {
        "id": "4bHnkQeFapXm"
      },
      "source": [
        "What is this plot telling us?\n",
        "\n",
        "We can see from this residual plot that the residuals are not randomly spread around the x-axis, which leads us to believe that maybe a non-linear model is more appropriate for this data."
      ]
    },
    {
      "cell_type": "markdown",
      "metadata": {
        "id": "j816jKmFUmLF"
      },
      "source": [
        "**3. Distribution Plot** (Multiple Linear Regression)\n",
        "\n",
        "\n",
        "Calculates the predicted value vs the actual value"
      ]
    },
    {
      "cell_type": "code",
      "metadata": {
        "id": "190s7TkPUElH",
        "colab": {
          "base_uri": "https://localhost:8080/",
          "height": 391
        },
        "outputId": "9f103a96-adbe-4cdd-9b06-261dd6d3fc69"
      },
      "source": [
        "# to know the actual distribution of price\n",
        "actual_price_dist=sns.distplot(df['price'],hist=False,color=\"r\",label=\"Actual Value\")\n",
        "actual_price_dist\n",
        "\n",
        "sns.distplot(Output_single_LR,hist=False,color=\"b\",label=\"Predicted Values\",ax=actual_price_dist)"
      ],
      "execution_count": 52,
      "outputs": [
        {
          "output_type": "stream",
          "text": [
            "/usr/local/lib/python3.7/dist-packages/seaborn/distributions.py:2557: FutureWarning: `distplot` is a deprecated function and will be removed in a future version. Please adapt your code to use either `displot` (a figure-level function with similar flexibility) or `kdeplot` (an axes-level function for kernel density plots).\n",
            "  warnings.warn(msg, FutureWarning)\n",
            "/usr/local/lib/python3.7/dist-packages/seaborn/distributions.py:2557: FutureWarning: `distplot` is a deprecated function and will be removed in a future version. Please adapt your code to use either `displot` (a figure-level function with similar flexibility) or `kdeplot` (an axes-level function for kernel density plots).\n",
            "  warnings.warn(msg, FutureWarning)\n"
          ],
          "name": "stderr"
        },
        {
          "output_type": "execute_result",
          "data": {
            "text/plain": [
              "<matplotlib.axes._subplots.AxesSubplot at 0x7f27f03a22d0>"
            ]
          },
          "metadata": {
            "tags": []
          },
          "execution_count": 52
        },
        {
          "output_type": "display_data",
          "data": {
            "image/png": "[encoded data removed]",
            "text/plain": [
              "<Figure size 432x288 with 1 Axes>"
            ]
          },
          "metadata": {
            "tags": [],
            "needs_background": "light"
          }
        }
      ]
    },
    {
      "cell_type": "markdown",
      "metadata": {
        "id": "iuqJmQd6-hEz"
      },
      "source": [
        "# **Polynomial Regression and Pipelines**\n",
        "\n"
      ]
    },
    {
      "cell_type": "markdown",
      "metadata": {
        "id": "Q6zKBHEgac7-"
      },
      "source": [
        "We use this when a linear model is not the best fit for our data.\n",
        "\n",
        "\n",
        "We transform our data into a polynomial, then use linear regression to fit the model, we saw that highway-mpg was non-linear so we are going to have to use polynomial regression to find out the formula for it."
      ]
    },
    {
      "cell_type": "markdown",
      "metadata": {
        "id": "HA5tR4cWnwst"
      },
      "source": [
        "**1. Polynomial Regression**\n",
        "\n",
        "A special case of the general linear regression model and involves curves (curvilinear relationship)\n",
        "\n",
        "A curvilinear relationship involves squaring or setting higher order terms of the predictor variables."
      ]
    },
    {
      "cell_type": "markdown",
      "metadata": {
        "id": "WedpPRZtALJj"
      },
      "source": [
        "**a. Second order polynomial regression**\n",
        "\n",
        "*   The value of predictor variable in the second coeff is squared e.g\n",
        "\n",
        "    Y = b0 + b1x1 + b2(x2)^2 \n",
        "\n"
      ]
    },
    {
      "cell_type": "markdown",
      "metadata": {
        "id": "TwPnBxFAA73H"
      },
      "source": [
        "**b. Third order polynomial regression**\n",
        "\n",
        "*   The value of predictor variable in the third coeff is squared e.g\n",
        "\n",
        "    Y = b0 + b1x1 + b2(x2)^2 + b3(x3)^3 \n",
        "\n"
      ]
    },
    {
      "cell_type": "code",
      "metadata": {
        "colab": {
          "base_uri": "https://localhost:8080/",
          "height": 295
        },
        "id": "EeB1jTUvGKBk",
        "outputId": "2f0977b7-7996-4f59-8ccb-7019cd5976e7"
      },
      "source": [
        "f=np.polyfit(df['highway-mpg'],df['price'],3) # 3 is for the degree of the polynomial which in this cases is 3\n",
        "p=np.poly1d(f)\n",
        "\n",
        "# function to plot a polynomial\n",
        "def PlotPolly(model, independent_variable, dependent_variabble, Name):\n",
        "    x_new = np.linspace(15, 55, 100)\n",
        "    y_new = model(x_new)\n",
        "\n",
        "    plt.plot(independent_variable, dependent_variabble, '.', x_new, y_new, '-')\n",
        "    plt.title('Polynomial Fit with Matplotlib for Price ~ Length')\n",
        "    ax = plt.gca()\n",
        "    ax.set_facecolor((0.898, 0.898, 0.898))\n",
        "    fig = plt.gcf()\n",
        "    plt.xlabel(Name)\n",
        "    plt.ylabel('Price of Cars')\n",
        "\n",
        "    plt.show()\n",
        "    plt.close()\n",
        "\n",
        "PlotPolly(p,df['highway-mpg'],df['price'],'highway-mpg')"
      ],
      "execution_count": 53,
      "outputs": [
        {
          "output_type": "display_data",
          "data": {
            "image/png": "[encoded data removed]",
            "text/plain": [
              "<Figure size 432x288 with 1 Axes>"
            ]
          },
          "metadata": {
            "tags": [],
            "needs_background": "light"
          }
        }
      ]
    },
    {
      "cell_type": "markdown",
      "metadata": {
        "id": "TzNlcPF6m6Zx"
      },
      "source": [
        "We can already see from plotting that this polynomial model performs better than the linear model. This is because the generated polynomial function \"hits\" more of the data points."
      ]
    },
    {
      "cell_type": "markdown",
      "metadata": {
        "id": "ruHp6ctWoA3-"
      },
      "source": [
        "**2. Multivariable Polynomial Regression**"
      ]
    },
    {
      "cell_type": "code",
      "metadata": {
        "id": "Dme7V8broKBp"
      },
      "source": [
        "from sklearn.preprocessing import PolynomialFeatures\n",
        "\n",
        "pr=PolynomialFeatures(degree=2)"
      ],
      "execution_count": 54,
      "outputs": []
    },
    {
      "cell_type": "markdown",
      "metadata": {
        "id": "F4pw4h8UF_xV"
      },
      "source": [
        "**3. Pipelines**"
      ]
    },
    {
      "cell_type": "code",
      "metadata": {
        "id": "82Auu0OLCeLc",
        "colab": {
          "base_uri": "https://localhost:8080/"
        },
        "outputId": "17701f3f-ce5d-40eb-eb50-f870ebe6eac1"
      },
      "source": [
        "from sklearn.preprocessing import StandardScaler\n",
        "from sklearn.pipeline import Pipeline\n",
        "\n",
        "# list of tuples needs to be created for pipeline input\n",
        "pipeInput=[('scale',StandardScaler()),('polynomial',PolynomialFeatures(degree=2)),('mode',LinearRegression())]\n",
        "pipe=Pipeline(pipeInput)\n",
        "\n",
        "# training the pipeline object\n",
        "pipe.fit(df[['horsepower','curb-weight','engine-size','highway-mpg']],df['price'])\n",
        "\n",
        "predicted_price_values=pipe.predict(df[['horsepower','curb-weight','engine-size','highway-mpg']])\n",
        "\n",
        "#for i in range(len(df)):\n",
        "#  print(predicted_price_values[i],df.loc[i]['price'])\n",
        "\n",
        "predicted_price_values"
      ],
      "execution_count": 55,
      "outputs": [
        {
          "output_type": "execute_result",
          "data": {
            "text/plain": [
              "array([13103.37745014, 13103.37745014, 18228.50045451, 10392.95563313,\n",
              "       16133.76874429, 13878.99841604, 15040.52398958, 15457.18229978,\n",
              "       17971.74460633, 10512.50604851, 10512.50604851, 15846.59047029,\n",
              "       16068.9328601 , 18546.45027861, 25223.19860038, 25177.05656094,\n",
              "       26516.74692087,  5900.24166664,  6229.03170433,  6268.69165797,\n",
              "        5977.6126814 ,  5832.68665537, 10112.70695196,  6061.09950298,\n",
              "        6118.21744542,  6118.21744542, 10046.3789839 , 11299.33227733,\n",
              "       18336.78086591,  7340.16414969,  6422.97757555,  5174.90635362,\n",
              "        6619.95418045,  6652.6795456 ,  6766.01245592,  6796.12160527,\n",
              "        8797.23633484,  8948.8815695 ,  8992.57847103,  9194.97845318,\n",
              "       10929.44427235, 10055.80435075,  9656.98115358, 12123.53519496,\n",
              "       36318.85330144, 36318.85330144, 41644.67639633,  5909.79502176,\n",
              "        5927.95683261,  5940.92109016,  6046.00886629,  6059.31655277,\n",
              "       10195.46836109, 10195.46836109, 10183.88732743, 15942.42052332,\n",
              "       10253.68523117, 10378.04280314, 10253.68523117, 10378.04280314,\n",
              "       10836.29746092, 10453.11525155, 14410.77467699, 13371.08032867,\n",
              "       23844.75778634, 25662.25734907, 23693.96916696, 25820.83035738,\n",
              "       33463.94738261, 32973.31902612, 43673.71463419, 40887.09239923,\n",
              "       21724.22566651,  6134.27436806,  6084.70754937,  6253.53593782,\n",
              "       10094.21212568, 11859.61584559, 10015.71859414, 18327.07380763,\n",
              "       18295.63311225, 18294.20158566, 10169.23523483, 10337.5497509 ,\n",
              "       11794.26743915, 11794.26743915,  6140.93289605,  7981.66998651,\n",
              "        6235.76135327,  6301.90820116,  6593.29675389,  6345.23105452,\n",
              "        6607.12445297,  6412.38529392,  6638.32606742,  6538.23017369,\n",
              "        9877.00464001,  9837.18915065, 21541.78878656, 21943.68239911,\n",
              "       19965.32808282, 20358.88558996, 26219.82513849, 20344.75270221,\n",
              "       14816.32950646, 17553.11848511, 15858.77573861, 22519.16557706,\n",
              "       15233.95503962, 17957.06576745, 16372.50348537, 23026.92591128,\n",
              "       15082.84506853, 17957.06576745, 16252.8342256 ,  6057.33642344,\n",
              "       10112.70695196,  6061.09950298,  6118.21744542,  7232.57756789,\n",
              "       11299.33227733, 18333.61212304, 16677.51438177, 29496.58153791,\n",
              "       29496.58153791, 29143.0517122 , 12007.28554396, 11668.60264797,\n",
              "       12344.40869039, 12388.67642139, 12403.48227046, 12468.85921152,\n",
              "       18244.71756788, 17950.96427556,  6698.5582635 ,  7993.42936998,\n",
              "        8632.2559267 ,  7946.20010696,  8390.19685186,  9430.46468414,\n",
              "       10470.62494835, 11301.0945272 ,  8850.95136233,  9799.90458851,\n",
              "        9842.11160045, 13095.93584113,  6054.40988005,  6243.07340334,\n",
              "        6142.66072511,  7290.4272143 ,  7660.55575619, 12737.89797131,\n",
              "        6870.11303263,  6967.75529645,  9274.03627278,  9460.99890308,\n",
              "        7174.92151207,  7134.04896914,  7208.14819574,  7328.5704911 ,\n",
              "        7475.61725697, 11474.81273715, 11385.84268682, 13427.69573678,\n",
              "       13418.58958001, 13452.86359186, 13759.30432194, 13847.45062464,\n",
              "       14563.73007375,  9807.56514888,  9876.42171407, 10407.6240557 ,\n",
              "       10407.6240557 , 10563.31128844, 20453.21369736, 20393.70273696,\n",
              "       19937.34138551, 19172.7198787 ,  8414.30881845,  8517.93300304,\n",
              "        8430.1213239 ,  8525.92919128,  8697.02242753,  7522.81750047,\n",
              "        9842.25168281,  9574.7539029 ,  9484.66965314, 14718.65186506,\n",
              "        8714.62223686, 10070.84491282, 14628.20060939, 15011.04212818,\n",
              "       14698.63789947, 15036.94019247, 19305.51193178, 18665.31590421,\n",
              "       14751.21920357, 18029.68006856, 19826.47916945, 17324.74244391,\n",
              "       16292.5856602 ])"
            ]
          },
          "metadata": {
            "tags": []
          },
          "execution_count": 55
        }
      ]
    },
    {
      "cell_type": "markdown",
      "metadata": {
        "id": "CLjYJsXdOtgK"
      },
      "source": [
        "# **Measures for In-sample Evaluation**"
      ]
    },
    {
      "cell_type": "markdown",
      "metadata": {
        "id": "BMz0R5zeaX_Z"
      },
      "source": [
        "\n",
        "When evaluating our models, not only do we want to visualize the results, but we also want a quantitative measure to determine how accurate the model is.\n",
        "\n",
        "Two very important measures that are often used in Statistics to determine the accuracy of a model are:\n",
        "\n",
        "* R^2 / R-squared\n",
        "* Mean Squared Error (MSE)\n",
        "\n",
        ">R-squared\n",
        "\n",
        "R squared, also known as the coefficient of determination, is a measure to indicate how close the data is to the fitted regression line.\n",
        "\n",
        "The value of the R-squared is the percentage of variation of the response variable (y) that is explained by a linear model.\n",
        "\n",
        ">Mean Squared Error (MSE)\n",
        "\n",
        "The Mean Squared Error measures the average of the squares of errors, that is, the difference between actual value (y) and the estimated value (ŷ)."
      ]
    },
    {
      "cell_type": "markdown",
      "metadata": {
        "id": "2a_HvpRQPLFP"
      },
      "source": [
        "**1. Mean Squared Error (MSE)**\n",
        "\n",
        "In this we take the difference between the actual value and the predicted value then square it. \n",
        "\n",
        "This is done for every value and all these are added altogether then divided by the number of samples or total number of values"
      ]
    },
    {
      "cell_type": "code",
      "metadata": {
        "colab": {
          "base_uri": "https://localhost:8080/"
        },
        "id": "bVFRjpMGPQGC",
        "outputId": "f5310a15-bcc7-4115-a1ae-8f618bac7ce3"
      },
      "source": [
        "from sklearn.metrics import mean_squared_error\n",
        "\n",
        "# for single linear regression\n",
        "lm.fit(df[['highway-mpg',]],df['price'])\n",
        "predicted_price_values=lm.predict(df[['highway-mpg']])\n",
        "print(mean_squared_error(df['price'],predicted_price_values))\n",
        "\n",
        "# for multiple linear regression \n",
        "Z=df[['curb-weight','engine-size','horsepower','highway-mpg']]\n",
        "lm.fit(Z,df['price'])\n",
        "Y=lm.predict(Z)\n",
        "print(mean_squared_error(df['price'],Y))\n",
        "\n",
        "# for polynomial linear regression\n",
        "mean_squared_error(df['price'], p(df['highway-mpg']))\n"
      ],
      "execution_count": 56,
      "outputs": [
        {
          "output_type": "stream",
          "text": [
            "31635042.944639888\n",
            "11976801.681229591\n"
          ],
          "name": "stdout"
        },
        {
          "output_type": "execute_result",
          "data": {
            "text/plain": [
              "20474146.426361226"
            ]
          },
          "metadata": {
            "tags": []
          },
          "execution_count": 56
        }
      ]
    },
    {
      "cell_type": "markdown",
      "metadata": {
        "id": "vUndCoi-RCxb"
      },
      "source": [
        "**2. R-Squared/R^2**\n",
        "\n",
        "Also called coefficient of determination and used to determine how close the data is to the fitted line\n"
      ]
    },
    {
      "cell_type": "code",
      "metadata": {
        "colab": {
          "base_uri": "https://localhost:8080/"
        },
        "id": "GunwxvhTQMOq",
        "outputId": "d9ca296c-a38b-489f-a689-f1592a8b1338"
      },
      "source": [
        "# value will lie between 0(worst case) and 1(best case), incase value is negative, that could be due to overfitting\n",
        "\n",
        "# for single linear regression\n",
        "lm.fit(df[['highway-mpg']],df['price'])\n",
        "print(lm.score(df[['highway-mpg']],df['price']))\n",
        "\n",
        "# for multiple linear regression\n",
        "lm.fit(Z,df['price'])\n",
        "print(lm.score(Z,df['price']))\n",
        "\n",
        "# for polynomial linear regression\n",
        "from sklearn.metrics import r2_score\n",
        "r_squared = r2_score(df['price'], p(df['highway-mpg']))\n",
        "print(r_squared)"
      ],
      "execution_count": 57,
      "outputs": [
        {
          "output_type": "stream",
          "text": [
            "0.4965911884339176\n",
            "0.8094130135602673\n",
            "0.6741946663906517\n"
          ],
          "name": "stdout"
        }
      ]
    },
    {
      "cell_type": "markdown",
      "metadata": {
        "id": "srFxjeMnT-Mm"
      },
      "source": [
        "# **Prediction and Decision Making**\n"
      ]
    },
    {
      "cell_type": "markdown",
      "metadata": {
        "id": "_z7aMBWraOP0"
      },
      "source": [
        "\n",
        "Process of determining whether our model is the best fit or not. This can be done by:\n",
        "\n",
        "1. Do the predicted values make sense?\n",
        "2. Visualization\n",
        "3. Numerical measures for evaluation\n",
        "4. Comparing models\n",
        "\n",
        "**Simple Linear Regression model (SLR) vs Multiple Linear Regression model (MLR)**\n",
        "\n",
        "Usually, the more variables you have, the better your model is at predicting, but this is not always true. Sometimes you may not have enough data, you may run into numerical problems, or many of the variables may not be useful and or even act as noise. As a result, you should always check the MSE and R^2.\n",
        "\n",
        "So to be able to compare the results of the MLR vs SLR models, we look at a combination of both the R-squared and MSE to make the best conclusion about the fit of the model.\n",
        "\n",
        "The MSE of SLR is 3.16x10^7 while MLR has an MSE of 1.2 x10^7. The MSE of MLR is much smaller.\n",
        "R-squared: In this case, we can also see that there is a big difference between the R-squared of the SLR and the R-squared of the MLR. The R-squared for the SLR (0.497) is very small compared to the R-squared for the MLR (~0.809).\n",
        "This R-squared in combination with the MSE show that MLR seems like the better model fit in this case, compared to SLR.\n",
        "\n",
        "**Simple Linear Model (SLR) vs Polynomial Fit**\n",
        "\n",
        "\n",
        "MSE: We can see that Polynomial Fit brought down the MSE, since this MSE is smaller than the one from the SLR.\n",
        "R-squared: The R-squared for the Polyfit is larger than the R-squared for the SLR, so the Polynomial Fit also brought up the R-squared quite a bit.\n",
        "Since the Polynomial Fit resulted in a lower MSE and a higher R-squared, we can conclude that this was a better fit model than the simple linear regression for predicting Price with Highway-mpg as a predictor variable.\n",
        "\n",
        "**Multiple Linear Regression (MLR) vs Polynomial Fit**\n",
        "\n",
        "\n",
        "MSE: The MSE for the MLR is smaller than the MSE for the Polynomial Fit.\n",
        "R-squared: The R-squared for the MLR is also much larger than for the Polynomial Fit.\n",
        "\n",
        "**Conclusion:**\n",
        "Comparing these three models, we conclude that the MLR model is the best model to be able to predict price from our dataset. This result makes sense, since we have 27 variables in total, and we know that more than one of those variables are potential predictors of the final car price.\n"
      ]
    },
    {
      "cell_type": "markdown",
      "metadata": {
        "id": "AX9d-b7Gahl5"
      },
      "source": [
        "# **Model Evaluation and Refinement**"
      ]
    },
    {
      "cell_type": "markdown",
      "metadata": {
        "id": "qgtBHnYNapGx"
      },
      "source": [
        "In sample evaluation tells us how our model will fit the data used to train it but it does not tell us how well the trained model can be used to predict the data.\n",
        "\n",
        "**Solution?**\n",
        "* **Splitting The Data**\n",
        "\n",
        "We split our data into 2 sets, training set (in sample data) and test set (out of sample data)\n",
        "\n",
        "if you use data 1990-2013 to fit the model and then you forecast for 2011-2013, it's in-sample forecast. but if you only use 1990-2010 for fitting the model and then you forecast 2011-2013, then its out-of-sample forecast.\n",
        "\n",
        "\n",
        "Larger portion of the data is used to train the model and rest is for test set"
      ]
    },
    {
      "cell_type": "code",
      "metadata": {
        "id": "riEIVEk2aoAY"
      },
      "source": [
        "from sklearn.model_selection import train_test_split\n",
        "\n",
        "# here function recieves 4 args, first is the variables that we are using to predict the data, second is the value that we want to predict,\n",
        "# third is the split percentage of test data so here training data will be 70% of the data and rest will be used for testing, lastly random_state\n",
        "# is used for random splitting of data\n",
        "\n",
        "y_data=df['price']\n",
        "x_data=df.drop('price',axis=1)\n",
        "\n",
        "# we divide the data into 90% training set and 10% test set\n",
        "x_train,x_test,y_train,y_test=train_test_split(x_data,y_data,test_size=0.10,random_state=1)\n",
        "\n",
        "#print(\"number of test samples :\", x_test.shape[0])\n",
        "#print(\"number of training samples:\",x_train.shape[0])"
      ],
      "execution_count": 58,
      "outputs": []
    },
    {
      "cell_type": "markdown",
      "metadata": {
        "id": "cVEF0WCNCnc5"
      },
      "source": [
        "Now we will fit the model using linear regression"
      ]
    },
    {
      "cell_type": "code",
      "metadata": {
        "id": "u9p0fDyrCl_C",
        "colab": {
          "base_uri": "https://localhost:8080/"
        },
        "outputId": "7279158b-ee74-49aa-a007-d3ebc7e676c9"
      },
      "source": [
        "lr=LinearRegression()\n",
        "\n",
        "lr.fit(x_train[['horsepower']],y_train)\n",
        "\n",
        "# now lets calculate R-squared for test data(can also use MSE)\n",
        "score1=lr.score(x_test[['horsepower']],y_test)\n",
        "score1 # we can see that the r-square is low using the test data\n",
        "\n",
        "# now lets calculate R-squared for training data(can also use MSE)\n",
        "score2=lr.score(x_train[['horsepower']],y_train)\n",
        "score2 # we can see that the r-square is comparitively higher using the train data"
      ],
      "execution_count": 59,
      "outputs": [
        {
          "output_type": "execute_result",
          "data": {
            "text/plain": [
              "0.6621588065210515"
            ]
          },
          "metadata": {
            "tags": []
          },
          "execution_count": 59
        }
      ]
    },
    {
      "cell_type": "markdown",
      "metadata": {
        "id": "5Esid6XPgS0M"
      },
      "source": [
        "* **Generalization Error**\n",
        "\n",
        ">It is a measure of how well our model performs when it comes to predicting \n",
        "previously unseen data. This means our model could perform great on the 90% (assumption) of the training data but when it comes to the test data, (the data that our model hasn't seen before) it does not perform too well and will be precise but less accurate. \n",
        "\n",
        ">On the other hand if we use fewer data points to train the model and more to test the model then our accuracy will be less but precision will be high\n",
        "\n",
        ">We saw that R-squared was low on test data but high on train data. We also were using out of sample evaluation. This is where cross validation comes in because it will perform in sample evaluation by dividing the data into folds."
      ]
    },
    {
      "cell_type": "markdown",
      "metadata": {
        "id": "JgsH_A9ai3CZ"
      },
      "source": [
        "**Cross Validation**"
      ]
    },
    {
      "cell_type": "markdown",
      "metadata": {
        "id": "S8YGUp2jjAu8"
      },
      "source": [
        "In cross validation, we divide the whole data set into K number of groups, say 3 groups. One by one, 2 of the groups will be used for training and the last for testing, this process will repeat for K number of times as this way each group will be used for training as well as testing and this will return an array of K scores which we can then take an average of to find the average score.\n",
        "\n"
      ]
    },
    {
      "cell_type": "markdown",
      "metadata": {
        "id": "rDdW16GKkZF9"
      },
      "source": [
        ">**1. Cross validation score**"
      ]
    },
    {
      "cell_type": "markdown",
      "metadata": {
        "id": "3pySDVDykf-T"
      },
      "source": [
        "It will return an array of K scores which will determine the performance of the different groups of data."
      ]
    },
    {
      "cell_type": "code",
      "metadata": {
        "id": "in0MYlg_ga46",
        "colab": {
          "base_uri": "https://localhost:8080/"
        },
        "outputId": "62db6e54-2b7e-4b62-ae26-9f1bcb7eec0a"
      },
      "source": [
        "from sklearn.model_selection import cross_val_score\n",
        "\n",
        "# here suppose we are using linear regression, the cv=3 means that data is divided into 3 groups, default scoring is r-sqaured\n",
        "scores=cross_val_score(lr,x_data[['horsepower']],y_data,cv=4)\n",
        "#average_score=np.mean(scores)\n",
        "scores\n",
        "\n",
        "#We can calculate the average and standard deviation of our estimate\n",
        "print(\"The mean of the folds are\", scores.mean(), \"and the standard deviation is\" , scores.std())"
      ],
      "execution_count": 60,
      "outputs": [
        {
          "output_type": "stream",
          "text": [
            "The mean of the folds are 0.5221732664777984 and the standard deviation is 0.29158341973020163\n"
          ],
          "name": "stdout"
        }
      ]
    },
    {
      "cell_type": "markdown",
      "metadata": {
        "id": "8J7cPR4mko08"
      },
      "source": [
        "**2. Cross validation prediction**"
      ]
    },
    {
      "cell_type": "markdown",
      "metadata": {
        "id": "Ovudxdp6ksT1"
      },
      "source": [
        "This will return the array of the predicted values for each group instead of scores of each group."
      ]
    },
    {
      "cell_type": "code",
      "metadata": {
        "id": "6UbFRg8Ykrra",
        "colab": {
          "base_uri": "https://localhost:8080/"
        },
        "outputId": "1b19b834-c643-41dc-d863-e064b5a6ca78"
      },
      "source": [
        "from sklearn.model_selection import cross_val_predict\n",
        "\n",
        "# this will return an array of size 3 each element containg an array of predictions for a group\n",
        "predicted_values=cross_val_predict(lr,x_data[['horsepower']],y_data,cv=4)\n",
        "predicted_values"
      ],
      "execution_count": 61,
      "outputs": [
        {
          "output_type": "execute_result",
          "data": {
            "text/plain": [
              "array([14143.6442164 , 14143.6442164 , 20817.63619486, 12746.7621744 ,\n",
              "       14764.48067952, 13988.43510063, 13988.43510063, 13988.43510063,\n",
              "       18644.70857397, 12591.55305862, 12591.55305862, 15695.73537418,\n",
              "       15695.73537418, 15695.73537418, 25163.49143664, 25163.49143664,\n",
              "       25163.49143664,  4365.46992239,  7780.07046951,  7780.07046951,\n",
              "        7469.65223795,  7469.65223795, 12746.7621744 ,  7469.65223795,\n",
              "        7469.65223795,  7469.65223795, 12746.7621744 , 10573.83455351,\n",
              "       19420.75415286,  5917.56108017,  8711.32516417,  6227.97931173,\n",
              "        8711.32516417,  8711.32516417,  8711.32516417,  8711.32516417,\n",
              "       10263.41632195, 10263.41632195, 10263.41632195, 10263.41632195,\n",
              "       12591.55305862, 12436.34394285,  9021.74339573, 10884.25278507,\n",
              "       24232.23674197, 24232.23674197, 37580.22069888,  7469.65223795,\n",
              "        7469.65223795,  7469.65223795,  7469.65223795,  7192.64508882,\n",
              "       12627.03163429, 12627.03163429, 12627.03163429, 18226.09655992,\n",
              "        9827.49917147,  9827.49917147,  9827.49917147,  9827.49917147,\n",
              "        6533.93156816,  9827.49917147, 15755.92085744,  7851.35860948,\n",
              "       16249.95599793, 16249.95599793, 16249.95599793, 16249.95599793,\n",
              "       21519.66416323, 21519.66416323, 26295.33718804, 26295.33718804,\n",
              "       24813.23176654,  7192.64508882,  7192.64508882,  7192.64508882,\n",
              "       12791.71001445, 15097.20733677, 10486.21269213, 19872.88036158,\n",
              "       19872.88036158, 19872.88036158, 10486.21269213, 10486.21269213,\n",
              "       15097.20733677, 15097.20733677,  7357.32346899,  5051.82614667,\n",
              "        7357.32346899,  7357.32346899,  7357.32346899,  7357.32346899,\n",
              "        7357.32346899,  7357.32346899,  7357.32346899,  7357.32346899,\n",
              "       11968.31811363, 11968.31811363, 21025.62902274, 21025.62902274,\n",
              "       21025.62902274, 23539.34585487, 30696.96845954, 23539.34585487,\n",
              "       12266.0902525 , 11908.20912227, 12266.0902525 , 11908.20912227,\n",
              "       11908.20912227, 11908.20912227, 11908.20912227, 11908.20912227,\n",
              "       12266.0902525 , 11908.20912227, 20318.41568276,  7076.81386411,\n",
              "       13160.79307808,  7076.81386411,  7076.81386411,  7076.81386411,\n",
              "       10655.62516645, 20855.23737811, 20497.35624788, 31949.55241536,\n",
              "       31949.55241536, 31949.55241536, 13410.77034996, 13410.77034996,\n",
              "       14592.31759902, 14592.31759902, 14592.31759902, 14592.31759902,\n",
              "       23539.34585487, 23539.34585487,  7255.75442923,  7971.51668969,\n",
              "        7971.51668969,  9581.98177575,  9581.98177575, 11729.26855715,\n",
              "        9581.98177575, 14771.25816414,  9581.98177575, 11729.26855715,\n",
              "        9581.98177575, 14771.25816414,  6003.17047341,  6003.17047341,\n",
              "        6003.17047341,  6003.17047341,  6003.17047341,  5657.49042343,\n",
              "        7158.70917673,  7158.70917673,  4531.57635845,  4531.57635845,\n",
              "        7158.70917673,  7158.70917673,  7158.70917673,  7158.70917673,\n",
              "        7158.70917673, 15040.10763157, 15040.10763157, 15790.71700822,\n",
              "       15790.71700822, 15790.71700822, 15790.71700822, 15790.71700822,\n",
              "       15790.71700822, 11287.06074831,  7721.66620922, 11287.06074831,\n",
              "       11287.06074831, 11287.06074831, 24235.07249555, 24235.07249555,\n",
              "       23296.81077474, 23296.81077474,  3780.9669818 ,  9973.49433917,\n",
              "        3780.9669818 ,  9973.49433917,  9973.49433917,  6783.4044884 ,\n",
              "       12788.27950162, 10911.75605999, 10911.75605999, 14664.80294324,\n",
              "        6783.4044884 , 10536.45137166, 15415.4123199 , 15415.4123199 ,\n",
              "       15415.4123199 , 15415.4123199 , 24422.72483971, 24422.72483971,\n",
              "       15415.4123199 , 24047.42015139, 19168.45920315, 13914.19356659,\n",
              "       15415.4123199 ])"
            ]
          },
          "metadata": {
            "tags": []
          },
          "execution_count": 61
        }
      ]
    },
    {
      "cell_type": "markdown",
      "metadata": {
        "id": "a-1ScJ7RqTIA"
      },
      "source": [
        "# **Overfitting, Underfitting, Model Selection**"
      ]
    },
    {
      "cell_type": "markdown",
      "metadata": {
        "id": "xqiZqRnZqqJo"
      },
      "source": [
        "**Model Selection** "
      ]
    },
    {
      "cell_type": "markdown",
      "metadata": {
        "id": "oLlLZQykqu8O"
      },
      "source": [
        "We will decide how to choose the correct polynomial order and problems that arrive when selecting the wrong order."
      ]
    },
    {
      "cell_type": "markdown",
      "metadata": {
        "id": "3SgNU7F-tl7e"
      },
      "source": [
        "**Overfitting:**\n",
        "\n",
        "When we over train our data and the model fits the noise rather than the function.\n",
        "\n",
        "\n",
        "It turns out that the test data sometimes referred to as the out of sample data is a much better measure of how well your model performs in the real world. One reason for this is overfitting; let's go over some examples. It turns out these differences are more apparent in Multiple Linear Regression and Polynomial Regression so we will explore overfitting in that context.\n",
        "\n",
        "Let's create Multiple linear regression objects and train the model using 'horsepower', 'curb-weight', 'engine-size' and 'highway-mpg' as features."
      ]
    },
    {
      "cell_type": "code",
      "metadata": {
        "id": "7T_I_1lMJ8tB",
        "colab": {
          "base_uri": "https://localhost:8080/"
        },
        "outputId": "7a41afe6-f0ef-41a6-d527-2b333d73e8aa"
      },
      "source": [
        "lr=LinearRegression()\n",
        "\n",
        "# prediction using training data\n",
        "lr.fit(x_train[['horsepower','curb-weight','engine-size','highway-mpg']],y_train)\n",
        "yhat_train=lr.predict(x_train[['horsepower','curb-weight','engine-size','highway-mpg']])\n",
        "yhat_train\n",
        "\n",
        "# prediction using test data\n",
        "yhat_test=lr.predict(x_test[['horsepower','curb-weight','engine-size','highway-mpg']])\n",
        "yhat_test"
      ],
      "execution_count": 62,
      "outputs": [
        {
          "output_type": "execute_result",
          "data": {
            "text/plain": [
              "array([11350.45521266,  5884.59029431, 11207.42589659,  6640.92536133,\n",
              "       15566.43146855,  6028.00695806, 18960.07057256, 11088.19662175,\n",
              "       15600.1814176 ,  5724.40056613, 11346.06899279,  6582.96262769,\n",
              "       15520.88932069, 17998.41254063, 12280.30851581, 14321.39602302,\n",
              "        4820.98457242, 17618.51437556,  6533.81354758,  9373.33360027,\n",
              "        9872.14649298])"
            ]
          },
          "metadata": {
            "tags": []
          },
          "execution_count": 62
        }
      ]
    },
    {
      "cell_type": "code",
      "metadata": {
        "id": "JnJ6XH9BL2mT"
      },
      "source": [
        "# function to plot a distribution plot\n",
        "def DistributionPlot(RedFunction, BlueFunction, RedName, BlueName, Title):\n",
        "    width = 12\n",
        "    height = 10\n",
        "    plt.figure(figsize=(width, height))\n",
        "\n",
        "    ax1 = sns.distplot(RedFunction, hist=False, color=\"r\", label=RedName)\n",
        "    ax2 = sns.distplot(BlueFunction, hist=False, color=\"b\", label=BlueName, ax=ax1)\n",
        "\n",
        "    plt.title(Title)\n",
        "    plt.xlabel('Price (in dollars)')\n",
        "    plt.ylabel('Proportion of Cars')\n",
        "\n",
        "    plt.show()\n",
        "    plt.close()\n",
        "\n",
        "# function to plot a polynomial graph\n",
        "def PollyPlot(xtrain, xtest, y_train, y_test, lr,poly_transform):\n",
        "    width = 12\n",
        "    height = 10\n",
        "    plt.figure(figsize=(width, height))\n",
        "    \n",
        "    \n",
        "    #training data \n",
        "    #testing data \n",
        "    # lr:  linear regression object \n",
        "    #poly_transform:  polynomial transformation object \n",
        " \n",
        "    xmax=max([xtrain.values.max(), xtest.values.max()])\n",
        "\n",
        "    xmin=min([xtrain.values.min(), xtest.values.min()])\n",
        "\n",
        "    x=np.arange(xmin, xmax, 0.1)\n",
        "\n",
        "\n",
        "    plt.plot(xtrain, y_train, 'ro', label='Training Data')\n",
        "    plt.plot(xtest, y_test, 'go', label='Test Data')\n",
        "    plt.plot(x, lr.predict(poly_transform.fit_transform(x.reshape(-1, 1))), label='Predicted Function')\n",
        "    plt.ylim([-10000, 60000])\n",
        "    plt.ylabel('Price')\n",
        "    plt.legend()"
      ],
      "execution_count": 63,
      "outputs": []
    },
    {
      "cell_type": "markdown",
      "metadata": {
        "id": "6OOSAidNMHbd"
      },
      "source": [
        "Let's perform some model evaluation using our training and testing data separately. "
      ]
    },
    {
      "cell_type": "code",
      "metadata": {
        "id": "Czhu_FlhL-mU",
        "colab": {
          "base_uri": "https://localhost:8080/",
          "height": 706
        },
        "outputId": "e9bd807a-8787-481f-80bf-2665132b8b58"
      },
      "source": [
        "# firstly seeing the training data predictions vs the actual training price\n",
        "Title = 'Distribution  Plot of  Predicted Value Using Training Data vs Training Data Distribution'\n",
        "DistributionPlot(y_train, yhat_train, \"Actual Values (Train)\", \"Predicted Values (Train)\", Title)"
      ],
      "execution_count": 64,
      "outputs": [
        {
          "output_type": "stream",
          "text": [
            "/usr/local/lib/python3.7/dist-packages/seaborn/distributions.py:2557: FutureWarning: `distplot` is a deprecated function and will be removed in a future version. Please adapt your code to use either `displot` (a figure-level function with similar flexibility) or `kdeplot` (an axes-level function for kernel density plots).\n",
            "  warnings.warn(msg, FutureWarning)\n",
            "/usr/local/lib/python3.7/dist-packages/seaborn/distributions.py:2557: FutureWarning: `distplot` is a deprecated function and will be removed in a future version. Please adapt your code to use either `displot` (a figure-level function with similar flexibility) or `kdeplot` (an axes-level function for kernel density plots).\n",
            "  warnings.warn(msg, FutureWarning)\n"
          ],
          "name": "stderr"
        },
        {
          "output_type": "display_data",
          "data": {
            "image/png": "[encoded data removed]",
            "text/plain": [
              "<Figure size 864x720 with 1 Axes>"
            ]
          },
          "metadata": {
            "tags": [],
            "needs_background": "light"
          }
        }
      ]
    },
    {
      "cell_type": "markdown",
      "metadata": {
        "id": "rL3ePxkVMfbT"
      },
      "source": [
        "So far the model seems to be doing well in learning from the training dataset. But what happens when the model encounters new data from the testing dataset? When the model generates new values from the test data, we see the distribution of the predicted values is much different from the actual target values."
      ]
    },
    {
      "cell_type": "code",
      "metadata": {
        "id": "ENVIiyTFMgx3",
        "colab": {
          "base_uri": "https://localhost:8080/",
          "height": 706
        },
        "outputId": "c16b50d3-4d58-4e33-ddce-92e059ad0007"
      },
      "source": [
        "# secondly seeing the test data predictions vs the actual test price\n",
        "Title='Distribution  Plot of  Predicted Value Using Test Data vs Data Distribution of Test Data'\n",
        "DistributionPlot(y_test,yhat_test,\"Actual Values (Test)\",\"Predicted Values (Test)\",Title)"
      ],
      "execution_count": 65,
      "outputs": [
        {
          "output_type": "stream",
          "text": [
            "/usr/local/lib/python3.7/dist-packages/seaborn/distributions.py:2557: FutureWarning: `distplot` is a deprecated function and will be removed in a future version. Please adapt your code to use either `displot` (a figure-level function with similar flexibility) or `kdeplot` (an axes-level function for kernel density plots).\n",
            "  warnings.warn(msg, FutureWarning)\n",
            "/usr/local/lib/python3.7/dist-packages/seaborn/distributions.py:2557: FutureWarning: `distplot` is a deprecated function and will be removed in a future version. Please adapt your code to use either `displot` (a figure-level function with similar flexibility) or `kdeplot` (an axes-level function for kernel density plots).\n",
            "  warnings.warn(msg, FutureWarning)\n"
          ],
          "name": "stderr"
        },
        {
          "output_type": "display_data",
          "data": {
            "image/png": "[encoded data removed]",
            "text/plain": [
              "<Figure size 864x720 with 1 Axes>"
            ]
          },
          "metadata": {
            "tags": [],
            "needs_background": "light"
          }
        }
      ]
    },
    {
      "cell_type": "markdown",
      "metadata": {
        "id": "H4jr02aTMxYz"
      },
      "source": [
        "Comparing Figure 1 and Figure 2; it is evident the distribution of the test data in Figure 1 is much better at fitting the data. This difference in Figure 2 is apparent where the ranges are from 5000 to 15 000. This is where the distribution shape is exceptionally different. Let's see if polynomial regression also exhibits a drop in the prediction accuracy when analysing the test dataset."
      ]
    },
    {
      "cell_type": "markdown",
      "metadata": {
        "id": "b6mnfZTVNWPm"
      },
      "source": [
        "Overfitting occurs when the model fits the noise, not the underlying process. Therefore when testing your model using the test-set, your model does not perform as well as it is modelling noise, not the underlying process that generated the relationship. Let's create a degree 5 polynomial model.\n",
        "\n",
        "Let's use 55 percent of the data for training and the rest for testing:"
      ]
    },
    {
      "cell_type": "code",
      "metadata": {
        "id": "ifHMWwkCNXm0"
      },
      "source": [
        "x_train, x_test, y_train, y_test = train_test_split(x_data, y_data, test_size=0.45, random_state=0)"
      ],
      "execution_count": 66,
      "outputs": []
    },
    {
      "cell_type": "markdown",
      "metadata": {
        "id": "vfzWQUSZNjUD"
      },
      "source": [
        "We will perform a degree 5 polynomial transformation on the feature 'horse power'."
      ]
    },
    {
      "cell_type": "code",
      "metadata": {
        "id": "XovMX26fNwUY",
        "colab": {
          "base_uri": "https://localhost:8080/"
        },
        "outputId": "d5d610d2-53fc-47ed-b59d-c34aeb4a4c86"
      },
      "source": [
        "pr = PolynomialFeatures(degree=5)\n",
        "x_train_pr = pr.fit_transform(x_train[['horsepower']])\n",
        "x_test_pr = pr.fit_transform(x_test[['horsepower']])\n",
        "pr"
      ],
      "execution_count": 67,
      "outputs": [
        {
          "output_type": "execute_result",
          "data": {
            "text/plain": [
              "PolynomialFeatures(degree=5, include_bias=True, interaction_only=False,\n",
              "                   order='C')"
            ]
          },
          "metadata": {
            "tags": []
          },
          "execution_count": 67
        }
      ]
    },
    {
      "cell_type": "markdown",
      "metadata": {
        "id": "OL_tTAadN4vc"
      },
      "source": [
        "Now let's create a linear regression model \"poly\" and train it."
      ]
    },
    {
      "cell_type": "code",
      "metadata": {
        "id": "GpRaCfbTN5oL",
        "colab": {
          "base_uri": "https://localhost:8080/",
          "height": 627
        },
        "outputId": "40eca0c8-1b40-4126-a8fe-5d384aba2905"
      },
      "source": [
        "poly = LinearRegression()\n",
        "poly.fit(x_train_pr, y_train)\n",
        "yhat = poly.predict(x_test_pr) # to see the outputs\n",
        "yhat\n",
        "\n",
        "#Let's take the first five predicted values and compare it to the actual targets.\n",
        "print(\"Predicted values:\", yhat[0:4])\n",
        "print(\"True values:\", y_test[0:4].values)\n",
        "\n",
        "# checking through polynomial function\n",
        "PollyPlot(x_train[['horsepower']], x_test[['horsepower']], y_train, y_test, poly,pr)"
      ],
      "execution_count": 68,
      "outputs": [
        {
          "output_type": "stream",
          "text": [
            "Predicted values: [ 6724.76828468  7303.51314872 12213.8613518  18899.15291183]\n",
            "True values: [ 6295. 10698. 13860. 13499.]\n"
          ],
          "name": "stdout"
        },
        {
          "output_type": "display_data",
          "data": {
            "image/png": "[encoded data removed]",
            "text/plain": [
              "<Figure size 864x720 with 1 Axes>"
            ]
          },
          "metadata": {
            "tags": [],
            "needs_background": "light"
          }
        }
      ]
    },
    {
      "cell_type": "markdown",
      "metadata": {
        "id": "iSYhTmYnPFrq"
      },
      "source": [
        "We see that the estimated function appears to track the data but around 200 horsepower, the function begins to diverge from the data points."
      ]
    },
    {
      "cell_type": "code",
      "metadata": {
        "id": "3sJXRscZPG2Y",
        "colab": {
          "base_uri": "https://localhost:8080/"
        },
        "outputId": "bdeda544-7b28-4f81-a037-8f056fc14de2"
      },
      "source": [
        "# R^2 of the training data:\n",
        "poly.score(x_train_pr, y_train)\n",
        "\n",
        "# R^2 of the test data:\n",
        "poly.score(x_test_pr, y_test)"
      ],
      "execution_count": 69,
      "outputs": [
        {
          "output_type": "execute_result",
          "data": {
            "text/plain": [
              "-29.69540435894235"
            ]
          },
          "metadata": {
            "tags": []
          },
          "execution_count": 69
        }
      ]
    },
    {
      "cell_type": "markdown",
      "metadata": {
        "id": "r5zIxIMXPd7B"
      },
      "source": [
        "We see the R^2 for the training data is 0.5567 while the R^2 on the test data was -29.87. The lower the R^2, the worse the model, a Negative R^2 is a sign of overfitting.\n",
        "\n",
        "Let's see how the R^2 changes on the test data for different order polynomials and plot the results:"
      ]
    },
    {
      "cell_type": "code",
      "metadata": {
        "id": "xwhho3nsPlNx",
        "colab": {
          "base_uri": "https://localhost:8080/",
          "height": 311
        },
        "outputId": "8528b381-f082-480d-8c71-7b4b141b3ddc"
      },
      "source": [
        "# choosing the best polynomial order,we can use mean square error as well\n",
        "Rsqu_test = []\n",
        "\n",
        "order = [1, 2, 3, 4]\n",
        "for n in order:\n",
        "    pr = PolynomialFeatures(degree=n)\n",
        "    \n",
        "    x_train_pr = pr.fit_transform(x_train[['horsepower']])\n",
        "    \n",
        "    x_test_pr = pr.fit_transform(x_test[['horsepower']])    \n",
        "    \n",
        "    lr.fit(x_train_pr, y_train)\n",
        "    \n",
        "    Rsqu_test.append(lr.score(x_test_pr, y_test))\n",
        "\n",
        "plt.plot(order, Rsqu_test)\n",
        "plt.xlabel('order')\n",
        "plt.ylabel('R^2')\n",
        "plt.title('R^2 Using Test Data')\n",
        "plt.text(3, 0.75, 'Maximum R^2 ')    "
      ],
      "execution_count": 70,
      "outputs": [
        {
          "output_type": "execute_result",
          "data": {
            "text/plain": [
              "Text(3, 0.75, 'Maximum R^2 ')"
            ]
          },
          "metadata": {
            "tags": []
          },
          "execution_count": 70
        },
        {
          "output_type": "display_data",
          "data": {
            "image/png": "[encoded data removed]",
            "text/plain": [
              "<Figure size 432x288 with 1 Axes>"
            ]
          },
          "metadata": {
            "tags": [],
            "needs_background": "light"
          }
        }
      ]
    },
    {
      "cell_type": "markdown",
      "metadata": {
        "id": "qioqEvRrQDeG"
      },
      "source": [
        "We see the R^2 gradually increases until an order three polynomial is used. Then the R^2 dramatically decreases at four."
      ]
    },
    {
      "cell_type": "code",
      "metadata": {
        "id": "4o1-_S0pQ5Zg",
        "colab": {
          "base_uri": "https://localhost:8080/",
          "height": 675,
          "referenced_widgets": [
            "97841649f08e49c7975327738f0878a7",
            "59836bcc6fb744048d7f36291046ac17",
            "afb0cfd088c04b779a6fcdf7c0adb20b",
            "8cfed29793aa4f6bb7294bff61f3345b",
            "947028dd8e314ef69dbda8a25ba41cfd",
            "b5b1443a1fb74a39920368467712e251",
            "7fd4163105fb4fc58fb094615ac53aa1",
            "eb909315520c42278675577471dc61b4",
            "a6c2d9bc6be748f98f2f0b4bb4d56370",
            "1ff58a922e194db091251aa9347da7c3"
          ]
        },
        "outputId": "4e801cca-4e7f-4122-e70d-bb4f90d0c0d2"
      },
      "source": [
        "# this allows you to choose freely the best order and interact \n",
        "\n",
        "from ipywidgets import interact, interactive, fixed, interact_manual\n",
        "def f(order, test_data):\n",
        "    x_train, x_test, y_train, y_test = train_test_split(x_data, y_data, test_size=test_data, random_state=0)\n",
        "    pr = PolynomialFeatures(degree=order)\n",
        "    x_train_pr = pr.fit_transform(x_train[['horsepower']])\n",
        "    x_test_pr = pr.fit_transform(x_test[['horsepower']])\n",
        "    poly = LinearRegression()\n",
        "    poly.fit(x_train_pr,y_train)\n",
        "    PollyPlot(x_train[['horsepower']], x_test[['horsepower']], y_train,y_test, poly, pr)\n",
        "\n",
        "interact(f, order=(0, 6, 1), test_data=(0.05, 0.95, 0.05))"
      ],
      "execution_count": 71,
      "outputs": [
        {
          "output_type": "display_data",
          "data": {
            "application/vnd.jupyter.widget-view+json": {
              "model_id": "97841649f08e49c7975327738f0878a7",
              "version_minor": 0,
              "version_major": 2
            },
            "text/plain": [
              "interactive(children=(IntSlider(value=3, description='order', max=6), FloatSlider(value=0.45, description='tes…"
            ]
          },
          "metadata": {
            "tags": []
          }
        },
        {
          "output_type": "execute_result",
          "data": {
            "text/plain": [
              "<function __main__.f>"
            ]
          },
          "metadata": {
            "tags": []
          },
          "execution_count": 71
        }
      ]
    },
    {
      "cell_type": "markdown",
      "metadata": {
        "id": "edpTQiiMUzRn"
      },
      "source": [
        "Now using multiple feautues to predict values:"
      ]
    },
    {
      "cell_type": "code",
      "metadata": {
        "id": "4zEpPnZjU4P7",
        "colab": {
          "base_uri": "https://localhost:8080/",
          "height": 706
        },
        "outputId": "fddbd014-7a47-43d4-b96b-c117657b9526"
      },
      "source": [
        "pr1=PolynomialFeatures(degree=2)\n",
        "\n",
        "x_train_pr1 = pr1.fit_transform(x_train[['horsepower','curb-weight','engine-size','highway-mpg']])\n",
        "x_test_pr1 = pr1.fit_transform(x_test[['horsepower','curb-weight','engine-size','highway-mpg']])\n",
        "x_train_pr1.shape # will tell us the amount of variables used in the polynomial\n",
        "\n",
        "poly1=LinearRegression()\n",
        "poly1.fit(x_train_pr1,y_train)\n",
        "\n",
        "yhat=poly1.predict(x_test_pr1)\n",
        "Title='Distribution  Plot of  Predicted Value Using Test Data vs Data Distribution of Test Data'\n",
        "DistributionPlot(y_test,yhat_test,\"Actual Values (Test)\",\"Predicted Values (Test)\",Title)"
      ],
      "execution_count": 72,
      "outputs": [
        {
          "output_type": "stream",
          "text": [
            "/usr/local/lib/python3.7/dist-packages/seaborn/distributions.py:2557: FutureWarning: `distplot` is a deprecated function and will be removed in a future version. Please adapt your code to use either `displot` (a figure-level function with similar flexibility) or `kdeplot` (an axes-level function for kernel density plots).\n",
            "  warnings.warn(msg, FutureWarning)\n",
            "/usr/local/lib/python3.7/dist-packages/seaborn/distributions.py:2557: FutureWarning: `distplot` is a deprecated function and will be removed in a future version. Please adapt your code to use either `displot` (a figure-level function with similar flexibility) or `kdeplot` (an axes-level function for kernel density plots).\n",
            "  warnings.warn(msg, FutureWarning)\n"
          ],
          "name": "stderr"
        },
        {
          "output_type": "display_data",
          "data": {
            "image/png": "[encoded data removed]",
            "text/plain": [
              "<Figure size 864x720 with 1 Axes>"
            ]
          },
          "metadata": {
            "tags": [],
            "needs_background": "light"
          }
        }
      ]
    },
    {
      "cell_type": "code",
      "metadata": {
        "id": "kGZ6A1BtVnWP",
        "colab": {
          "base_uri": "https://localhost:8080/",
          "height": 311
        },
        "outputId": "f2b8732e-73e4-40b0-e34c-32ecaacf7624"
      },
      "source": [
        "# choosing the best polynomial order,we can use mean square error as well\n",
        "Rsqu_test = []\n",
        "\n",
        "order = [1, 2, 3, 4]\n",
        "for n in order:\n",
        "    pr = PolynomialFeatures(degree=n)\n",
        "    \n",
        "    x_train_pr = pr.fit_transform(x_train[['horsepower','curb-weight','engine-size','highway-mpg']])\n",
        "    \n",
        "    x_test_pr = pr.fit_transform(x_test[['horsepower','curb-weight','engine-size','highway-mpg']])    \n",
        "    \n",
        "    lr.fit(x_train_pr, y_train)\n",
        "    \n",
        "    Rsqu_test.append(lr.score(x_test_pr, y_test))\n",
        "\n",
        "plt.plot(order, Rsqu_test)\n",
        "plt.xlabel('order')\n",
        "plt.ylabel('R^2')\n",
        "plt.title('R^2 Using Test Data')\n",
        "plt.text(3, 0.75, 'Maximum R^2 ')    "
      ],
      "execution_count": 73,
      "outputs": [
        {
          "output_type": "execute_result",
          "data": {
            "text/plain": [
              "Text(3, 0.75, 'Maximum R^2 ')"
            ]
          },
          "metadata": {
            "tags": []
          },
          "execution_count": 73
        },
        {
          "output_type": "display_data",
          "data": {
            "image/png": "[encoded data removed]",
            "text/plain": [
              "<Figure size 432x288 with 1 Axes>"
            ]
          },
          "metadata": {
            "tags": [],
            "needs_background": "light"
          }
        }
      ]
    },
    {
      "cell_type": "markdown",
      "metadata": {
        "id": "cqpmFMSqJ2wJ"
      },
      "source": [
        "\n",
        "**Underfitting:**\n",
        "\n",
        "Where our model is too simple to fit the data"
      ]
    },
    {
      "cell_type": "markdown",
      "metadata": {
        "id": "hd0KJlrzwAvO"
      },
      "source": [
        "# **Ridge Regression** (prevents overfitting)"
      ]
    },
    {
      "cell_type": "markdown",
      "metadata": {
        "id": "04auprmVw3aq"
      },
      "source": [
        "\n",
        "Ridge regression is a regression that is employed in a Multiple regression model when Multicollinearity occurs. Multicollinearity is when there is a strong relationship among the independent variables. Ridge regression is very common with polynomial regression.  \n",
        "\n",
        "In many cases, real data has outliers (data points that are scattered far away from all the other data points), so if we use any order polynomial, say 10th, the function will not fully fit the data because of the outlier. The magnitude of the coefficients of the polynomials are extremely large so to control the magnitude of the coefficients, we use the parameter 'alpha' from ridge regression.\n",
        "\n",
        "When alpha is zero, overfitting will occur (incase of outliers in data) and when alpha is large then underfitting will occur because the coefficients will become close to zero as increasing alpha reduces the magnitude of the coefficients.\n",
        "\n",
        "\n",
        "In this section, we will review Ridge Regression we will see how the parameter Alfa changes the model. Just a note here our test data will be used as validation data.\n",
        "\n",
        "Let's perform a degree two polynomial transformation on our data."
      ]
    },
    {
      "cell_type": "code",
      "metadata": {
        "id": "_J0f7V3m4Br7",
        "colab": {
          "base_uri": "https://localhost:8080/"
        },
        "outputId": "cd8b57df-7ac6-416c-a06f-c4b8af514f96"
      },
      "source": [
        "pr=PolynomialFeatures(degree=2)\n",
        "x_train_pr=pr.fit_transform(x_train[['horsepower', 'curb-weight', 'engine-size', 'highway-mpg','normalized-losses','symboling']])\n",
        "x_test_pr=pr.fit_transform(x_test[['horsepower', 'curb-weight', 'engine-size', 'highway-mpg','normalized-losses','symboling']])\n",
        "\n",
        "from sklearn.linear_model import Ridge\n",
        "\n",
        "# alpha is a hyper parameter\n",
        "RidgeModel=Ridge(alpha=0.1)\n",
        "RidgeModel.fit(x_train_pr,y_train)\n",
        "\n",
        "yhat=RidgeModel.predict(x_test_pr)\n",
        "\n",
        "#Let's compare the first five predicted samples to our test set\n",
        "print('predicted:', yhat[0:4])\n",
        "print('test set :', y_test[0:4].values)"
      ],
      "execution_count": 74,
      "outputs": [
        {
          "output_type": "stream",
          "text": [
            "predicted: [ 6572.08492004  9591.19043609 20829.0549764  19346.88476209]\n",
            "test set : [ 6295. 10698. 13860. 13499.]\n"
          ],
          "name": "stdout"
        },
        {
          "output_type": "stream",
          "text": [
            "/usr/local/lib/python3.7/dist-packages/sklearn/linear_model/_ridge.py:148: LinAlgWarning: Ill-conditioned matrix (rcond=1.02971e-16): result may not be accurate.\n",
            "  overwrite_a=True).T\n"
          ],
          "name": "stderr"
        }
      ]
    },
    {
      "cell_type": "markdown",
      "metadata": {
        "id": "fAQNUCUdjpiX"
      },
      "source": [
        "In order to choose what alpha value will best suit our model, we will make an array of possible alpha values say alpha_list=[0.1,0.01,10], we will use training and validation data sets, we will train the data set using the training data then make a prediction using the validation data using r-square(can also use mean square error MSE) for each of the alpha values. Which even alpha value has the largest r-square value will be selected."
      ]
    },
    {
      "cell_type": "code",
      "metadata": {
        "id": "jDQuwUWaYArB"
      },
      "source": [
        "Rsqu_test = []\n",
        "Rsqu_train = []\n",
        "dummy1 = []\n",
        "Alpha = 10 * np.array(range(0,1000))\n",
        "for alpha in Alpha:\n",
        "    RigeModel = Ridge(alpha=alpha) \n",
        "    RigeModel.fit(x_train_pr, y_train)\n",
        "    Rsqu_test.append(RigeModel.score(x_test_pr, y_test)) # score is used for r-square\n",
        "    Rsqu_train.append(RigeModel.score(x_train_pr, y_train))"
      ],
      "execution_count": 75,
      "outputs": []
    },
    {
      "cell_type": "markdown",
      "metadata": {
        "id": "lajXNmFmYide"
      },
      "source": [
        "We can plot out the value of R-Sqaure for different alphas"
      ]
    },
    {
      "cell_type": "code",
      "metadata": {
        "id": "JNQJrH6qYi4p",
        "colab": {
          "base_uri": "https://localhost:8080/",
          "height": 622
        },
        "outputId": "573cd2a9-226d-4365-9686-b4b49e18d4b3"
      },
      "source": [
        "width = 12\n",
        "height = 10\n",
        "plt.figure(figsize=(width, height))\n",
        "\n",
        "plt.plot(Alpha,Rsqu_test, label='validation data  ')\n",
        "plt.plot(Alpha,Rsqu_train, 'r', label='training Data ')\n",
        "plt.xlabel('alpha')\n",
        "plt.ylabel('R^2')\n",
        "plt.legend()"
      ],
      "execution_count": 76,
      "outputs": [
        {
          "output_type": "execute_result",
          "data": {
            "text/plain": [
              "<matplotlib.legend.Legend at 0x7f27e783de90>"
            ]
          },
          "metadata": {
            "tags": []
          },
          "execution_count": 76
        },
        {
          "output_type": "display_data",
          "data": {
            "image/png": "[encoded data removed]",
            "text/plain": [
              "<Figure size 864x720 with 1 Axes>"
            ]
          },
          "metadata": {
            "tags": [],
            "needs_background": "light"
          }
        }
      ]
    },
    {
      "cell_type": "markdown",
      "metadata": {
        "id": "vN4x8uk2Y2hr"
      },
      "source": [
        "Here the model is built and tested on the same data. So the training and test data are the same.\n",
        "\n",
        "The red line in figure 6 represents the R^2 of the training data.\n",
        "As Alpha increases the R^2 decreases.\n",
        "Therefore as Alpha increases the model performs worse on the training data.\n",
        "\n",
        "The blue line represents the R^2 on the validation data.\n",
        "As the value for Alpha increases the R^2 increases and converges at a point"
      ]
    },
    {
      "cell_type": "markdown",
      "metadata": {
        "id": "7BM0n3otlnmJ"
      },
      "source": [
        "# **Grid Search**"
      ]
    },
    {
      "cell_type": "markdown",
      "metadata": {
        "id": "S5vrVrLAlv6K"
      },
      "source": [
        "Grid search allows us to scan through multiple parameters with few lines of code\n",
        "\n",
        "Scikit learn provides us the ability to iterate over these hyperparameters such as alpha using a cross-validation technique called grid search.\n",
        "\n",
        "It takes the model or object that we would like to train along with different hyperparameter values and then calculates the MSE(mean squared error) or R-Squared for various hyperparameter values allowing you to choose the best hyperparameter value/s.\n",
        "\n",
        "In order to choose what alpha value will best suit our model, we will make an array of possible alpha values say alpha_list=[0.1,0.01,10], we will use training and validation data sets, we will train the data set using the training data then make a prediction using the validation data using r-square(can also use mean square error MSE) for each of the alpha values. Which even alpha value has the largest r-square value will be selected.\n",
        "\n",
        "Grid search performs the above process.\n",
        "\n",
        "Apply Ridge Regression to linear regression models: Ridge regression is a regression that is employed in a Multiple regression model when Multicollinearity occurs.\n",
        "\n",
        "\n",
        "Tune hyper-parameters of an estimator using Grid search: Grid search is a time-efficient tuning technique that exhaustively computes the optimum values of hyperparameters performed on specific parameter values of estimators.\n"
      ]
    },
    {
      "cell_type": "code",
      "metadata": {
        "id": "35hf5xPmluZh",
        "colab": {
          "base_uri": "https://localhost:8080/"
        },
        "outputId": "bd0b0242-4adf-411c-9270-11fc263f902d"
      },
      "source": [
        "# heres how to perform grid search\n",
        "\n",
        "from sklearn.model_selection import GridSearchCV\n",
        "\n",
        "parameters1= [{'alpha': [0.001,0.1,1, 10, 100, 1000, 10000, 100000, 100000]}] # we can also use normalize parameter to normalize data then fit it\n",
        "\n",
        "RR=Ridge()\n",
        "\n",
        "Grid1=GridSearchCV(RR,parameters1,cv=4) # 4 is the number of folds\n",
        "Grid1.fit(x_data[['horsepower','curb-weight', 'engine-size', 'highway-mpg']],y_data)\n",
        "BestRR=Grid1.best_estimator_\n",
        "\n",
        "print(BestRR)\n",
        "\n",
        "##scores=Grid1.cv_results_\n",
        "#scores['mean_test_score']\n",
        "\n",
        "# we now test our model on the test data\n",
        "BestRR.score(x_test[['horsepower', 'curb-weight', 'engine-size', 'highway-mpg']], y_test)\n",
        "\n",
        "yhat=BestRR.predict(x_test[['horsepower', 'curb-weight', 'engine-size', 'highway-mpg']]) #to know the predicted values\n",
        "\n",
        "yhat"
      ],
      "execution_count": 78,
      "outputs": [
        {
          "output_type": "stream",
          "text": [
            "Ridge(alpha=10000, copy_X=True, fit_intercept=True, max_iter=None,\n",
            "      normalize=False, random_state=None, solver='auto', tol=0.001)\n"
          ],
          "name": "stdout"
        },
        {
          "output_type": "execute_result",
          "data": {
            "text/plain": [
              "array([ 5424.08752986, 10059.02156054, 19033.79411975, 22362.36261826,\n",
              "       21332.24630424,  9558.07959027, 13949.8576991 ,  5711.45399612,\n",
              "       17926.58344271,  7030.15515201, 11233.50805631, 24611.92068541,\n",
              "        7031.90728369,  8212.92826644, 19260.22743035, 16182.29203358,\n",
              "        6228.8407519 , 13826.99113397,  9747.46562788,  5797.24976195,\n",
              "        8073.54240389, 12574.67449513, 34229.07403288,  7451.92675027,\n",
              "       10394.25507373, 24392.17323414,  9228.45841337,  9670.71812147,\n",
              "       18085.13480965, 34229.07403288, 28007.49306103, 10884.4500226 ,\n",
              "        7193.3489976 , 19308.47843384,  8804.69476435, 11126.93734198,\n",
              "       13767.0600109 , 15762.37173304, 11331.2683208 , 15697.0476046 ,\n",
              "        6744.05115386, 23096.78595966,  9119.33316049, 18192.07793888,\n",
              "       17372.80649091, 12966.90113101, 17914.52259553,  6096.90537732,\n",
              "        5870.06588406, 10808.06264403, 36347.94487451, 24392.17323414,\n",
              "       10412.29107156, 11121.45176782,  7172.94523549,  5870.06588406,\n",
              "        5568.25816917,  7626.72585924, 11338.08710357, 11033.73764606,\n",
              "       14081.69840704, 11231.32549346,  9243.44119414,  5598.88663883,\n",
              "        7169.99443918,  6640.08519632,  7870.49565432, 15200.30327951,\n",
              "        5751.25252878,  5945.88302072, 10239.63048267,  6620.10815529,\n",
              "        8702.35216433, 22655.51461561, 10028.51159004,  6190.60177327,\n",
              "       18192.07793888, 26645.88702678, 11968.70661792, 11910.92466781,\n",
              "       14713.06601045, 43052.77194389,  8903.46280349, 16767.4862605 ,\n",
              "       14824.11453009, 15573.7025099 , 18923.45658924, 11158.59415247,\n",
              "        8696.65797348, 20456.63981415, 12827.59099148])"
            ]
          },
          "metadata": {
            "tags": []
          },
          "execution_count": 78
        }
      ]
    }
  ]
}